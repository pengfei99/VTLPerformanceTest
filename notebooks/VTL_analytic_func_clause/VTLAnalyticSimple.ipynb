{
 "cells": [
  {
   "cell_type": "markdown",
   "metadata": {
    "pycharm": {
     "name": "#%% md\n"
    }
   },
   "source": [
    "# VTL Simple analytic function\n",
    "\n"
   ]
  },
  {
   "cell_type": "code",
   "execution_count": 1,
   "metadata": {
    "collapsed": false,
    "jupyter": {
     "outputs_hidden": false
    },
    "pycharm": {
     "name": "#%%\n"
    }
   },
   "outputs": [],
   "source": [
    "from pyspark.sql import SparkSession,DataFrame\n",
    "from pyspark.sql.types import StructField, StructType, StringType, DoubleType, IntegerType, LongType, DecimalType\n",
    "import os\n",
    "from pyspark.sql.functions import lit, count,sum,avg,collect_list,min,max,percentile_approx,stddev_pop,stddev_samp,var_pop,var_samp\n",
    "from pyspark.sql.window import Window"
   ]
  },
  {
   "cell_type": "code",
   "execution_count": 2,
   "metadata": {
    "collapsed": false,
    "jupyter": {
     "outputs_hidden": false
    },
    "pycharm": {
     "name": "#%%\n"
    }
   },
   "outputs": [
    {
     "name": "stderr",
     "output_type": "stream",
     "text": [
      "WARNING: An illegal reflective access operation has occurred\n",
      "WARNING: Illegal reflective access by org.apache.spark.unsafe.Platform (file:/opt/spark/jars/spark-unsafe_2.12-3.2.1.jar) to constructor java.nio.DirectByteBuffer(long,int)\n",
      "WARNING: Please consider reporting this to the maintainers of org.apache.spark.unsafe.Platform\n",
      "WARNING: Use --illegal-access=warn to enable warnings of further illegal reflective access operations\n",
      "WARNING: All illegal access operations will be denied in a future release\n",
      "Setting default log level to \"WARN\".\n",
      "To adjust logging level use sc.setLogLevel(newLevel). For SparkR, use setLogLevel(newLevel).\n",
      "2022-07-11 12:50:42,630 WARN util.NativeCodeLoader: Unable to load native-hadoop library for your platform... using builtin-java classes where applicable\n"
     ]
    }
   ],
   "source": [
    "local = True\n",
    "\n",
    "if local:\n",
    "    spark = SparkSession.builder \\\n",
    "        .master(\"local[4]\") \\\n",
    "        .appName(\"VTLAnalytic\")\\\n",
    "        .getOrCreate()\n",
    "else:\n",
    "    spark = SparkSession.builder\\\n",
    "        .master(\"k8s://https://kubernetes.default.svc:443\") \\\n",
    "        .appName(\"VTLAnalytic\")\\\n",
    "        .config(\"spark.kubernetes.container.image\", \"inseefrlab/jupyter-datascience:py3.9.7-spark3.2.0\")\\\n",
    "        .config(\"spark.kubernetes.authenticate.driver.serviceAccountName\", os.environ['KUBERNETES_SERVICE_ACCOUNT'])\\\n",
    "        .config(\"spark.executor.instances\", \"4\")\\\n",
    "        .config(\"spark.executor.memory\", \"8g\")\\\n",
    "        .config(\"spark.kubernetes.namespace\", os.environ['KUBERNETES_NAMESPACE'])\\\n",
    "        .getOrCreate()"
   ]
  },
  {
   "cell_type": "code",
   "execution_count": 3,
   "metadata": {
    "collapsed": false,
    "jupyter": {
     "outputs_hidden": false
    },
    "pycharm": {
     "name": "#%%\n"
    }
   },
   "outputs": [
    {
     "name": "stderr",
     "output_type": "stream",
     "text": [
      "[Stage 0:>                                                          (0 + 1) / 1]\r"
     ]
    },
    {
     "name": "stdout",
     "output_type": "stream",
     "text": [
      "+----+----+----+----+----+\n",
      "|Id_1|Id_2|Year|Me_1|Me_2|\n",
      "+----+----+----+----+----+\n",
      "|   A|  XX|2000|   3| 1.0|\n",
      "|   A|  XX|2001|   4| 9.0|\n",
      "|   A|  XX|2002|   7| 5.0|\n",
      "|   A|  XX|2003|   6| 8.0|\n",
      "|   A|  YY|2000|   9| 3.0|\n",
      "|   A|  YY|2001|   5| 4.0|\n",
      "|   A|  YY|2002|  10| 2.0|\n",
      "|   A|  YY|2003|   5| 7.0|\n",
      "+----+----+----+----+----+\n",
      "\n"
     ]
    },
    {
     "name": "stderr",
     "output_type": "stream",
     "text": [
      "                                                                                \r"
     ]
    }
   ],
   "source": [
    "data=[(\"A\", \"XX\", 2000, 3, 1.0),\n",
    "    (\"A\", \"XX\", 2001, 4, 9.0),\n",
    "    (\"A\", \"XX\", 2002, 7, 5.0),\n",
    "    (\"A\", \"XX\", 2003, 6, 8.0),\n",
    "    (\"A\", \"YY\", 2000, 9, 3.0),\n",
    "    (\"A\", \"YY\", 2001, 5, 4.0),\n",
    "    (\"A\", \"YY\", 2002, 10, 2.0),\n",
    "    (\"A\", \"YY\", 2003, 5, 7.0)]\n",
    "\n",
    "schema=StructType([StructField(\"Id_1\",StringType(),True),\n",
    "                   StructField(\"Id_2\",StringType(),True),\n",
    "                   StructField(\"Year\",IntegerType(),True),\n",
    "                   StructField(\"Me_1\",IntegerType(),True),\n",
    "                   StructField(\"Me_2\",DoubleType(),True)])\n",
    "\n",
    "df=spark.createDataFrame(data, schema)\n",
    "df.show()"
   ]
  },
  {
   "cell_type": "markdown",
   "metadata": {
    "pycharm": {
     "name": "#%% md\n"
    }
   },
   "source": [
    "## 1.1 Count\n",
    "\n",
    "### 1.1.1 Exp1 : window only has partition clause\n",
    "\n",
    "The vtl query:\n",
    "\n",
    "```text\n",
    "res := count ( ds1 over ( partition by Id_1 ) )\n",
    "```\n"
   ]
  },
  {
   "cell_type": "code",
   "execution_count": 11,
   "metadata": {
    "collapsed": false,
    "jupyter": {
     "outputs_hidden": false
    },
    "pycharm": {
     "name": "#%%\n"
    }
   },
   "outputs": [
    {
     "name": "stdout",
     "output_type": "stream",
     "text": [
      "+----+----+----+----+----+----------+----------+\n",
      "|Id_1|Id_2|Year|Me_1|Me_2|count_Me_1|count_Me_2|\n",
      "+----+----+----+----+----+----------+----------+\n",
      "|   A|  XX|2000|   3| 1.0|         8|         8|\n",
      "|   A|  XX|2001|   4| 9.0|         8|         8|\n",
      "|   A|  XX|2002|   7| 5.0|         8|         8|\n",
      "|   A|  XX|2003|   6| 8.0|         8|         8|\n",
      "|   A|  YY|2000|   9| 3.0|         8|         8|\n",
      "|   A|  YY|2001|   5| 4.0|         8|         8|\n",
      "|   A|  YY|2002|  10| 2.0|         8|         8|\n",
      "|   A|  YY|2003|   5| 7.0|         8|         8|\n",
      "+----+----+----+----+----+----------+----------+\n",
      "\n"
     ]
    }
   ],
   "source": [
    "partition_col_name=\"Id_1\"\n",
    "\n",
    " \n",
    "win_name=Window.partitionBy(partition_col_name)\n",
    "target_col_name1=\"Me_1\"\n",
    "target_col_name2=\"Me_2\"\n",
    "new_col_name1=f\"count_{target_col_name1}\"\n",
    "new_col_name2=f\"count_{target_col_name2}\"\n",
    "df_count=df.withColumn(new_col_name1,count(target_col_name1).over(win_name))\\\n",
    "           .withColumn(new_col_name2,count(target_col_name2).over(win_name))\n",
    "df_count.show()"
   ]
  },
  {
   "cell_type": "markdown",
   "metadata": {},
   "source": [
    "### 1.1.2 Exp 2: window has partition and order by\n",
    "\n",
    "The vtl query:\n",
    "\n",
    "```text\n",
    "res := count ( ds1 over ( partition by Id_1 order by Id_2) )\n",
    "```\n"
   ]
  },
  {
   "cell_type": "code",
   "execution_count": 12,
   "metadata": {},
   "outputs": [
    {
     "name": "stdout",
     "output_type": "stream",
     "text": [
      "+----+----+----+----+----+----------+----------+\n",
      "|Id_1|Id_2|Year|Me_1|Me_2|count_Me_1|count_Me_2|\n",
      "+----+----+----+----+----+----------+----------+\n",
      "|   A|  XX|2000|   3| 1.0|         4|         4|\n",
      "|   A|  XX|2001|   4| 9.0|         4|         4|\n",
      "|   A|  XX|2002|   7| 5.0|         4|         4|\n",
      "|   A|  XX|2003|   6| 8.0|         4|         4|\n",
      "|   A|  YY|2000|   9| 3.0|         8|         8|\n",
      "|   A|  YY|2001|   5| 4.0|         8|         8|\n",
      "|   A|  YY|2002|  10| 2.0|         8|         8|\n",
      "|   A|  YY|2003|   5| 7.0|         8|         8|\n",
      "+----+----+----+----+----+----------+----------+\n",
      "\n"
     ]
    }
   ],
   "source": [
    "\n",
    "win_name_with_order=Window.partitionBy(partition_col_name).orderBy(\"Id_2\")\n",
    "\n",
    "df_count_with_order=df.withColumn(new_col_name1,count(target_col_name1).over(win_name_with_order))\\\n",
    "           .withColumn(new_col_name2,count(target_col_name2).over(win_name_with_order))\n",
    "\n",
    "df_count_with_order.show(20)"
   ]
  },
  {
   "cell_type": "markdown",
   "metadata": {},
   "source": [
    "### 1.1.3 Exp 3: window has partition, order by and data point\n",
    "\n",
    "The vtl query:\n",
    "\n",
    "```text\n",
    "res := count ( ds1 over ( partition by Id_1 order by Id_2 data points between 2 preceding and 2 following) )\n",
    "```"
   ]
  },
  {
   "cell_type": "code",
   "execution_count": 14,
   "metadata": {},
   "outputs": [
    {
     "name": "stdout",
     "output_type": "stream",
     "text": [
      "+----+----+----+----+----+----------+----------+\n",
      "|Id_1|Id_2|Year|Me_1|Me_2|count_Me_1|count_Me_2|\n",
      "+----+----+----+----+----+----------+----------+\n",
      "|   A|  XX|2000|   3| 1.0|         3|         3|\n",
      "|   A|  XX|2001|   4| 9.0|         4|         4|\n",
      "|   A|  XX|2002|   7| 5.0|         5|         5|\n",
      "|   A|  XX|2003|   6| 8.0|         5|         5|\n",
      "|   A|  YY|2000|   9| 3.0|         5|         5|\n",
      "|   A|  YY|2001|   5| 4.0|         5|         5|\n",
      "|   A|  YY|2002|  10| 2.0|         4|         4|\n",
      "|   A|  YY|2003|   5| 7.0|         3|         3|\n",
      "+----+----+----+----+----+----------+----------+\n",
      "\n"
     ]
    }
   ],
   "source": [
    "win_name_with_order_dp=Window.partitionBy(partition_col_name).orderBy(\"Id_2\").rowsBetween(-2,2)\n",
    "\n",
    "df_count_with_order_dp=df.withColumn(new_col_name1,count(target_col_name1).over(win_name_with_order_dp))\\\n",
    "           .withColumn(new_col_name2,count(target_col_name2).over(win_name_with_order_dp))\n",
    "\n",
    "df_count_with_order_dp.show(20)"
   ]
  },
  {
   "cell_type": "markdown",
   "metadata": {},
   "source": [
    "### 1.1.4 Exp 4: window has partition, order by and range \n",
    "\n",
    "The vtl query:\n",
    "\n",
    "```text\n",
    "res := count ( ds1 over ( partition by Id_1 order by Year range between -1 and 1) )\n",
    "```"
   ]
  },
  {
   "cell_type": "code",
   "execution_count": 5,
   "metadata": {},
   "outputs": [
    {
     "name": "stdout",
     "output_type": "stream",
     "text": [
      "+----+----+----+----+----+----------+----------+\n",
      "|Id_1|Id_2|Year|Me_1|Me_2|count_Me_1|count_Me_2|\n",
      "+----+----+----+----+----+----------+----------+\n",
      "|   A|  XX|2000|   3| 1.0|         6|         6|\n",
      "|   A|  YY|2000|   9| 3.0|         6|         6|\n",
      "|   A|  XX|2001|   4| 9.0|         8|         8|\n",
      "|   A|  YY|2001|   5| 4.0|         8|         8|\n",
      "|   A|  XX|2002|   7| 5.0|         8|         8|\n",
      "|   A|  YY|2002|  10| 2.0|         8|         8|\n",
      "|   A|  XX|2003|   6| 8.0|         6|         6|\n",
      "|   A|  YY|2003|   5| 7.0|         6|         6|\n",
      "+----+----+----+----+----+----------+----------+\n",
      "\n"
     ]
    }
   ],
   "source": [
    "win_name_with_order_range=Window.partitionBy(partition_col_name).orderBy(\"Year\").rangeBetween(-2,2)\n",
    "\n",
    "df_count_with_order_range=df.withColumn(new_col_name1,count(target_col_name1).over(win_name_with_order_range))\\\n",
    "           .withColumn(new_col_name2,count(target_col_name2).over(win_name_with_order_range))\n",
    "\n",
    "df_count_with_order_range.show(20)"
   ]
  },
  {
   "cell_type": "code",
   "execution_count": 6,
   "metadata": {
    "collapsed": false,
    "jupyter": {
     "outputs_hidden": false
    },
    "pycharm": {
     "name": "#%%\n"
    }
   },
   "outputs": [
    {
     "name": "stdout",
     "output_type": "stream",
     "text": [
      "root\n",
      " |-- Id_1: string (nullable = true)\n",
      " |-- Id_2: string (nullable = true)\n",
      " |-- Id_3: integer (nullable = true)\n",
      " |-- Me_1: integer (nullable = true)\n",
      " |-- Me_2: integer (nullable = true)\n",
      "\n"
     ]
    }
   ],
   "source": [
    "df.printSchema()"
   ]
  },
  {
   "cell_type": "markdown",
   "metadata": {},
   "source": [
    "### 1.1.5 Exp5: window inside a calc statement \n",
    "\n",
    "\n",
    "The vtl query:\n",
    "\n",
    "```text\n",
    "res := ds1 [ calc count_Me_1:= count ( Me_1 over ( partition by Id_1,Id_2 order by Year ) )];\n",
    "```"
   ]
  },
  {
   "cell_type": "code",
   "execution_count": 14,
   "metadata": {},
   "outputs": [
    {
     "name": "stdout",
     "output_type": "stream",
     "text": [
      "+----+----+----+----+----+----------+\n",
      "|Id_1|Id_2|Year|Me_1|Me_2|count_Me_1|\n",
      "+----+----+----+----+----+----------+\n",
      "|   A|  XX|2000|   3| 1.0|         1|\n",
      "|   A|  XX|2001|   4| 9.0|         2|\n",
      "|   A|  XX|2002|   7| 5.0|         3|\n",
      "|   A|  XX|2003|   6| 8.0|         4|\n",
      "|   A|  YY|2000|   9| 3.0|         1|\n",
      "|   A|  YY|2001|   5| 4.0|         2|\n",
      "|   A|  YY|2002|  10| 2.0|         3|\n",
      "|   A|  YY|2003|   5| 7.0|         4|\n",
      "+----+----+----+----+----+----------+\n",
      "\n"
     ]
    }
   ],
   "source": [
    "partition_col_names=[\"Id_1\",\"Id_2\"]\n",
    "order_col_names=[\"Year\"]\n",
    " \n",
    "win_name=Window.partitionBy(partition_col_names).orderBy(order_col_names)\n",
    "target_col_name1=\"Me_1\"\n",
    "new_col_name1=f\"count_{target_col_name1}\"\n",
    "df_count=df.withColumn(new_col_name1,count(target_col_name1).over(win_name))\n",
    "df_count.show()\n",
    "\n"
   ]
  },
  {
   "cell_type": "code",
   "execution_count": null,
   "metadata": {},
   "outputs": [],
   "source": []
  },
  {
   "cell_type": "markdown",
   "metadata": {
    "pycharm": {
     "name": "#%% md\n"
    }
   },
   "source": [
    "## 1.2 Sum\n",
    "\n",
    "### 1.2.1 Exp1 : window only has partition clause\n",
    "The vtl query:\n",
    "\n",
    "```text\n",
    "res := sum ( ds1 over ( partition by Id_1, Id_2 ) )\n",
    "```\n"
   ]
  },
  {
   "cell_type": "code",
   "execution_count": 10,
   "metadata": {
    "collapsed": false,
    "jupyter": {
     "outputs_hidden": false
    },
    "pycharm": {
     "name": "#%%\n"
    }
   },
   "outputs": [
    {
     "name": "stdout",
     "output_type": "stream",
     "text": [
      "+----+----+----+----+----+--------+--------+\n",
      "|Id_1|Id_2|Year|Me_1|Me_2|sum_Me_1|sum_Me_2|\n",
      "+----+----+----+----+----+--------+--------+\n",
      "|   A|  XX|2000|   3| 1.0|      20|    23.0|\n",
      "|   A|  XX|2001|   4| 9.0|      20|    23.0|\n",
      "|   A|  XX|2002|   7| 5.0|      20|    23.0|\n",
      "|   A|  XX|2003|   6| 8.0|      20|    23.0|\n",
      "|   A|  YY|2000|   9| 3.0|      29|    16.0|\n",
      "|   A|  YY|2001|   5| 4.0|      29|    16.0|\n",
      "|   A|  YY|2002|  10| 2.0|      29|    16.0|\n",
      "|   A|  YY|2003|   5| 7.0|      29|    16.0|\n",
      "+----+----+----+----+----+--------+--------+\n",
      "\n"
     ]
    }
   ],
   "source": [
    "partition_col_name=[\"Id_1\",\"Id_2\"]\n",
    "win_name=Window.partitionBy(partition_col_name)\n",
    "\n",
    "target_col_name1=\"Me_1\"\n",
    "target_col_name2=\"Me_2\"\n",
    "new_col_name1=f\"sum_{target_col_name1}\"\n",
    "new_col_name2=f\"sum_{target_col_name2}\"\n",
    "\n",
    "df_sum=df.withColumn(new_col_name1,sum(target_col_name1).over(win_name)) \\\n",
    "         .withColumn(new_col_name2,sum(target_col_name2).over(win_name))\n",
    "df_sum.show()\n"
   ]
  },
  {
   "cell_type": "markdown",
   "metadata": {},
   "source": [
    "### 1.2.2 Exp 2: window has partition and order by\n",
    "\n",
    "The vtl query:\n",
    "\n",
    "```text\n",
    "res := sum ( ds1 over ( partition by Id_1 order by Id_2) )\n",
    "```"
   ]
  },
  {
   "cell_type": "code",
   "execution_count": 32,
   "metadata": {},
   "outputs": [
    {
     "name": "stdout",
     "output_type": "stream",
     "text": [
      "+----+----+----+----+----+--------+--------+\n",
      "|Id_1|Id_2|Year|Me_1|Me_2|sum_Me_1|sum_Me_2|\n",
      "+----+----+----+----+----+--------+--------+\n",
      "|   A|  XX|2000|   3| 1.0|      20|    23.0|\n",
      "|   A|  XX|2001|   4| 9.0|      20|    23.0|\n",
      "|   A|  XX|2002|   7| 5.0|      20|    23.0|\n",
      "|   A|  XX|2003|   6| 8.0|      20|    23.0|\n",
      "|   A|  YY|2000|   9| 3.0|      49|    39.0|\n",
      "|   A|  YY|2001|   5| 4.0|      49|    39.0|\n",
      "|   A|  YY|2002|  10| 2.0|      49|    39.0|\n",
      "|   A|  YY|2003|   5| 7.0|      49|    39.0|\n",
      "+----+----+----+----+----+--------+--------+\n",
      "\n"
     ]
    }
   ],
   "source": [
    "partition_col_name=\"Id_1\"\n",
    "win_name=Window.partitionBy(partition_col_name).orderBy(\"Id_2\")\n",
    "\n",
    "target_col_name1=\"Me_1\"\n",
    "target_col_name2=\"Me_2\"\n",
    "new_col_name1=f\"sum_{target_col_name1}\"\n",
    "new_col_name2=f\"sum_{target_col_name2}\"\n",
    "\n",
    "df_sum=df.withColumn(new_col_name1,sum(target_col_name1).over(win_name)) \\\n",
    "         .withColumn(new_col_name2,sum(target_col_name2).over(win_name))\n",
    "df_sum.show()\n"
   ]
  },
  {
   "cell_type": "markdown",
   "metadata": {
    "pycharm": {
     "name": "#%% md\n"
    }
   },
   "source": [
    "### 1.2.3 Window with orderby without partition, \n",
    "\n",
    "The vtl query:\n",
    "\n",
    "```text\n",
    "res := sum ( ds1 over ( order by Id_1, Id_2, Year ) )\n",
    "``` \n",
    "\n",
    "As there is no partition, so the whole data frame is considered as one partition. So the sum become the rolling sum of the whole data set.\n",
    "This is not recommended, because in spark, one partition means only one worker will do the job, the rest of the worker in the cluster will be idle. It's no longer distributed calculation."
   ]
  },
  {
   "cell_type": "code",
   "execution_count": 33,
   "metadata": {
    "collapsed": false,
    "jupyter": {
     "outputs_hidden": false
    },
    "pycharm": {
     "name": "#%%\n"
    }
   },
   "outputs": [
    {
     "name": "stdout",
     "output_type": "stream",
     "text": [
      "+----+----+----+----+----+--------+--------+\n",
      "|Id_1|Id_2|Year|Me_1|Me_2|sum_Me_1|sum_Me_2|\n",
      "+----+----+----+----+----+--------+--------+\n",
      "|   A|  XX|2000|   3| 1.0|       3|     1.0|\n",
      "|   A|  XX|2001|   4| 9.0|       7|    10.0|\n",
      "|   A|  XX|2002|   7| 5.0|      14|    15.0|\n",
      "|   A|  XX|2003|   6| 8.0|      20|    23.0|\n",
      "|   A|  YY|2000|   9| 3.0|      29|    26.0|\n",
      "|   A|  YY|2001|   5| 4.0|      34|    30.0|\n",
      "|   A|  YY|2002|  10| 2.0|      44|    32.0|\n",
      "|   A|  YY|2003|   5| 7.0|      49|    39.0|\n",
      "+----+----+----+----+----+--------+--------+\n",
      "\n"
     ]
    },
    {
     "name": "stderr",
     "output_type": "stream",
     "text": [
      "2022-06-29 13:19:44,373 WARN window.WindowExec: No Partition Defined for Window operation! Moving all data to a single partition, this can cause serious performance degradation.\n",
      "2022-06-29 13:19:44,373 WARN window.WindowExec: No Partition Defined for Window operation! Moving all data to a single partition, this can cause serious performance degradation.\n",
      "2022-06-29 13:19:44,472 WARN window.WindowExec: No Partition Defined for Window operation! Moving all data to a single partition, this can cause serious performance degradation.\n"
     ]
    }
   ],
   "source": [
    "partition_col_names=[\"Id_1\",\"Id_2\",\"Year\"]\n",
    "win_name=Window.orderBy(partition_col_names)\n",
    "\n",
    "target_col_name1=\"Me_1\"\n",
    "target_col_name2=\"Me_2\"\n",
    "new_col_name1=f\"sum_{target_col_name1}\"\n",
    "new_col_name2=f\"sum_{target_col_name2}\"\n",
    "\n",
    "df_sum=df.withColumn(new_col_name1,sum(target_col_name1).over(win_name)) \\\n",
    "         .withColumn(new_col_name2,sum(target_col_name2).over(win_name))\n",
    "df_sum.show()"
   ]
  },
  {
   "cell_type": "markdown",
   "metadata": {},
   "source": [
    "### 1.2.4 Exp : window has partition, order by and data point\n",
    "\n",
    "The vtl query:\n",
    "\n",
    "```text\n",
    "res := sum ( ds1 over ( partition by Id_1 order by Id_2 data points between 2 preceding and 2 following) )\n",
    "```"
   ]
  },
  {
   "cell_type": "code",
   "execution_count": 34,
   "metadata": {
    "collapsed": false,
    "jupyter": {
     "outputs_hidden": false
    },
    "pycharm": {
     "name": "#%%\n"
    }
   },
   "outputs": [
    {
     "name": "stdout",
     "output_type": "stream",
     "text": [
      "+----+----+----+----+----+--------+--------+\n",
      "|Id_1|Id_2|Year|Me_1|Me_2|sum_Me_1|sum_Me_2|\n",
      "+----+----+----+----+----+--------+--------+\n",
      "|   A|  XX|2000|   3| 1.0|      14|    15.0|\n",
      "|   A|  XX|2001|   4| 9.0|      20|    23.0|\n",
      "|   A|  XX|2002|   7| 5.0|      29|    26.0|\n",
      "|   A|  XX|2003|   6| 8.0|      31|    29.0|\n",
      "|   A|  YY|2000|   9| 3.0|      37|    22.0|\n",
      "|   A|  YY|2001|   5| 4.0|      35|    24.0|\n",
      "|   A|  YY|2002|  10| 2.0|      29|    16.0|\n",
      "|   A|  YY|2003|   5| 7.0|      20|    13.0|\n",
      "+----+----+----+----+----+--------+--------+\n",
      "\n"
     ]
    }
   ],
   "source": [
    "partition_col_name=[\"Id_1\"]\n",
    "order_col_name=[\"Id_2\"]\n",
    "win_name=Window.partitionBy(partition_col_name).orderBy(order_col_name).rowsBetween(-2,2)\n",
    "target_col_name1=\"Me_1\"\n",
    "target_col_name2=\"Me_2\"\n",
    "new_col_name1=f\"sum_{target_col_name1}\"\n",
    "new_col_name2=f\"sum_{target_col_name2}\"\n",
    "\n",
    "df_sum=df.withColumn(new_col_name1,sum(target_col_name1).over(win_name)) \\\n",
    "         .withColumn(new_col_name2,sum(target_col_name2).over(win_name))\n",
    "df_sum.show()\n"
   ]
  },
  {
   "cell_type": "markdown",
   "metadata": {},
   "source": [
    "### 1.2.5 Exp : window has partition, order by and range \n",
    "\n",
    "The vtl query:\n",
    "\n",
    "```text\n",
    "res := sum ( ds1 over ( partition by Id_1 order by Year range between -1 and 1) )\n",
    "```"
   ]
  },
  {
   "cell_type": "code",
   "execution_count": 35,
   "metadata": {},
   "outputs": [
    {
     "name": "stdout",
     "output_type": "stream",
     "text": [
      "+----+----+----+----+----+--------+--------+\n",
      "|Id_1|Id_2|Year|Me_1|Me_2|sum_Me_1|sum_Me_2|\n",
      "+----+----+----+----+----+--------+--------+\n",
      "|   A|  XX|2000|   3| 1.0|      21|    17.0|\n",
      "|   A|  YY|2000|   9| 3.0|      21|    17.0|\n",
      "|   A|  XX|2001|   4| 9.0|      38|    24.0|\n",
      "|   A|  YY|2001|   5| 4.0|      38|    24.0|\n",
      "|   A|  XX|2002|   7| 5.0|      37|    35.0|\n",
      "|   A|  YY|2002|  10| 2.0|      37|    35.0|\n",
      "|   A|  XX|2003|   6| 8.0|      28|    22.0|\n",
      "|   A|  YY|2003|   5| 7.0|      28|    22.0|\n",
      "+----+----+----+----+----+--------+--------+\n",
      "\n"
     ]
    }
   ],
   "source": [
    "partition_col_name=[\"Id_1\"]\n",
    "order_col_name=[\"Year\"]\n",
    "win_name=Window.partitionBy(partition_col_name).orderBy(order_col_name).rangeBetween(-1,1)\n",
    "target_col_name1=\"Me_1\"\n",
    "target_col_name2=\"Me_2\"\n",
    "new_col_name1=f\"sum_{target_col_name1}\"\n",
    "new_col_name2=f\"sum_{target_col_name2}\"\n",
    "\n",
    "df_sum=df.withColumn(new_col_name1,sum(target_col_name1).over(win_name))\\\n",
    "        .withColumn(new_col_name2,sum(target_col_name2).over(win_name))\n",
    "                     \n",
    "df_sum.show()"
   ]
  },
  {
   "cell_type": "markdown",
   "metadata": {},
   "source": [
    "### 1.2.6 Exp6: window inside a calc statement \n",
    "\n",
    "\n",
    "The vtl query:\n",
    "\n",
    "```text\n",
    "res := ds1 [ calc sum_Me_1:= sum ( Me_1 over ( partition by Id_1,Id_2 order by Year ) )];\n",
    "```"
   ]
  },
  {
   "cell_type": "code",
   "execution_count": 15,
   "metadata": {},
   "outputs": [
    {
     "name": "stdout",
     "output_type": "stream",
     "text": [
      "+----+----+----+----+----+--------+\n",
      "|Id_1|Id_2|Year|Me_1|Me_2|sum_Me_1|\n",
      "+----+----+----+----+----+--------+\n",
      "|   A|  XX|2000|   3| 1.0|       3|\n",
      "|   A|  XX|2001|   4| 9.0|       7|\n",
      "|   A|  XX|2002|   7| 5.0|      14|\n",
      "|   A|  XX|2003|   6| 8.0|      20|\n",
      "|   A|  YY|2000|   9| 3.0|       9|\n",
      "|   A|  YY|2001|   5| 4.0|      14|\n",
      "|   A|  YY|2002|  10| 2.0|      24|\n",
      "|   A|  YY|2003|   5| 7.0|      29|\n",
      "+----+----+----+----+----+--------+\n",
      "\n"
     ]
    }
   ],
   "source": [
    "partition_col_names=[\"Id_1\",\"Id_2\"]\n",
    "order_col_names=[\"Year\"]\n",
    " \n",
    "win_name=Window.partitionBy(partition_col_names).orderBy(order_col_names)\n",
    "target_col_name1=\"Me_1\"\n",
    "new_col_name1=f\"sum_{target_col_name1}\"\n",
    "df_sum=df.withColumn(new_col_name1,sum(target_col_name1).over(win_name))\n",
    "df_sum.show()"
   ]
  },
  {
   "cell_type": "markdown",
   "metadata": {
    "pycharm": {
     "name": "#%% md\n"
    }
   },
   "source": [
    "## 1.3 min\n",
    "\n",
    "### 1.3.1 Exp1 : window only has partition clause\n",
    "\n",
    "The vtl query:\n",
    "\n",
    "```text\n",
    "res := min ( ds1 over ( partition by Id_1, Id_2 ) )\n",
    "```\n",
    "\n"
   ]
  },
  {
   "cell_type": "code",
   "execution_count": 94,
   "metadata": {
    "collapsed": false,
    "jupyter": {
     "outputs_hidden": false
    },
    "pycharm": {
     "name": "#%%\n"
    }
   },
   "outputs": [
    {
     "name": "stdout",
     "output_type": "stream",
     "text": [
      "+----+----+----+----+----+--------+--------+\n",
      "|Id_1|Id_2|Year|Me_1|Me_2|min_Me_1|min_Me_2|\n",
      "+----+----+----+----+----+--------+--------+\n",
      "|   A|  XX|2000|   3| 1.0|       3|     1.0|\n",
      "|   A|  XX|2001|   4| 9.0|       3|     1.0|\n",
      "|   A|  XX|2002|   7| 5.0|       3|     1.0|\n",
      "|   A|  XX|2003|   6| 8.0|       3|     1.0|\n",
      "|   A|  YY|2000|   9| 3.0|       5|     2.0|\n",
      "|   A|  YY|2001|   5| 4.0|       5|     2.0|\n",
      "|   A|  YY|2002|  10| 2.0|       5|     2.0|\n",
      "|   A|  YY|2003|   5| 7.0|       5|     2.0|\n",
      "+----+----+----+----+----+--------+--------+\n",
      "\n"
     ]
    }
   ],
   "source": [
    "partition_col_names=[\"Id_1\",\"Id_2\"]\n",
    "\n",
    "win_name=Window.partitionBy(partition_col_names)\n",
    "\n",
    "target_col_name1=\"Me_1\"\n",
    "target_col_name2=\"Me_2\"\n",
    "\n",
    "new_col_name1=f\"min_{target_col_name1}\"\n",
    "new_col_name2=f\"min_{target_col_name2}\"\n",
    "\n",
    "df_min=df.withColumn(new_col_name1,min(target_col_name1).over(win_name))\\\n",
    "        .withColumn(new_col_name2,min(target_col_name2).over(win_name))\n",
    "                     \n",
    "df_min.show()"
   ]
  },
  {
   "cell_type": "markdown",
   "metadata": {},
   "source": [
    "### 1.3.2 Exp 2: window has partition and order by\n",
    "\n",
    "The vtl query:\n",
    "\n",
    "```text\n",
    "res := min ( ds1 over ( partition by Id_1, Id_2 order by Year) )\n",
    "```"
   ]
  },
  {
   "cell_type": "code",
   "execution_count": 95,
   "metadata": {},
   "outputs": [
    {
     "name": "stdout",
     "output_type": "stream",
     "text": [
      "+----+----+----+----+----+--------+--------+\n",
      "|Id_1|Id_2|Year|Me_1|Me_2|min_Me_1|min_Me_2|\n",
      "+----+----+----+----+----+--------+--------+\n",
      "|   A|  XX|2000|   3| 1.0|       3|     1.0|\n",
      "|   A|  XX|2001|   4| 9.0|       3|     1.0|\n",
      "|   A|  XX|2002|   7| 5.0|       3|     1.0|\n",
      "|   A|  XX|2003|   6| 8.0|       3|     1.0|\n",
      "|   A|  YY|2000|   9| 3.0|       9|     3.0|\n",
      "|   A|  YY|2001|   5| 4.0|       5|     3.0|\n",
      "|   A|  YY|2002|  10| 2.0|       5|     2.0|\n",
      "|   A|  YY|2003|   5| 7.0|       5|     2.0|\n",
      "+----+----+----+----+----+--------+--------+\n",
      "\n"
     ]
    }
   ],
   "source": [
    "partition_col_names=[\"Id_1\",\"Id_2\"]\n",
    "\n",
    "win_name=Window.partitionBy(partition_col_names).orderBy(\"Year\")\n",
    "\n",
    "target_col_name1=\"Me_1\"\n",
    "target_col_name2=\"Me_2\"\n",
    "\n",
    "new_col_name1=f\"min_{target_col_name1}\"\n",
    "new_col_name2=f\"min_{target_col_name2}\"\n",
    "\n",
    "df_min=df.withColumn(new_col_name1,min(target_col_name1).over(win_name))\\\n",
    "        .withColumn(new_col_name2,min(target_col_name2).over(win_name))\n",
    "                     \n",
    "df_min.show()"
   ]
  },
  {
   "cell_type": "markdown",
   "metadata": {},
   "source": [
    "### 1.3.3 Window with orderby without partition, \n",
    "\n",
    "The vtl query:\n",
    "\n",
    "```text\n",
    "res := min ( ds1 over ( order by Id_1, Id_2, Year ) )\n",
    "``` \n"
   ]
  },
  {
   "cell_type": "code",
   "execution_count": 99,
   "metadata": {},
   "outputs": [
    {
     "name": "stdout",
     "output_type": "stream",
     "text": [
      "+----+----+----+----+----+--------+--------+\n",
      "|Id_1|Id_2|Year|Me_1|Me_2|min_Me_1|min_Me_2|\n",
      "+----+----+----+----+----+--------+--------+\n",
      "|   A|  XX|2000|   3| 1.0|       3|     1.0|\n",
      "|   A|  XX|2001|   4| 9.0|       3|     1.0|\n",
      "|   A|  XX|2002|   7| 5.0|       3|     1.0|\n",
      "|   A|  XX|2003|   6| 8.0|       3|     1.0|\n",
      "|   A|  YY|2000|   9| 3.0|       3|     1.0|\n",
      "|   A|  YY|2001|   5| 4.0|       3|     1.0|\n",
      "|   A|  YY|2002|  10| 2.0|       3|     1.0|\n",
      "|   A|  YY|2003|   5| 7.0|       3|     1.0|\n",
      "+----+----+----+----+----+--------+--------+\n",
      "\n"
     ]
    },
    {
     "name": "stderr",
     "output_type": "stream",
     "text": [
      "2022-06-30 12:26:33,026 WARN window.WindowExec: No Partition Defined for Window operation! Moving all data to a single partition, this can cause serious performance degradation.\n",
      "2022-06-30 12:26:33,026 WARN window.WindowExec: No Partition Defined for Window operation! Moving all data to a single partition, this can cause serious performance degradation.\n",
      "2022-06-30 12:26:33,129 WARN window.WindowExec: No Partition Defined for Window operation! Moving all data to a single partition, this can cause serious performance degradation.\n"
     ]
    }
   ],
   "source": [
    "order_col_names=[\"Id_1\",\"Id_2\",\"Year\"]\n",
    "\n",
    "win_name=Window.orderBy(order_col_names)\n",
    "\n",
    "target_col_name1=\"Me_1\"\n",
    "target_col_name2=\"Me_2\"\n",
    "\n",
    "new_col_name1=f\"min_{target_col_name1}\"\n",
    "new_col_name2=f\"min_{target_col_name2}\"\n",
    "\n",
    "df_min=df.withColumn(new_col_name1,min(target_col_name1).over(win_name))\\\n",
    "        .withColumn(new_col_name2,min(target_col_name2).over(win_name))\n",
    "                     \n",
    "df_min.show()"
   ]
  },
  {
   "cell_type": "markdown",
   "metadata": {},
   "source": [
    "### 1.3.4 Exp : window has partition, order by and data point\n",
    "\n",
    "The vtl query:\n",
    "\n",
    "```text\n",
    "res := min ( ds1 over ( partition by Id_1 order by Id_2 data points between 2 preceding and 2 following) )\n",
    "```"
   ]
  },
  {
   "cell_type": "code",
   "execution_count": 100,
   "metadata": {},
   "outputs": [
    {
     "name": "stdout",
     "output_type": "stream",
     "text": [
      "+----+----+----+----+----+--------+--------+\n",
      "|Id_1|Id_2|Year|Me_1|Me_2|min_Me_1|min_Me_2|\n",
      "+----+----+----+----+----+--------+--------+\n",
      "|   A|  XX|2000|   3| 1.0|       3|     1.0|\n",
      "|   A|  XX|2001|   4| 9.0|       3|     1.0|\n",
      "|   A|  XX|2002|   7| 5.0|       3|     1.0|\n",
      "|   A|  XX|2003|   6| 8.0|       4|     3.0|\n",
      "|   A|  YY|2000|   9| 3.0|       5|     2.0|\n",
      "|   A|  YY|2001|   5| 4.0|       5|     2.0|\n",
      "|   A|  YY|2002|  10| 2.0|       5|     2.0|\n",
      "|   A|  YY|2003|   5| 7.0|       5|     2.0|\n",
      "+----+----+----+----+----+--------+--------+\n",
      "\n"
     ]
    }
   ],
   "source": [
    "partition_col_names=[\"Id_1\"]\n",
    "order_col_names=[\"Id_2\"]\n",
    "\n",
    "win_name=Window.partitionBy(partition_col_names).orderBy(order_col_names).rowsBetween(-2,2)\n",
    "\n",
    "target_col_name1=\"Me_1\"\n",
    "target_col_name2=\"Me_2\"\n",
    "\n",
    "new_col_name1=f\"min_{target_col_name1}\"\n",
    "new_col_name2=f\"min_{target_col_name2}\"\n",
    "\n",
    "df_min=df.withColumn(new_col_name1,min(target_col_name1).over(win_name))\\\n",
    "        .withColumn(new_col_name2,min(target_col_name2).over(win_name))\n",
    "                     \n",
    "df_min.show()"
   ]
  },
  {
   "cell_type": "markdown",
   "metadata": {},
   "source": [
    "### 1.3.5 Exp : window has partition, order by and range \n",
    "\n",
    "The vtl query:\n",
    "\n",
    "```text\n",
    "res := min ( ds1 over ( partition by Id_1 order by Year range between -1 and 1) )\n",
    "```"
   ]
  },
  {
   "cell_type": "code",
   "execution_count": 6,
   "metadata": {},
   "outputs": [
    {
     "name": "stdout",
     "output_type": "stream",
     "text": [
      "+----+----+----+----+----+--------+--------+\n",
      "|Id_1|Id_2|Year|Me_1|Me_2|min_Me_1|min_Me_2|\n",
      "+----+----+----+----+----+--------+--------+\n",
      "|   A|  XX|2000|   3| 1.0|       3|     1.0|\n",
      "|   A|  YY|2000|   9| 3.0|       3|     1.0|\n",
      "|   A|  XX|2001|   4| 9.0|       3|     1.0|\n",
      "|   A|  YY|2001|   5| 4.0|       3|     1.0|\n",
      "|   A|  XX|2002|   7| 5.0|       3|     1.0|\n",
      "|   A|  YY|2002|  10| 2.0|       3|     1.0|\n",
      "|   A|  XX|2003|   6| 8.0|       4|     2.0|\n",
      "|   A|  YY|2003|   5| 7.0|       4|     2.0|\n",
      "+----+----+----+----+----+--------+--------+\n",
      "\n"
     ]
    }
   ],
   "source": [
    "partition_col_names=[\"Id_1\"]\n",
    "order_col_names=[\"Year\"]\n",
    "\n",
    "win_name=Window.partitionBy(partition_col_names).orderBy(order_col_names).rangeBetween(-2,2)\n",
    "\n",
    "target_col_name1=\"Me_1\"\n",
    "target_col_name2=\"Me_2\"\n",
    "\n",
    "new_col_name1=f\"min_{target_col_name1}\"\n",
    "new_col_name2=f\"min_{target_col_name2}\"\n",
    "\n",
    "df_min=df.withColumn(new_col_name1,min(target_col_name1).over(win_name))\\\n",
    "        .withColumn(new_col_name2,min(target_col_name2).over(win_name))\n",
    "                     \n",
    "df_min.show()"
   ]
  },
  {
   "cell_type": "markdown",
   "metadata": {},
   "source": [
    "### 1.3.6 Exp6: window inside a calc statement \n",
    "\n",
    "\n",
    "The vtl query:\n",
    "\n",
    "```text\n",
    "res := ds1 [ calc min_Me_1:= min ( Me_1 over ( partition by Id_1,Id_2 order by Year ) )];\n",
    "```"
   ]
  },
  {
   "cell_type": "code",
   "execution_count": 17,
   "metadata": {},
   "outputs": [
    {
     "name": "stdout",
     "output_type": "stream",
     "text": [
      "+----+----+----+----+----+--------+\n",
      "|Id_1|Id_2|Year|Me_1|Me_2|min_Me_1|\n",
      "+----+----+----+----+----+--------+\n",
      "|   A|  XX|2000|   3| 1.0|       3|\n",
      "|   A|  XX|2001|   4| 9.0|       3|\n",
      "|   A|  XX|2002|   7| 5.0|       3|\n",
      "|   A|  XX|2003|   6| 8.0|       3|\n",
      "|   A|  YY|2000|   9| 3.0|       9|\n",
      "|   A|  YY|2001|   5| 4.0|       5|\n",
      "|   A|  YY|2002|  10| 2.0|       5|\n",
      "|   A|  YY|2003|   5| 7.0|       5|\n",
      "+----+----+----+----+----+--------+\n",
      "\n"
     ]
    }
   ],
   "source": [
    "partition_col_names=[\"Id_1\",\"Id_2\"]\n",
    "order_col_names=[\"Year\"]\n",
    "\n",
    "win_name=Window.partitionBy(partition_col_names).orderBy(order_col_names)\n",
    "\n",
    "target_col_name1=\"Me_1\"\n",
    "\n",
    "\n",
    "new_col_name1=f\"min_{target_col_name1}\"\n",
    "\n",
    "\n",
    "df_min=df.withColumn(new_col_name1,min(target_col_name1).over(win_name))                     \n",
    "df_min.show()"
   ]
  },
  {
   "cell_type": "markdown",
   "metadata": {
    "pycharm": {
     "name": "#%% md\n"
    }
   },
   "source": [
    "## 1.4 max\n",
    "\n",
    "### 1.4.1 Exp1 : window only has partition clause\n",
    "\n",
    "The vtl query:\n",
    "\n",
    "```text\n",
    "res := max ( ds1 over ( partition by Id_1, Id_2 ) )\n",
    "```"
   ]
  },
  {
   "cell_type": "code",
   "execution_count": 61,
   "metadata": {
    "collapsed": false,
    "jupyter": {
     "outputs_hidden": false
    },
    "pycharm": {
     "name": "#%%\n"
    }
   },
   "outputs": [
    {
     "name": "stdout",
     "output_type": "stream",
     "text": [
      "+----+----+----+----+----+--------+--------+\n",
      "|Id_1|Id_2|Year|Me_1|Me_2|max_Me_1|max_Me_2|\n",
      "+----+----+----+----+----+--------+--------+\n",
      "|   A|  XX|2000|   3| 1.0|       7|     9.0|\n",
      "|   A|  XX|2001|   4| 9.0|       7|     9.0|\n",
      "|   A|  XX|2002|   7| 5.0|       7|     9.0|\n",
      "|   A|  XX|2003|   6| 8.0|       7|     9.0|\n",
      "|   A|  YY|2000|   9| 3.0|      10|     7.0|\n",
      "|   A|  YY|2001|   5| 4.0|      10|     7.0|\n",
      "|   A|  YY|2002|  10| 2.0|      10|     7.0|\n",
      "|   A|  YY|2003|   5| 7.0|      10|     7.0|\n",
      "+----+----+----+----+----+--------+--------+\n",
      "\n"
     ]
    }
   ],
   "source": [
    "partition_col_names=[\"Id_1\",\"Id_2\"]\n",
    "\n",
    "win_name=Window.partitionBy(partition_col_names)\n",
    "\n",
    "target_col_name1=\"Me_1\"\n",
    "target_col_name2=\"Me_2\"\n",
    "\n",
    "new_col_name1=f\"max_{target_col_name1}\"\n",
    "new_col_name2=f\"max_{target_col_name2}\"\n",
    "\n",
    "df_max=df.withColumn(new_col_name1,max(target_col_name1).over(win_name))\\\n",
    "        .withColumn(new_col_name2,max(target_col_name2).over(win_name))\n",
    "                     \n",
    "df_max.show()"
   ]
  },
  {
   "cell_type": "markdown",
   "metadata": {},
   "source": [
    "### 1.4.2 Exp 2: window has partition and order by\n",
    "\n",
    "The vtl query:\n",
    "\n",
    "```text\n",
    "res := max ( ds1 over ( partition by Id_1, Id_2 order by Year) )\n",
    "```"
   ]
  },
  {
   "cell_type": "code",
   "execution_count": 62,
   "metadata": {},
   "outputs": [
    {
     "name": "stdout",
     "output_type": "stream",
     "text": [
      "+----+----+----+----+----+--------+--------+\n",
      "|Id_1|Id_2|Year|Me_1|Me_2|max_Me_1|max_Me_2|\n",
      "+----+----+----+----+----+--------+--------+\n",
      "|   A|  XX|2000|   3| 1.0|       3|     1.0|\n",
      "|   A|  XX|2001|   4| 9.0|       4|     9.0|\n",
      "|   A|  XX|2002|   7| 5.0|       7|     9.0|\n",
      "|   A|  XX|2003|   6| 8.0|       7|     9.0|\n",
      "|   A|  YY|2000|   9| 3.0|       9|     3.0|\n",
      "|   A|  YY|2001|   5| 4.0|       9|     4.0|\n",
      "|   A|  YY|2002|  10| 2.0|      10|     4.0|\n",
      "|   A|  YY|2003|   5| 7.0|      10|     7.0|\n",
      "+----+----+----+----+----+--------+--------+\n",
      "\n"
     ]
    }
   ],
   "source": [
    "partition_col_names=[\"Id_1\",\"Id_2\"]\n",
    "\n",
    "win_name=Window.partitionBy(partition_col_names).orderBy(\"Year\")\n",
    "\n",
    "target_col_name1=\"Me_1\"\n",
    "target_col_name2=\"Me_2\"\n",
    "\n",
    "new_col_name1=f\"max_{target_col_name1}\"\n",
    "new_col_name2=f\"max_{target_col_name2}\"\n",
    "\n",
    "df_max=df.withColumn(new_col_name1,max(target_col_name1).over(win_name))\\\n",
    "        .withColumn(new_col_name2,max(target_col_name2).over(win_name))\n",
    "                     \n",
    "df_max.show()"
   ]
  },
  {
   "cell_type": "markdown",
   "metadata": {},
   "source": [
    "### 1.4.3 Exp : window has partition, order by and data point\n",
    "\n",
    "The vtl query:\n",
    "\n",
    "```text\n",
    "res := max ( ds1 over ( partition by Id_1 order by Id_2 data points between 2 preceding and 2 following) )\n",
    "```"
   ]
  },
  {
   "cell_type": "code",
   "execution_count": 102,
   "metadata": {},
   "outputs": [
    {
     "name": "stdout",
     "output_type": "stream",
     "text": [
      "+----+----+----+----+----+--------+--------+\n",
      "|Id_1|Id_2|Year|Me_1|Me_2|max_Me_1|max_Me_2|\n",
      "+----+----+----+----+----+--------+--------+\n",
      "|   A|  XX|2000|   3| 1.0|       7|     9.0|\n",
      "|   A|  XX|2001|   4| 9.0|       7|     9.0|\n",
      "|   A|  XX|2002|   7| 5.0|       9|     9.0|\n",
      "|   A|  XX|2003|   6| 8.0|       9|     9.0|\n",
      "|   A|  YY|2000|   9| 3.0|      10|     8.0|\n",
      "|   A|  YY|2001|   5| 4.0|      10|     8.0|\n",
      "|   A|  YY|2002|  10| 2.0|      10|     7.0|\n",
      "|   A|  YY|2003|   5| 7.0|      10|     7.0|\n",
      "+----+----+----+----+----+--------+--------+\n",
      "\n"
     ]
    }
   ],
   "source": [
    "partition_col_names=[\"Id_1\"]\n",
    "order_col_names=[\"Id_2\"]\n",
    "\n",
    "win_name=Window.partitionBy(partition_col_names).orderBy(order_col_names).rowsBetween(-2,2)\n",
    "\n",
    "target_col_name1=\"Me_1\"\n",
    "target_col_name2=\"Me_2\"\n",
    "\n",
    "new_col_name1=f\"max_{target_col_name1}\"\n",
    "new_col_name2=f\"max_{target_col_name2}\"\n",
    "\n",
    "df_max=df.withColumn(new_col_name1,max(target_col_name1).over(win_name))\\\n",
    "        .withColumn(new_col_name2,max(target_col_name2).over(win_name))\n",
    "                     \n",
    "df_max.show()"
   ]
  },
  {
   "cell_type": "markdown",
   "metadata": {},
   "source": [
    "### 1.4.4 Exp : window has partition, order by and range \n",
    "\n",
    "The vtl query:\n",
    "\n",
    "```text\n",
    "res := max ( ds1 over ( partition by Id_1 order by Year range between -1 and 1) )\n",
    "```"
   ]
  },
  {
   "cell_type": "code",
   "execution_count": 103,
   "metadata": {},
   "outputs": [
    {
     "name": "stdout",
     "output_type": "stream",
     "text": [
      "+----+----+----+----+----+--------+--------+\n",
      "|Id_1|Id_2|Year|Me_1|Me_2|max_Me_1|max_Me_2|\n",
      "+----+----+----+----+----+--------+--------+\n",
      "|   A|  XX|2000|   3| 1.0|       9|     9.0|\n",
      "|   A|  YY|2000|   9| 3.0|       9|     9.0|\n",
      "|   A|  XX|2001|   4| 9.0|      10|     9.0|\n",
      "|   A|  YY|2001|   5| 4.0|      10|     9.0|\n",
      "|   A|  XX|2002|   7| 5.0|      10|     9.0|\n",
      "|   A|  YY|2002|  10| 2.0|      10|     9.0|\n",
      "|   A|  XX|2003|   6| 8.0|      10|     8.0|\n",
      "|   A|  YY|2003|   5| 7.0|      10|     8.0|\n",
      "+----+----+----+----+----+--------+--------+\n",
      "\n"
     ]
    }
   ],
   "source": [
    "partition_col_names=[\"Id_1\"]\n",
    "order_col_names=[\"Year\"]\n",
    "\n",
    "win_name=Window.partitionBy(partition_col_names).orderBy(order_col_names).rangeBetween(-1,1)\n",
    "\n",
    "target_col_name1=\"Me_1\"\n",
    "target_col_name2=\"Me_2\"\n",
    "\n",
    "new_col_name1=f\"max_{target_col_name1}\"\n",
    "new_col_name2=f\"max_{target_col_name2}\"\n",
    "\n",
    "df_max=df.withColumn(new_col_name1,max(target_col_name1).over(win_name))\\\n",
    "        .withColumn(new_col_name2,max(target_col_name2).over(win_name))\n",
    "                     \n",
    "df_max.show()"
   ]
  },
  {
   "cell_type": "markdown",
   "metadata": {},
   "source": [
    "### 1.4.5 Exp5: window inside a calc statement \n",
    "\n",
    "\n",
    "The vtl query:\n",
    "\n",
    "```text\n",
    "res := ds1 [ calc max_Me_1:= max ( Me_1 over ( partition by Id_1,Id_2 order by Year ) )];\n",
    "```"
   ]
  },
  {
   "cell_type": "code",
   "execution_count": 18,
   "metadata": {},
   "outputs": [
    {
     "name": "stdout",
     "output_type": "stream",
     "text": [
      "+----+----+----+----+----+--------+\n",
      "|Id_1|Id_2|Year|Me_1|Me_2|max_Me_1|\n",
      "+----+----+----+----+----+--------+\n",
      "|   A|  XX|2000|   3| 1.0|       3|\n",
      "|   A|  XX|2001|   4| 9.0|       4|\n",
      "|   A|  XX|2002|   7| 5.0|       7|\n",
      "|   A|  XX|2003|   6| 8.0|       7|\n",
      "|   A|  YY|2000|   9| 3.0|       9|\n",
      "|   A|  YY|2001|   5| 4.0|       9|\n",
      "|   A|  YY|2002|  10| 2.0|      10|\n",
      "|   A|  YY|2003|   5| 7.0|      10|\n",
      "+----+----+----+----+----+--------+\n",
      "\n"
     ]
    }
   ],
   "source": [
    "partition_col_names=[\"Id_1\",\"Id_2\"]\n",
    "order_col_names=[\"Year\"]\n",
    "\n",
    "win_name=Window.partitionBy(partition_col_names).orderBy(order_col_names)\n",
    "\n",
    "target_col_name1=\"Me_1\"\n",
    "\n",
    "\n",
    "new_col_name1=f\"max_{target_col_name1}\"\n",
    "\n",
    "\n",
    "df_max=df.withColumn(new_col_name1,max(target_col_name1).over(win_name))                     \n",
    "df_max.show()"
   ]
  },
  {
   "cell_type": "markdown",
   "metadata": {
    "pycharm": {
     "name": "#%% md\n"
    }
   },
   "source": [
    "## 1.5 avg\n",
    "\n",
    "### 1.5.1 Exp1 : window only has partition clause\n",
    "\n",
    "The vtl query:\n",
    "\n",
    "```text\n",
    "res := avg ( ds1 over ( partition by Id_1, Id_2 ) )\n",
    "```\n"
   ]
  },
  {
   "cell_type": "code",
   "execution_count": 104,
   "metadata": {
    "collapsed": false,
    "jupyter": {
     "outputs_hidden": false
    },
    "pycharm": {
     "name": "#%%\n"
    }
   },
   "outputs": [
    {
     "name": "stdout",
     "output_type": "stream",
     "text": [
      "+----+----+----+----+----+--------+--------+\n",
      "|Id_1|Id_2|Year|Me_1|Me_2|avg_Me_1|avg_Me_2|\n",
      "+----+----+----+----+----+--------+--------+\n",
      "|   A|  XX|2000|   3| 1.0|     5.0|    5.75|\n",
      "|   A|  XX|2001|   4| 9.0|     5.0|    5.75|\n",
      "|   A|  XX|2002|   7| 5.0|     5.0|    5.75|\n",
      "|   A|  XX|2003|   6| 8.0|     5.0|    5.75|\n",
      "|   A|  YY|2000|   9| 3.0|    7.25|     4.0|\n",
      "|   A|  YY|2001|   5| 4.0|    7.25|     4.0|\n",
      "|   A|  YY|2002|  10| 2.0|    7.25|     4.0|\n",
      "|   A|  YY|2003|   5| 7.0|    7.25|     4.0|\n",
      "+----+----+----+----+----+--------+--------+\n",
      "\n"
     ]
    }
   ],
   "source": [
    "partition_col_names=[\"Id_1\",\"Id_2\"]\n",
    "\n",
    "win_name=Window.partitionBy(partition_col_names)\n",
    "\n",
    "target_col_name1=\"Me_1\"\n",
    "target_col_name2=\"Me_2\"\n",
    "\n",
    "new_col_name1=f\"avg_{target_col_name1}\"\n",
    "new_col_name2=f\"avg_{target_col_name2}\"\n",
    "\n",
    "df_avg=df.withColumn(new_col_name1,avg(target_col_name1).over(win_name))\\\n",
    "        .withColumn(new_col_name2,avg(target_col_name2).over(win_name))\n",
    "                     \n",
    "df_avg.show()"
   ]
  },
  {
   "cell_type": "markdown",
   "metadata": {},
   "source": [
    "### 1.5.2 Exp 2: window has partition and order by\n",
    "\n",
    "The vtl query:\n",
    "\n",
    "```text\n",
    "res := avg ( ds1 over ( partition by Id_1, Id_2 order by Year) )\n",
    "```"
   ]
  },
  {
   "cell_type": "code",
   "execution_count": 105,
   "metadata": {},
   "outputs": [
    {
     "name": "stdout",
     "output_type": "stream",
     "text": [
      "+----+----+----+----+----+-----------------+--------+\n",
      "|Id_1|Id_2|Year|Me_1|Me_2|         avg_Me_1|avg_Me_2|\n",
      "+----+----+----+----+----+-----------------+--------+\n",
      "|   A|  XX|2000|   3| 1.0|              3.0|     1.0|\n",
      "|   A|  XX|2001|   4| 9.0|              3.5|     5.0|\n",
      "|   A|  XX|2002|   7| 5.0|4.666666666666667|     5.0|\n",
      "|   A|  XX|2003|   6| 8.0|              5.0|    5.75|\n",
      "|   A|  YY|2000|   9| 3.0|              9.0|     3.0|\n",
      "|   A|  YY|2001|   5| 4.0|              7.0|     3.5|\n",
      "|   A|  YY|2002|  10| 2.0|              8.0|     3.0|\n",
      "|   A|  YY|2003|   5| 7.0|             7.25|     4.0|\n",
      "+----+----+----+----+----+-----------------+--------+\n",
      "\n"
     ]
    }
   ],
   "source": [
    "partition_col_names=[\"Id_1\",\"Id_2\"]\n",
    "\n",
    "win_name=Window.partitionBy(partition_col_names).orderBy(\"Year\")\n",
    "\n",
    "target_col_name1=\"Me_1\"\n",
    "target_col_name2=\"Me_2\"\n",
    "\n",
    "new_col_name1=f\"avg_{target_col_name1}\"\n",
    "new_col_name2=f\"avg_{target_col_name2}\"\n",
    "\n",
    "df_avg=df.withColumn(new_col_name1,avg(target_col_name1).over(win_name))\\\n",
    "        .withColumn(new_col_name2,avg(target_col_name2).over(win_name))\n",
    "                     \n",
    "df_avg.show()"
   ]
  },
  {
   "cell_type": "markdown",
   "metadata": {},
   "source": [
    "### 1.5.3 Exp : window has partition, order by and data point\n",
    "\n",
    "The vtl query:\n",
    "\n",
    "```text\n",
    "res := avg ( ds1 over ( partition by Id_1 order by Id_2 data points between 2 preceding and 2 following) )\n",
    "```"
   ]
  },
  {
   "cell_type": "code",
   "execution_count": 106,
   "metadata": {},
   "outputs": [
    {
     "name": "stdout",
     "output_type": "stream",
     "text": [
      "+----+----+----+----+----+-----------------+-----------------+\n",
      "|Id_1|Id_2|Year|Me_1|Me_2|         avg_Me_1|         avg_Me_2|\n",
      "+----+----+----+----+----+-----------------+-----------------+\n",
      "|   A|  XX|2000|   3| 1.0|4.666666666666667|              5.0|\n",
      "|   A|  XX|2001|   4| 9.0|              5.0|             5.75|\n",
      "|   A|  XX|2002|   7| 5.0|              5.8|              5.2|\n",
      "|   A|  XX|2003|   6| 8.0|              6.2|              5.8|\n",
      "|   A|  YY|2000|   9| 3.0|              7.4|              4.4|\n",
      "|   A|  YY|2001|   5| 4.0|              7.0|              4.8|\n",
      "|   A|  YY|2002|  10| 2.0|             7.25|              4.0|\n",
      "|   A|  YY|2003|   5| 7.0|6.666666666666667|4.333333333333333|\n",
      "+----+----+----+----+----+-----------------+-----------------+\n",
      "\n"
     ]
    }
   ],
   "source": [
    "partition_col_names=[\"Id_1\"]\n",
    "order_col_names=[\"Id_2\"]\n",
    "\n",
    "win_name=Window.partitionBy(partition_col_names).orderBy(order_col_names).rowsBetween(-2,2)\n",
    "\n",
    "target_col_name1=\"Me_1\"\n",
    "target_col_name2=\"Me_2\"\n",
    "\n",
    "new_col_name1=f\"avg_{target_col_name1}\"\n",
    "new_col_name2=f\"avg_{target_col_name2}\"\n",
    "\n",
    "df_avg=df.withColumn(new_col_name1,avg(target_col_name1).over(win_name))\\\n",
    "        .withColumn(new_col_name2,avg(target_col_name2).over(win_name))\n",
    "                     \n",
    "df_avg.show()"
   ]
  },
  {
   "cell_type": "markdown",
   "metadata": {},
   "source": [
    "### 1.5.4 Exp : window has partition, order by and range \n",
    "\n",
    "The vtl query:\n",
    "\n",
    "```text\n",
    "res := avg ( ds1 over ( partition by Id_1 order by Year range between -1 and 1) )\n",
    "```"
   ]
  },
  {
   "cell_type": "code",
   "execution_count": 107,
   "metadata": {},
   "outputs": [
    {
     "name": "stdout",
     "output_type": "stream",
     "text": [
      "+----+----+----+----+----+-----------------+-----------------+\n",
      "|Id_1|Id_2|Year|Me_1|Me_2|         avg_Me_1|         avg_Me_2|\n",
      "+----+----+----+----+----+-----------------+-----------------+\n",
      "|   A|  XX|2000|   3| 1.0|             5.25|             4.25|\n",
      "|   A|  YY|2000|   9| 3.0|             5.25|             4.25|\n",
      "|   A|  XX|2001|   4| 9.0|6.333333333333333|              4.0|\n",
      "|   A|  YY|2001|   5| 4.0|6.333333333333333|              4.0|\n",
      "|   A|  XX|2002|   7| 5.0|6.166666666666667|5.833333333333333|\n",
      "|   A|  YY|2002|  10| 2.0|6.166666666666667|5.833333333333333|\n",
      "|   A|  XX|2003|   6| 8.0|              7.0|              5.5|\n",
      "|   A|  YY|2003|   5| 7.0|              7.0|              5.5|\n",
      "+----+----+----+----+----+-----------------+-----------------+\n",
      "\n"
     ]
    }
   ],
   "source": [
    "partition_col_names=[\"Id_1\"]\n",
    "order_col_names=[\"Year\"]\n",
    "\n",
    "win_name=Window.partitionBy(partition_col_names).orderBy(order_col_names).rangeBetween(-1,1)\n",
    "\n",
    "target_col_name1=\"Me_1\"\n",
    "target_col_name2=\"Me_2\"\n",
    "\n",
    "new_col_name1=f\"avg_{target_col_name1}\"\n",
    "new_col_name2=f\"avg_{target_col_name2}\"\n",
    "\n",
    "df_avg=df.withColumn(new_col_name1,avg(target_col_name1).over(win_name))\\\n",
    "        .withColumn(new_col_name2,avg(target_col_name2).over(win_name))\n",
    "                     \n",
    "df_avg.show()"
   ]
  },
  {
   "cell_type": "markdown",
   "metadata": {},
   "source": [
    "### 1.5.5 Exp5: window inside a calc statement \n",
    "\n",
    "\n",
    "The vtl query:\n",
    "\n",
    "```text\n",
    "res := ds1 [ calc max_Me_1:= avg ( Me_1 over ( partition by Id_1,Id_2 order by Year ) )];\n",
    "```"
   ]
  },
  {
   "cell_type": "code",
   "execution_count": 19,
   "metadata": {},
   "outputs": [
    {
     "name": "stdout",
     "output_type": "stream",
     "text": [
      "+----+----+----+----+----+-----------------+\n",
      "|Id_1|Id_2|Year|Me_1|Me_2|         avg_Me_1|\n",
      "+----+----+----+----+----+-----------------+\n",
      "|   A|  XX|2000|   3| 1.0|              3.0|\n",
      "|   A|  XX|2001|   4| 9.0|              3.5|\n",
      "|   A|  XX|2002|   7| 5.0|4.666666666666667|\n",
      "|   A|  XX|2003|   6| 8.0|              5.0|\n",
      "|   A|  YY|2000|   9| 3.0|              9.0|\n",
      "|   A|  YY|2001|   5| 4.0|              7.0|\n",
      "|   A|  YY|2002|  10| 2.0|              8.0|\n",
      "|   A|  YY|2003|   5| 7.0|             7.25|\n",
      "+----+----+----+----+----+-----------------+\n",
      "\n"
     ]
    }
   ],
   "source": [
    "partition_col_names=[\"Id_1\",\"Id_2\"]\n",
    "order_col_names=[\"Year\"]\n",
    "\n",
    "win_name=Window.partitionBy(partition_col_names).orderBy(order_col_names)\n",
    "\n",
    "target_col_name1=\"Me_1\"\n",
    "\n",
    "\n",
    "new_col_name1=f\"avg_{target_col_name1}\"\n",
    "\n",
    "\n",
    "df_max=df.withColumn(new_col_name1,avg(target_col_name1).over(win_name))                     \n",
    "df_max.show()"
   ]
  },
  {
   "cell_type": "markdown",
   "metadata": {
    "pycharm": {
     "name": "#%% md\n"
    }
   },
   "source": [
    "## 1.6 median\n",
    "\n",
    "\n",
    "### 1.6.1 Exp1 : window only has partition clause\n",
    "\n",
    "The vtl query:\n",
    "\n",
    "```text\n",
    "res := median ( ds1 over ( partition by Id_1, Id_2 ) )\n",
    "```\n",
    "\n",
    "\n",
    "percentile_approx with partitionBy followed by orderBy will do rolling median. To have median of each partition, you must only have partitionBy in your window definition."
   ]
  },
  {
   "cell_type": "code",
   "execution_count": 5,
   "metadata": {
    "collapsed": false,
    "jupyter": {
     "outputs_hidden": false
    },
    "pycharm": {
     "name": "#%%\n"
    }
   },
   "outputs": [
    {
     "name": "stdout",
     "output_type": "stream",
     "text": [
      "+----+----+----+----+----+-----------+-----------+\n",
      "|Id_1|Id_2|Year|Me_1|Me_2|median_Me_1|median_Me_2|\n",
      "+----+----+----+----+----+-----------+-----------+\n",
      "|   A|  XX|2000|   3| 1.0|          4|        5.0|\n",
      "|   A|  XX|2001|   4| 9.0|          4|        5.0|\n",
      "|   A|  XX|2002|   7| 5.0|          4|        5.0|\n",
      "|   A|  XX|2003|   6| 8.0|          4|        5.0|\n",
      "|   A|  YY|2000|   9| 3.0|          5|        3.0|\n",
      "|   A|  YY|2001|   5| 4.0|          5|        3.0|\n",
      "|   A|  YY|2002|  10| 2.0|          5|        3.0|\n",
      "|   A|  YY|2003|   5| 7.0|          5|        3.0|\n",
      "+----+----+----+----+----+-----------+-----------+\n",
      "\n"
     ]
    }
   ],
   "source": [
    "partition_col_names=[\"Id_1\",\"Id_2\"]\n",
    "order_col_names=[\"Year\"]\n",
    "MEDIAN_PERCENTILE=0.5\n",
    "PRECISION=10000000\n",
    "win_name=Window.partitionBy(partition_col_names)\n",
    "\n",
    "\n",
    "target_col_name1=\"Me_1\"\n",
    "target_col_name2=\"Me_2\"\n",
    "\n",
    "new_col_name1=f\"median_{target_col_name1}\"\n",
    "new_col_name2=f\"median_{target_col_name2}\"\n",
    "\n",
    "df_median=df.withColumn(new_col_name1,percentile_approx(target_col_name1,MEDIAN_PERCENTILE,PRECISION).over(win_name))\\\n",
    "        .withColumn(new_col_name2,percentile_approx(target_col_name2,MEDIAN_PERCENTILE,PRECISION).over(win_name))\n",
    "                     \n",
    "\n",
    "df_median.show()"
   ]
  },
  {
   "cell_type": "markdown",
   "metadata": {},
   "source": [
    "### 1.6.2 Exp 2: window has partition and order by\n",
    "\n",
    "The vtl query:\n",
    "\n",
    "```text\n",
    "res := median ( ds1 over ( partition by Id_1, Id_2 order by Year) )\n",
    "```"
   ]
  },
  {
   "cell_type": "code",
   "execution_count": 6,
   "metadata": {},
   "outputs": [
    {
     "name": "stdout",
     "output_type": "stream",
     "text": [
      "+----+----+----+----+----+-----------+-----------+\n",
      "|Id_1|Id_2|Year|Me_1|Me_2|median_Me_1|median_Me_2|\n",
      "+----+----+----+----+----+-----------+-----------+\n",
      "|   A|  XX|2000|   3| 1.0|          3|        1.0|\n",
      "|   A|  XX|2001|   4| 9.0|          3|        1.0|\n",
      "|   A|  XX|2002|   7| 5.0|          4|        5.0|\n",
      "|   A|  XX|2003|   6| 8.0|          4|        5.0|\n",
      "|   A|  YY|2000|   9| 3.0|          9|        3.0|\n",
      "|   A|  YY|2001|   5| 4.0|          5|        3.0|\n",
      "|   A|  YY|2002|  10| 2.0|          9|        3.0|\n",
      "|   A|  YY|2003|   5| 7.0|          5|        3.0|\n",
      "+----+----+----+----+----+-----------+-----------+\n",
      "\n"
     ]
    }
   ],
   "source": [
    "partition_col_names=[\"Id_1\",\"Id_2\"]\n",
    "order_col_names=[\"Year\"]\n",
    "MEDIAN_PERCENTILE=0.5\n",
    "PRECISION=10000000\n",
    "win_name=Window.partitionBy(partition_col_names).orderBy(order_col_names)\n",
    "\n",
    "\n",
    "target_col_name1=\"Me_1\"\n",
    "target_col_name2=\"Me_2\"\n",
    "\n",
    "new_col_name1=f\"median_{target_col_name1}\"\n",
    "new_col_name2=f\"median_{target_col_name2}\"\n",
    "\n",
    "df_median=df.withColumn(new_col_name1,percentile_approx(target_col_name1,MEDIAN_PERCENTILE,PRECISION).over(win_name))\\\n",
    "        .withColumn(new_col_name2,percentile_approx(target_col_name2,MEDIAN_PERCENTILE,PRECISION).over(win_name))\n",
    "                     \n",
    "\n",
    "df_median.show()"
   ]
  },
  {
   "cell_type": "markdown",
   "metadata": {},
   "source": [
    "### 1.6.3 Exp : window has partition, order by and data point\n",
    "\n",
    "The vtl query:\n",
    "\n",
    "```text\n",
    "res := median ( ds1 over ( partition by Id_1 order by Id_2 data points between 2 preceding and 2 following) )\n",
    "```"
   ]
  },
  {
   "cell_type": "code",
   "execution_count": 9,
   "metadata": {},
   "outputs": [
    {
     "name": "stdout",
     "output_type": "stream",
     "text": [
      "+----+----+----+----+----+-----------+-----------+\n",
      "|Id_1|Id_2|Year|Me_1|Me_2|median_Me_1|median_Me_2|\n",
      "+----+----+----+----+----+-----------+-----------+\n",
      "|   A|  XX|2000|   3| 1.0|          4|        5.0|\n",
      "|   A|  XX|2001|   4| 9.0|          4|        5.0|\n",
      "|   A|  XX|2002|   7| 5.0|          6|        5.0|\n",
      "|   A|  XX|2003|   6| 8.0|          6|        5.0|\n",
      "|   A|  YY|2000|   9| 3.0|          7|        4.0|\n",
      "|   A|  YY|2001|   5| 4.0|          6|        4.0|\n",
      "|   A|  YY|2002|  10| 2.0|          5|        3.0|\n",
      "|   A|  YY|2003|   5| 7.0|          5|        4.0|\n",
      "+----+----+----+----+----+-----------+-----------+\n",
      "\n"
     ]
    }
   ],
   "source": [
    "partition_col_names=[\"Id_1\"]\n",
    "order_col_names=[\"Id_2\"]\n",
    "MEDIAN_PERCENTILE=0.5\n",
    "PRECISION=10000000\n",
    "win_name=Window.partitionBy(partition_col_names).orderBy(order_col_names).rowsBetween(-2,2)\n",
    "\n",
    "\n",
    "target_col_name1=\"Me_1\"\n",
    "target_col_name2=\"Me_2\"\n",
    "\n",
    "new_col_name1=f\"median_{target_col_name1}\"\n",
    "new_col_name2=f\"median_{target_col_name2}\"\n",
    "\n",
    "df_median=df.withColumn(new_col_name1,percentile_approx(target_col_name1,MEDIAN_PERCENTILE,PRECISION).over(win_name))\\\n",
    "        .withColumn(new_col_name2,percentile_approx(target_col_name2,MEDIAN_PERCENTILE,PRECISION).over(win_name))\n",
    "                     \n",
    "\n",
    "df_median.show()"
   ]
  },
  {
   "cell_type": "markdown",
   "metadata": {},
   "source": [
    "### 1.6.4 Exp : window has partition, order by and range \n",
    "\n",
    "The vtl query:\n",
    "\n",
    "```text\n",
    "res := median ( ds1 over ( partition by Id_1 order by Year range between -1 and 1) )\n",
    "```"
   ]
  },
  {
   "cell_type": "code",
   "execution_count": 10,
   "metadata": {},
   "outputs": [
    {
     "name": "stdout",
     "output_type": "stream",
     "text": [
      "+----+----+----+----+----+-----------+-----------+\n",
      "|Id_1|Id_2|Year|Me_1|Me_2|median_Me_1|median_Me_2|\n",
      "+----+----+----+----+----+-----------+-----------+\n",
      "|   A|  XX|2000|   3| 1.0|          4|        3.0|\n",
      "|   A|  YY|2000|   9| 3.0|          4|        3.0|\n",
      "|   A|  XX|2001|   4| 9.0|          5|        3.0|\n",
      "|   A|  YY|2001|   5| 4.0|          5|        3.0|\n",
      "|   A|  XX|2002|   7| 5.0|          5|        5.0|\n",
      "|   A|  YY|2002|  10| 2.0|          5|        5.0|\n",
      "|   A|  XX|2003|   6| 8.0|          6|        5.0|\n",
      "|   A|  YY|2003|   5| 7.0|          6|        5.0|\n",
      "+----+----+----+----+----+-----------+-----------+\n",
      "\n"
     ]
    }
   ],
   "source": [
    "partition_col_names=[\"Id_1\"]\n",
    "order_col_names=[\"Year\"]\n",
    "MEDIAN_PERCENTILE=0.5\n",
    "PRECISION=10000000\n",
    "win_name=Window.partitionBy(partition_col_names).orderBy(order_col_names).rangeBetween(-1,1)\n",
    "\n",
    "\n",
    "target_col_name1=\"Me_1\"\n",
    "target_col_name2=\"Me_2\"\n",
    "\n",
    "new_col_name1=f\"median_{target_col_name1}\"\n",
    "new_col_name2=f\"median_{target_col_name2}\"\n",
    "\n",
    "df_median=df.withColumn(new_col_name1,percentile_approx(target_col_name1,MEDIAN_PERCENTILE,PRECISION).over(win_name))\\\n",
    "        .withColumn(new_col_name2,percentile_approx(target_col_name2,MEDIAN_PERCENTILE,PRECISION).over(win_name))\n",
    "                     \n",
    "\n",
    "df_median.show()"
   ]
  },
  {
   "cell_type": "markdown",
   "metadata": {},
   "source": [
    "### 1.6.5 Exp5: window inside a calc statement \n",
    "\n",
    "\n",
    "The vtl query:\n",
    "\n",
    "```text\n",
    "res := ds1 [ calc median_Me_1:= median ( Me_1 over ( partition by Id_1,Id_2 order by Year ) )];\n",
    "```"
   ]
  },
  {
   "cell_type": "code",
   "execution_count": 20,
   "metadata": {},
   "outputs": [
    {
     "name": "stdout",
     "output_type": "stream",
     "text": [
      "+----+----+----+----+----+-----------+\n",
      "|Id_1|Id_2|Year|Me_1|Me_2|median_Me_1|\n",
      "+----+----+----+----+----+-----------+\n",
      "|   A|  XX|2000|   3| 1.0|          3|\n",
      "|   A|  XX|2001|   4| 9.0|          3|\n",
      "|   A|  XX|2002|   7| 5.0|          4|\n",
      "|   A|  XX|2003|   6| 8.0|          4|\n",
      "|   A|  YY|2000|   9| 3.0|          9|\n",
      "|   A|  YY|2001|   5| 4.0|          5|\n",
      "|   A|  YY|2002|  10| 2.0|          9|\n",
      "|   A|  YY|2003|   5| 7.0|          5|\n",
      "+----+----+----+----+----+-----------+\n",
      "\n"
     ]
    }
   ],
   "source": [
    "partition_col_names=[\"Id_1\",\"Id_2\"]\n",
    "order_col_names=[\"Year\"]\n",
    "MEDIAN_PERCENTILE=0.5\n",
    "PRECISION=10000000\n",
    "win_name=Window.partitionBy(partition_col_names).orderBy(order_col_names)\n",
    "\n",
    "\n",
    "target_col_name1=\"Me_1\"\n",
    "\n",
    "\n",
    "new_col_name1=f\"median_{target_col_name1}\"\n",
    "\n",
    "\n",
    "df_median=df.withColumn(new_col_name1,percentile_approx(target_col_name1,MEDIAN_PERCENTILE,PRECISION).over(win_name))\n",
    "                     \n",
    "\n",
    "df_median.show()"
   ]
  },
  {
   "cell_type": "markdown",
   "metadata": {
    "pycharm": {
     "name": "#%% md\n"
    }
   },
   "source": [
    "## 1.7 stddev_pop\n",
    "\n",
    "An example of steddev_pop and steddev_sample\n",
    "\n",
    "https://www.khanacademy.org/math/statistics-probability/summarizing-quantitative-data/variance-standard-deviation-sample/a/population-and-sample-standard-deviation-review\n",
    "\n",
    "The operator returns the “population standard deviation” of the input values.\n",
    "\n",
    "### 1.7.1 Exp1 : window only has partition clause\n",
    "\n",
    "The vtl query:\n",
    "\n",
    "```text\n",
    "res := stddev_pop ( ds1 over ( partition by Id_1, Id_2 ) )\n",
    "```\n"
   ]
  },
  {
   "cell_type": "code",
   "execution_count": 78,
   "metadata": {
    "collapsed": false,
    "jupyter": {
     "outputs_hidden": false
    },
    "pycharm": {
     "name": "#%%\n"
    }
   },
   "outputs": [
    {
     "name": "stdout",
     "output_type": "stream",
     "text": [
      "+----+----+----+----+----+------------------+------------------+\n",
      "|Id_1|Id_2|Year|Me_1|Me_2|      std_pop_Me_1|      std_pop_Me_2|\n",
      "+----+----+----+----+----+------------------+------------------+\n",
      "|   A|  XX|2000|   3| 1.0|1.5811388300841895| 3.112474899497183|\n",
      "|   A|  XX|2001|   4| 9.0|1.5811388300841895| 3.112474899497183|\n",
      "|   A|  XX|2002|   7| 5.0|1.5811388300841895| 3.112474899497183|\n",
      "|   A|  XX|2003|   6| 8.0|1.5811388300841895| 3.112474899497183|\n",
      "|   A|  YY|2000|   9| 3.0| 2.277608394786075|1.8708286933869707|\n",
      "|   A|  YY|2001|   5| 4.0| 2.277608394786075|1.8708286933869707|\n",
      "|   A|  YY|2002|  10| 2.0| 2.277608394786075|1.8708286933869707|\n",
      "|   A|  YY|2003|   5| 7.0| 2.277608394786075|1.8708286933869707|\n",
      "+----+----+----+----+----+------------------+------------------+\n",
      "\n"
     ]
    }
   ],
   "source": [
    "partition_col_names=[\"Id_1\",\"Id_2\"]\n",
    "\n",
    "win_name=Window.partitionBy(partition_col_names)\n",
    "\n",
    "target_col_name1=\"Me_1\"\n",
    "target_col_name2=\"Me_2\"\n",
    "\n",
    "new_col_name1=f\"std_pop_{target_col_name1}\"\n",
    "new_col_name2=f\"std_pop_{target_col_name2}\"\n",
    "\n",
    "df_std_pop=df.withColumn(new_col_name1,stddev_pop(target_col_name1).over(win_name))\\\n",
    "        .withColumn(new_col_name2,stddev_pop(target_col_name2).over(win_name))\n",
    "df_std_pop.show()"
   ]
  },
  {
   "cell_type": "markdown",
   "metadata": {},
   "source": [
    "### 1.7.2 Exp 2: window has partition and order by\n",
    "\n",
    "The vtl query:\n",
    "\n",
    "```text\n",
    "res := stddev_pop ( ds1 over ( partition by Id_1, Id_2 order by Year) )\n",
    "```"
   ]
  },
  {
   "cell_type": "code",
   "execution_count": 79,
   "metadata": {},
   "outputs": [
    {
     "name": "stdout",
     "output_type": "stream",
     "text": [
      "+----+----+----+----+----+------------------+------------------+\n",
      "|Id_1|Id_2|Year|Me_1|Me_2|      std_pop_Me_1|      std_pop_Me_2|\n",
      "+----+----+----+----+----+------------------+------------------+\n",
      "|   A|  XX|2000|   3| 1.0|               0.0|               0.0|\n",
      "|   A|  XX|2001|   4| 9.0|               0.5|               4.0|\n",
      "|   A|  XX|2002|   7| 5.0| 1.699673171197595| 3.265986323710904|\n",
      "|   A|  XX|2003|   6| 8.0|1.5811388300841895| 3.112474899497183|\n",
      "|   A|  YY|2000|   9| 3.0|               0.0|               0.0|\n",
      "|   A|  YY|2001|   5| 4.0|               2.0|               0.5|\n",
      "|   A|  YY|2002|  10| 2.0| 2.160246899469287| 0.816496580927726|\n",
      "|   A|  YY|2003|   5| 7.0| 2.277608394786075|1.8708286933869707|\n",
      "+----+----+----+----+----+------------------+------------------+\n",
      "\n"
     ]
    }
   ],
   "source": [
    "partition_col_names=[\"Id_1\",\"Id_2\"]\n",
    "order_col_names=[\"Year\"]\n",
    "win_name=Window.partitionBy(partition_col_names).orderBy(order_col_names)\n",
    "\n",
    "target_col_name1=\"Me_1\"\n",
    "target_col_name2=\"Me_2\"\n",
    "\n",
    "new_col_name1=f\"std_pop_{target_col_name1}\"\n",
    "new_col_name2=f\"std_pop_{target_col_name2}\"\n",
    "\n",
    "df_std_pop=df.withColumn(new_col_name1,stddev_pop(target_col_name1).over(win_name))\\\n",
    "        .withColumn(new_col_name2,stddev_pop(target_col_name2).over(win_name))\n",
    "df_std_pop.show()"
   ]
  },
  {
   "cell_type": "markdown",
   "metadata": {},
   "source": [
    "### 1.7.3 Exp : window has partition, order by and data point\n",
    "\n",
    "The vtl query:\n",
    "\n",
    "```text\n",
    "res := stddev_pop ( ds1 over ( partition by Id_1 order by Id_2 data points between 2 preceding and 2 following) )\n",
    "```"
   ]
  },
  {
   "cell_type": "code",
   "execution_count": 80,
   "metadata": {},
   "outputs": [
    {
     "name": "stdout",
     "output_type": "stream",
     "text": [
      "+----+----+----+----+----+------------------+------------------+\n",
      "|Id_1|Id_2|Year|Me_1|Me_2|      std_pop_Me_1|      std_pop_Me_2|\n",
      "+----+----+----+----+----+------------------+------------------+\n",
      "|   A|  XX|2000|   3| 1.0| 1.699673171197595| 3.265986323710904|\n",
      "|   A|  XX|2001|   4| 9.0|1.5811388300841895| 3.112474899497183|\n",
      "|   A|  XX|2002|   7| 5.0|2.1354156504062622| 2.993325909419153|\n",
      "|   A|  XX|2003|   6| 8.0|1.7204650534085253|2.3151673805580453|\n",
      "|   A|  YY|2000|   9| 3.0|1.8547236990991407|   2.0591260281974|\n",
      "|   A|  YY|2001|   5| 4.0|2.0976176963403033|2.3151673805580453|\n",
      "|   A|  YY|2002|  10| 2.0| 2.277608394786075|1.8708286933869707|\n",
      "|   A|  YY|2003|   5| 7.0| 2.357022603955158|2.0548046676563256|\n",
      "+----+----+----+----+----+------------------+------------------+\n",
      "\n"
     ]
    }
   ],
   "source": [
    "partition_col_names=[\"Id_1\"]\n",
    "order_col_names=[\"Id_2\"]\n",
    "win_name=Window.partitionBy(partition_col_names).orderBy(order_col_names).rowsBetween(-2,2)\n",
    "\n",
    "target_col_name1=\"Me_1\"\n",
    "target_col_name2=\"Me_2\"\n",
    "\n",
    "new_col_name1=f\"std_pop_{target_col_name1}\"\n",
    "new_col_name2=f\"std_pop_{target_col_name2}\"\n",
    "\n",
    "df_std_pop=df.withColumn(new_col_name1,stddev_pop(target_col_name1).over(win_name))\\\n",
    "        .withColumn(new_col_name2,stddev_pop(target_col_name2).over(win_name))\n",
    "df_std_pop.show()"
   ]
  },
  {
   "cell_type": "markdown",
   "metadata": {},
   "source": [
    "### 1.7.4 Exp : window has partition, order by and range \n",
    "\n",
    "The vtl query:\n",
    "\n",
    "```text\n",
    "res := stddev_pop ( ds1 over ( partition by Id_1 order by Year range between -1 and 1) )\n",
    "```"
   ]
  },
  {
   "cell_type": "code",
   "execution_count": 81,
   "metadata": {},
   "outputs": [
    {
     "name": "stdout",
     "output_type": "stream",
     "text": [
      "+----+----+----+----+----+------------------+------------------+\n",
      "|Id_1|Id_2|Year|Me_1|Me_2|      std_pop_Me_1|      std_pop_Me_2|\n",
      "+----+----+----+----+----+------------------+------------------+\n",
      "|   A|  XX|2000|   3| 1.0| 2.277608394786075| 2.947456530637899|\n",
      "|   A|  YY|2000|   9| 3.0| 2.277608394786075| 2.947456530637899|\n",
      "|   A|  XX|2001|   4| 9.0| 2.560381915956203|2.5819888974716116|\n",
      "|   A|  YY|2001|   5| 4.0| 2.560381915956203|2.5819888974716116|\n",
      "|   A|  XX|2002|   7| 5.0|1.9507833184532708|2.4094720491334933|\n",
      "|   A|  YY|2002|  10| 2.0|1.9507833184532708|2.4094720491334933|\n",
      "|   A|  XX|2003|   6| 8.0|1.8708286933869707|  2.29128784747792|\n",
      "|   A|  YY|2003|   5| 7.0|1.8708286933869707|  2.29128784747792|\n",
      "+----+----+----+----+----+------------------+------------------+\n",
      "\n"
     ]
    }
   ],
   "source": [
    "partition_col_names=[\"Id_1\"]\n",
    "order_col_names=[\"Year\"]\n",
    "win_name=Window.partitionBy(partition_col_names).orderBy(order_col_names).rangeBetween(-1,1)\n",
    "\n",
    "target_col_name1=\"Me_1\"\n",
    "target_col_name2=\"Me_2\"\n",
    "\n",
    "new_col_name1=f\"std_pop_{target_col_name1}\"\n",
    "new_col_name2=f\"std_pop_{target_col_name2}\"\n",
    "\n",
    "df_std_pop=df.withColumn(new_col_name1,stddev_pop(target_col_name1).over(win_name))\\\n",
    "        .withColumn(new_col_name2,stddev_pop(target_col_name2).over(win_name))\n",
    "df_std_pop.show()"
   ]
  },
  {
   "cell_type": "markdown",
   "metadata": {},
   "source": [
    "### 1.7.5 Exp5: window inside a calc statement \n",
    "\n",
    "\n",
    "The vtl query:\n",
    "\n",
    "```text\n",
    "res := ds1 [ calc stddev_pop_Me_1:= stddev_pop ( Me_1 over ( partition by Id_1,Id_2 order by Year ) )];\n",
    "```"
   ]
  },
  {
   "cell_type": "code",
   "execution_count": 22,
   "metadata": {},
   "outputs": [
    {
     "name": "stdout",
     "output_type": "stream",
     "text": [
      "+----+----+----+----+----+------------------+\n",
      "|Id_1|Id_2|Year|Me_1|Me_2|   stddev_pop_Me_1|\n",
      "+----+----+----+----+----+------------------+\n",
      "|   A|  XX|2000|   3| 1.0|               0.0|\n",
      "|   A|  XX|2001|   4| 9.0|               0.5|\n",
      "|   A|  XX|2002|   7| 5.0| 1.699673171197595|\n",
      "|   A|  XX|2003|   6| 8.0|1.5811388300841895|\n",
      "|   A|  YY|2000|   9| 3.0|               0.0|\n",
      "|   A|  YY|2001|   5| 4.0|               2.0|\n",
      "|   A|  YY|2002|  10| 2.0| 2.160246899469287|\n",
      "|   A|  YY|2003|   5| 7.0| 2.277608394786075|\n",
      "+----+----+----+----+----+------------------+\n",
      "\n"
     ]
    }
   ],
   "source": [
    "partition_col_names=[\"Id_1\",\"Id_2\"]\n",
    "order_col_names=[\"Year\"]\n",
    "\n",
    "win_name=Window.partitionBy(partition_col_names).orderBy(order_col_names)\n",
    "\n",
    "target_col_name1=\"Me_1\"\n",
    "\n",
    "\n",
    "new_col_name1=f\"stddev_pop_{target_col_name1}\"\n",
    "\n",
    "\n",
    "df_std_pop=df.withColumn(new_col_name1,stddev_pop(target_col_name1).over(win_name))                     \n",
    "df_std_pop.show()"
   ]
  },
  {
   "cell_type": "markdown",
   "metadata": {
    "pycharm": {
     "name": "#%% md\n"
    }
   },
   "source": [
    "## 1.8 stddev_samp\n",
    "\n",
    "The operator returns the “sample standard deviation” of the input values.\n",
    "\n",
    "### 1.8.1 Exp1 : window only has partition clause\n",
    "\n",
    "The vtl query:\n",
    "\n",
    "```text\n",
    "res := stddev_samp ( ds1 over ( partition by Id_1, Id_2 ) )\n",
    "```"
   ]
  },
  {
   "cell_type": "code",
   "execution_count": 82,
   "metadata": {
    "collapsed": false,
    "jupyter": {
     "outputs_hidden": false
    },
    "pycharm": {
     "name": "#%%\n"
    }
   },
   "outputs": [
    {
     "name": "stdout",
     "output_type": "stream",
     "text": [
      "+----+----+----+----+----+------------------+-----------------+\n",
      "|Id_1|Id_2|Year|Me_1|Me_2|     std_samp_Me_1|    std_samp_Me_2|\n",
      "+----+----+----+----+----+------------------+-----------------+\n",
      "|   A|  XX|2000|   3| 1.0|1.8257418583505536|3.593976442141304|\n",
      "|   A|  XX|2001|   4| 9.0|1.8257418583505536|3.593976442141304|\n",
      "|   A|  XX|2002|   7| 5.0|1.8257418583505536|3.593976442141304|\n",
      "|   A|  XX|2003|   6| 8.0|1.8257418583505536|3.593976442141304|\n",
      "|   A|  YY|2000|   9| 3.0|2.6299556396765835|2.160246899469287|\n",
      "|   A|  YY|2001|   5| 4.0|2.6299556396765835|2.160246899469287|\n",
      "|   A|  YY|2002|  10| 2.0|2.6299556396765835|2.160246899469287|\n",
      "|   A|  YY|2003|   5| 7.0|2.6299556396765835|2.160246899469287|\n",
      "+----+----+----+----+----+------------------+-----------------+\n",
      "\n"
     ]
    }
   ],
   "source": [
    "partition_col_names=[\"Id_1\",\"Id_2\"]\n",
    "order_col_names=[\"Id_3\"]\n",
    "win_name=Window.partitionBy(partition_col_names)\n",
    "\n",
    "target_col_name1=\"Me_1\"\n",
    "target_col_name2=\"Me_2\"\n",
    "\n",
    "new_col_name1=f\"std_samp_{target_col_name1}\"\n",
    "new_col_name2=f\"std_samp_{target_col_name2}\"\n",
    "\n",
    "df_std_samp=df.withColumn(new_col_name1,stddev_samp(target_col_name1).over(win_name))\\\n",
    "        .withColumn(new_col_name2,stddev_samp(target_col_name2).over(win_name))\n",
    "df_std_samp.show()\n"
   ]
  },
  {
   "cell_type": "markdown",
   "metadata": {},
   "source": [
    "### 1.8.2 Exp 2: window has partition and order by\n",
    "\n",
    "The vtl query:\n",
    "\n",
    "```text\n",
    "res := stddev_samp ( ds1 over ( partition by Id_1, Id_2 order by Year) )\n",
    "```"
   ]
  },
  {
   "cell_type": "code",
   "execution_count": 83,
   "metadata": {},
   "outputs": [
    {
     "name": "stdout",
     "output_type": "stream",
     "text": [
      "+----+----+----+----+----+------------------+------------------+\n",
      "|Id_1|Id_2|Year|Me_1|Me_2|     std_samp_Me_1|     std_samp_Me_2|\n",
      "+----+----+----+----+----+------------------+------------------+\n",
      "|   A|  XX|2000|   3| 1.0|              null|              null|\n",
      "|   A|  XX|2001|   4| 9.0|0.7071067811865476| 5.656854249492381|\n",
      "|   A|  XX|2002|   7| 5.0|2.0816659994661326|               4.0|\n",
      "|   A|  XX|2003|   6| 8.0|1.8257418583505536| 3.593976442141304|\n",
      "|   A|  YY|2000|   9| 3.0|              null|              null|\n",
      "|   A|  YY|2001|   5| 4.0|2.8284271247461903|0.7071067811865476|\n",
      "|   A|  YY|2002|  10| 2.0|2.6457513110645907|               1.0|\n",
      "|   A|  YY|2003|   5| 7.0|2.6299556396765835| 2.160246899469287|\n",
      "+----+----+----+----+----+------------------+------------------+\n",
      "\n"
     ]
    }
   ],
   "source": [
    "partition_col_names=[\"Id_1\",\"Id_2\"]\n",
    "order_col_names=[\"Year\"]\n",
    "win_name=Window.partitionBy(partition_col_names).orderBy(order_col_names)\n",
    "\n",
    "target_col_name1=\"Me_1\"\n",
    "target_col_name2=\"Me_2\"\n",
    "\n",
    "new_col_name1=f\"std_samp_{target_col_name1}\"\n",
    "new_col_name2=f\"std_samp_{target_col_name2}\"\n",
    "\n",
    "df_std_samp=df.withColumn(new_col_name1,stddev_samp(target_col_name1).over(win_name))\\\n",
    "        .withColumn(new_col_name2,stddev_samp(target_col_name2).over(win_name))\n",
    "df_std_samp.show()"
   ]
  },
  {
   "cell_type": "markdown",
   "metadata": {},
   "source": [
    "### 1.8.3 Exp : window has partition, order by and data point\n",
    "\n",
    "The vtl query:\n",
    "\n",
    "```text\n",
    "res := stddev_samp ( ds1 over ( partition by Id_1 order by Id_2 data points between 2 preceding and 2 following) )\n",
    "```"
   ]
  },
  {
   "cell_type": "code",
   "execution_count": 84,
   "metadata": {},
   "outputs": [
    {
     "name": "stdout",
     "output_type": "stream",
     "text": [
      "+----+----+----+----+----+------------------+------------------+\n",
      "|Id_1|Id_2|Year|Me_1|Me_2|     std_samp_Me_1|     std_samp_Me_2|\n",
      "+----+----+----+----+----+------------------+------------------+\n",
      "|   A|  XX|2000|   3| 1.0|2.0816659994661326|               4.0|\n",
      "|   A|  XX|2001|   4| 9.0|1.8257418583505536| 3.593976442141304|\n",
      "|   A|  XX|2002|   7| 5.0|2.3874672772626644|3.3466401061363023|\n",
      "|   A|  XX|2003|   6| 8.0|1.9235384061671346| 2.588435821108957|\n",
      "|   A|  YY|2000|   9| 3.0| 2.073644135332772|2.3021728866442674|\n",
      "|   A|  YY|2001|   5| 4.0| 2.345207879911715| 2.588435821108957|\n",
      "|   A|  YY|2002|  10| 2.0|2.6299556396765835| 2.160246899469287|\n",
      "|   A|  YY|2003|   5| 7.0|2.8867513459481287|2.5166114784235836|\n",
      "+----+----+----+----+----+------------------+------------------+\n",
      "\n"
     ]
    }
   ],
   "source": [
    "partition_col_names=[\"Id_1\"]\n",
    "order_col_names=[\"Id_2\"]\n",
    "win_name=Window.partitionBy(partition_col_names).orderBy(order_col_names).rowsBetween(-2,2)\n",
    "\n",
    "target_col_name1=\"Me_1\"\n",
    "target_col_name2=\"Me_2\"\n",
    "\n",
    "new_col_name1=f\"std_samp_{target_col_name1}\"\n",
    "new_col_name2=f\"std_samp_{target_col_name2}\"\n",
    "\n",
    "df_std_samp=df.withColumn(new_col_name1,stddev_samp(target_col_name1).over(win_name))\\\n",
    "        .withColumn(new_col_name2,stddev_samp(target_col_name2).over(win_name))\n",
    "df_std_samp.show()"
   ]
  },
  {
   "cell_type": "markdown",
   "metadata": {},
   "source": [
    "### 1.8.4 Exp : window has partition, order by and range \n",
    "\n",
    "The vtl query:\n",
    "\n",
    "```text\n",
    "res := stddev_samp ( ds1 over ( partition by Id_1 order by Year range between -1 and 1) )\n",
    "```"
   ]
  },
  {
   "cell_type": "code",
   "execution_count": 85,
   "metadata": {},
   "outputs": [
    {
     "name": "stdout",
     "output_type": "stream",
     "text": [
      "+----+----+----+----+----+------------------+------------------+\n",
      "|Id_1|Id_2|Year|Me_1|Me_2|     std_samp_Me_1|     std_samp_Me_2|\n",
      "+----+----+----+----+----+------------------+------------------+\n",
      "|   A|  XX|2000|   3| 1.0|2.6299556396765835|3.4034296427770228|\n",
      "|   A|  YY|2000|   9| 3.0|2.6299556396765835|3.4034296427770228|\n",
      "|   A|  XX|2001|   4| 9.0|2.8047578623950176|2.8284271247461903|\n",
      "|   A|  YY|2001|   5| 4.0|2.8047578623950176|2.8284271247461903|\n",
      "|   A|  XX|2002|   7| 5.0| 2.136976056643281|2.6394443859772205|\n",
      "|   A|  YY|2002|  10| 2.0| 2.136976056643281|2.6394443859772205|\n",
      "|   A|  XX|2003|   6| 8.0| 2.160246899469287|2.6457513110645907|\n",
      "|   A|  YY|2003|   5| 7.0| 2.160246899469287|2.6457513110645907|\n",
      "+----+----+----+----+----+------------------+------------------+\n",
      "\n"
     ]
    }
   ],
   "source": [
    "partition_col_names=[\"Id_1\"]\n",
    "order_col_names=[\"Year\"]\n",
    "win_name=Window.partitionBy(partition_col_names).orderBy(order_col_names).rangeBetween(-1,1)\n",
    "\n",
    "target_col_name1=\"Me_1\"\n",
    "target_col_name2=\"Me_2\"\n",
    "\n",
    "new_col_name1=f\"std_samp_{target_col_name1}\"\n",
    "new_col_name2=f\"std_samp_{target_col_name2}\"\n",
    "\n",
    "df_std_samp=df.withColumn(new_col_name1,stddev_samp(target_col_name1).over(win_name))\\\n",
    "        .withColumn(new_col_name2,stddev_samp(target_col_name2).over(win_name))\n",
    "df_std_samp.show()"
   ]
  },
  {
   "cell_type": "markdown",
   "metadata": {},
   "source": [
    "### 1.8.5 Exp5: window inside a calc statement \n",
    "\n",
    "\n",
    "The vtl query:\n",
    "\n",
    "```text\n",
    "res := ds1 [ calc stddev_samp_Me_1:= stddev_samp ( Me_1 over ( partition by Id_1,Id_2 order by Year ) )];\n",
    "```"
   ]
  },
  {
   "cell_type": "code",
   "execution_count": 23,
   "metadata": {},
   "outputs": [
    {
     "name": "stdout",
     "output_type": "stream",
     "text": [
      "+----+----+----+----+----+------------------+\n",
      "|Id_1|Id_2|Year|Me_1|Me_2|  stddev_samp_Me_1|\n",
      "+----+----+----+----+----+------------------+\n",
      "|   A|  XX|2000|   3| 1.0|              null|\n",
      "|   A|  XX|2001|   4| 9.0|0.7071067811865476|\n",
      "|   A|  XX|2002|   7| 5.0|2.0816659994661326|\n",
      "|   A|  XX|2003|   6| 8.0|1.8257418583505536|\n",
      "|   A|  YY|2000|   9| 3.0|              null|\n",
      "|   A|  YY|2001|   5| 4.0|2.8284271247461903|\n",
      "|   A|  YY|2002|  10| 2.0|2.6457513110645907|\n",
      "|   A|  YY|2003|   5| 7.0|2.6299556396765835|\n",
      "+----+----+----+----+----+------------------+\n",
      "\n"
     ]
    }
   ],
   "source": [
    "partition_col_names=[\"Id_1\",\"Id_2\"]\n",
    "order_col_names=[\"Year\"]\n",
    "\n",
    "win_name=Window.partitionBy(partition_col_names).orderBy(order_col_names)\n",
    "\n",
    "target_col_name1=\"Me_1\"\n",
    "\n",
    "\n",
    "new_col_name1=f\"stddev_samp_{target_col_name1}\"\n",
    "\n",
    "\n",
    "df_std_samp=df.withColumn(new_col_name1,stddev_samp(target_col_name1).over(win_name))                     \n",
    "df_std_samp.show()"
   ]
  },
  {
   "cell_type": "markdown",
   "metadata": {
    "pycharm": {
     "name": "#%% md\n"
    }
   },
   "source": [
    "## 1.9 var_pop\n",
    "\n",
    "The operator returns the “population variance” of the input values\n",
    "\n",
    "### 1.9.1 Exp1 : window only has partition clause\n",
    "\n",
    "The vtl query:\n",
    "\n",
    "```text\n",
    "res := var_pop ( ds1 over ( partition by Id_1, Id_2 ) )\n",
    "```\n",
    "\n"
   ]
  },
  {
   "cell_type": "code",
   "execution_count": 4,
   "metadata": {
    "collapsed": false,
    "jupyter": {
     "outputs_hidden": false
    },
    "pycharm": {
     "name": "#%%\n"
    }
   },
   "outputs": [
    {
     "name": "stdout",
     "output_type": "stream",
     "text": [
      "+----+----+----+----+----+------------------+------------+\n",
      "|Id_1|Id_2|Year|Me_1|Me_2|      var_pop_Me_1|var_pop_Me_2|\n",
      "+----+----+----+----+----+------------------+------------+\n",
      "|   A|  XX|2000|   3| 1.0|2.4999999999999996|      9.6875|\n",
      "|   A|  XX|2001|   4| 9.0|2.4999999999999996|      9.6875|\n",
      "|   A|  XX|2002|   7| 5.0|2.4999999999999996|      9.6875|\n",
      "|   A|  XX|2003|   6| 8.0|2.4999999999999996|      9.6875|\n",
      "|   A|  YY|2000|   9| 3.0|            5.1875|         3.5|\n",
      "|   A|  YY|2001|   5| 4.0|            5.1875|         3.5|\n",
      "|   A|  YY|2002|  10| 2.0|            5.1875|         3.5|\n",
      "|   A|  YY|2003|   5| 7.0|            5.1875|         3.5|\n",
      "+----+----+----+----+----+------------------+------------+\n",
      "\n"
     ]
    }
   ],
   "source": [
    "partition_col_names=[\"Id_1\",\"Id_2\"]\n",
    "\n",
    "win_name=Window.partitionBy(partition_col_names)\n",
    "\n",
    "target_col_name1=\"Me_1\"\n",
    "target_col_name2=\"Me_2\"\n",
    "\n",
    "new_col_name1=f\"var_pop_{target_col_name1}\"\n",
    "new_col_name2=f\"var_pop_{target_col_name2}\"\n",
    "\n",
    "df_var_pop=df.withColumn(new_col_name1,var_pop(target_col_name1).over(win_name))\\\n",
    "        .withColumn(new_col_name2,var_pop(target_col_name2).over(win_name))\n",
    "df_var_pop.show()\n"
   ]
  },
  {
   "cell_type": "markdown",
   "metadata": {},
   "source": [
    "### 1.9.2 Exp 2: window has partition and order by\n",
    "\n",
    "The vtl query:\n",
    "\n",
    "```text\n",
    "res := var_pop ( ds1 over ( partition by Id_1, Id_2 order by Year) )\n",
    "```"
   ]
  },
  {
   "cell_type": "code",
   "execution_count": 5,
   "metadata": {},
   "outputs": [
    {
     "name": "stdout",
     "output_type": "stream",
     "text": [
      "+----+----+----+----+----+------------------+------------------+\n",
      "|Id_1|Id_2|Year|Me_1|Me_2|      var_pop_Me_1|      var_pop_Me_2|\n",
      "+----+----+----+----+----+------------------+------------------+\n",
      "|   A|  XX|2000|   3| 1.0|               0.0|               0.0|\n",
      "|   A|  XX|2001|   4| 9.0|              0.25|              16.0|\n",
      "|   A|  XX|2002|   7| 5.0| 2.888888888888889|10.666666666666666|\n",
      "|   A|  XX|2003|   6| 8.0|2.4999999999999996|            9.6875|\n",
      "|   A|  YY|2000|   9| 3.0|               0.0|               0.0|\n",
      "|   A|  YY|2001|   5| 4.0|               4.0|              0.25|\n",
      "|   A|  YY|2002|  10| 2.0| 4.666666666666667|0.6666666666666666|\n",
      "|   A|  YY|2003|   5| 7.0|            5.1875|               3.5|\n",
      "+----+----+----+----+----+------------------+------------------+\n",
      "\n"
     ]
    }
   ],
   "source": [
    "partition_col_names=[\"Id_1\",\"Id_2\"]\n",
    "order_col_names=[\"Year\"]\n",
    "win_name=Window.partitionBy(partition_col_names).orderBy(order_col_names)\n",
    "\n",
    "target_col_name1=\"Me_1\"\n",
    "target_col_name2=\"Me_2\"\n",
    "\n",
    "new_col_name1=f\"var_pop_{target_col_name1}\"\n",
    "new_col_name2=f\"var_pop_{target_col_name2}\"\n",
    "\n",
    "df_var_pop=df.withColumn(new_col_name1,var_pop(target_col_name1).over(win_name))\\\n",
    "        .withColumn(new_col_name2,var_pop(target_col_name2).over(win_name))\n",
    "df_var_pop.show()"
   ]
  },
  {
   "cell_type": "markdown",
   "metadata": {},
   "source": [
    "### 1.9.3 Exp : window has partition, order by and data point\n",
    "\n",
    "The vtl query:\n",
    "\n",
    "```text\n",
    "res := var_pop ( ds1 over ( partition by Id_1 order by Id_2 data points between 2 preceding and 2 following) )\n",
    "```"
   ]
  },
  {
   "cell_type": "code",
   "execution_count": 6,
   "metadata": {},
   "outputs": [
    {
     "name": "stdout",
     "output_type": "stream",
     "text": [
      "+----+----+----+----+----+------------------+------------------+\n",
      "|Id_1|Id_2|Year|Me_1|Me_2|      var_pop_Me_1|      var_pop_Me_2|\n",
      "+----+----+----+----+----+------------------+------------------+\n",
      "|   A|  XX|2000|   3| 1.0| 2.888888888888889|10.666666666666666|\n",
      "|   A|  XX|2001|   4| 9.0|2.4999999999999996|            9.6875|\n",
      "|   A|  XX|2002|   7| 5.0|              4.56| 8.959999999999999|\n",
      "|   A|  XX|2003|   6| 8.0|              2.96|              5.36|\n",
      "|   A|  YY|2000|   9| 3.0|              3.44| 4.239999999999999|\n",
      "|   A|  YY|2001|   5| 4.0|               4.4|              5.36|\n",
      "|   A|  YY|2002|  10| 2.0|            5.1875|               3.5|\n",
      "|   A|  YY|2003|   5| 7.0|5.5555555555555545| 4.222222222222222|\n",
      "+----+----+----+----+----+------------------+------------------+\n",
      "\n"
     ]
    }
   ],
   "source": [
    "partition_col_names=[\"Id_1\"]\n",
    "order_col_names=[\"Id_2\"]\n",
    "win_name=Window.partitionBy(partition_col_names).orderBy(order_col_names).rowsBetween(-2,2)\n",
    "\n",
    "target_col_name1=\"Me_1\"\n",
    "target_col_name2=\"Me_2\"\n",
    "\n",
    "new_col_name1=f\"var_pop_{target_col_name1}\"\n",
    "new_col_name2=f\"var_pop_{target_col_name2}\"\n",
    "\n",
    "df_var_pop=df.withColumn(new_col_name1,var_pop(target_col_name1).over(win_name))\\\n",
    "        .withColumn(new_col_name2,var_pop(target_col_name2).over(win_name))\n",
    "df_var_pop.show()"
   ]
  },
  {
   "cell_type": "markdown",
   "metadata": {},
   "source": [
    "### 1.9.4 Exp : window has partition, order by and range \n",
    "\n",
    "The vtl query:\n",
    "\n",
    "```text\n",
    "res := var_pop ( ds1 over ( partition by Id_1 order by Year range between -1 and 1) )\n",
    "```"
   ]
  },
  {
   "cell_type": "code",
   "execution_count": 7,
   "metadata": {},
   "outputs": [
    {
     "name": "stdout",
     "output_type": "stream",
     "text": [
      "+----+----+----+----+----+------------------+-----------------+\n",
      "|Id_1|Id_2|Year|Me_1|Me_2|      var_pop_Me_1|     var_pop_Me_2|\n",
      "+----+----+----+----+----+------------------+-----------------+\n",
      "|   A|  XX|2000|   3| 1.0|            5.1875|           8.6875|\n",
      "|   A|  YY|2000|   9| 3.0|            5.1875|           8.6875|\n",
      "|   A|  XX|2001|   4| 9.0| 6.555555555555556|6.666666666666668|\n",
      "|   A|  YY|2001|   5| 4.0| 6.555555555555556|6.666666666666668|\n",
      "|   A|  XX|2002|   7| 5.0|3.8055555555555554|5.805555555555556|\n",
      "|   A|  YY|2002|  10| 2.0|3.8055555555555554|5.805555555555556|\n",
      "|   A|  XX|2003|   6| 8.0|               3.5|             5.25|\n",
      "|   A|  YY|2003|   5| 7.0|               3.5|             5.25|\n",
      "+----+----+----+----+----+------------------+-----------------+\n",
      "\n"
     ]
    }
   ],
   "source": [
    "partition_col_names=[\"Id_1\"]\n",
    "order_col_names=[\"Year\"]\n",
    "win_name=Window.partitionBy(partition_col_names).orderBy(order_col_names).rangeBetween(-1,1)\n",
    "\n",
    "target_col_name1=\"Me_1\"\n",
    "target_col_name2=\"Me_2\"\n",
    "\n",
    "new_col_name1=f\"var_pop_{target_col_name1}\"\n",
    "new_col_name2=f\"var_pop_{target_col_name2}\"\n",
    "\n",
    "df_var_pop=df.withColumn(new_col_name1,var_pop(target_col_name1).over(win_name))\\\n",
    "        .withColumn(new_col_name2,var_pop(target_col_name2).over(win_name))\n",
    "df_var_pop.show()"
   ]
  },
  {
   "cell_type": "markdown",
   "metadata": {
    "pycharm": {
     "name": "#%% md\n"
    }
   },
   "source": [
    "## 1.10 var_samp\n",
    "\n",
    "The operator returns the “sample variance” of the input values\n",
    "\n",
    "### 1.10.1 Exp1 : window only has partition clause\n",
    "\n",
    "The vtl query:\n",
    "\n",
    "```text\n",
    "res := var_samp ( ds1 over ( partition by Id_1, Id_2 ) )\n",
    "```\n",
    "\n"
   ]
  },
  {
   "cell_type": "code",
   "execution_count": 90,
   "metadata": {
    "collapsed": false,
    "jupyter": {
     "outputs_hidden": false
    },
    "pycharm": {
     "name": "#%%\n"
    }
   },
   "outputs": [
    {
     "name": "stdout",
     "output_type": "stream",
     "text": [
      "+----+----+----+----+----+------------------+------------------+\n",
      "|Id_1|Id_2|Year|Me_1|Me_2|     var_samp_Me_1|     var_samp_Me_2|\n",
      "+----+----+----+----+----+------------------+------------------+\n",
      "|   A|  XX|2000|   3| 1.0|3.3333333333333326|12.916666666666666|\n",
      "|   A|  XX|2001|   4| 9.0|3.3333333333333326|12.916666666666666|\n",
      "|   A|  XX|2002|   7| 5.0|3.3333333333333326|12.916666666666666|\n",
      "|   A|  XX|2003|   6| 8.0|3.3333333333333326|12.916666666666666|\n",
      "|   A|  YY|2000|   9| 3.0| 6.916666666666667| 4.666666666666667|\n",
      "|   A|  YY|2001|   5| 4.0| 6.916666666666667| 4.666666666666667|\n",
      "|   A|  YY|2002|  10| 2.0| 6.916666666666667| 4.666666666666667|\n",
      "|   A|  YY|2003|   5| 7.0| 6.916666666666667| 4.666666666666667|\n",
      "+----+----+----+----+----+------------------+------------------+\n",
      "\n"
     ]
    }
   ],
   "source": [
    "partition_col_names=[\"Id_1\",\"Id_2\"]\n",
    "order_col_names=[\"Id_3\"]\n",
    "win_name=Window.partitionBy(partition_col_names)\n",
    "\n",
    "target_col_name1=\"Me_1\"\n",
    "target_col_name2=\"Me_2\"\n",
    "\n",
    "new_col_name1=f\"var_samp_{target_col_name1}\"\n",
    "new_col_name2=f\"var_samp_{target_col_name2}\"\n",
    "\n",
    "df_var_samp=df.withColumn(new_col_name1,var_samp(target_col_name1).over(win_name))\\\n",
    "        .withColumn(new_col_name2,var_samp(target_col_name2).over(win_name))\n",
    "df_var_samp.show()\n"
   ]
  },
  {
   "cell_type": "markdown",
   "metadata": {
    "jupyter": {
     "outputs_hidden": false
    },
    "pycharm": {
     "name": "#%%\n"
    }
   },
   "source": [
    "### 1.10.2 Exp 2: window has partition and order by\n",
    "\n",
    "The vtl query:\n",
    "\n",
    "```text\n",
    "res := var_pop ( ds1 over ( partition by Id_1, Id_2 order by Year) )\n",
    "```"
   ]
  },
  {
   "cell_type": "code",
   "execution_count": 91,
   "metadata": {},
   "outputs": [
    {
     "name": "stdout",
     "output_type": "stream",
     "text": [
      "+----+----+----+----+----+------------------+------------------+\n",
      "|Id_1|Id_2|Year|Me_1|Me_2|     var_samp_Me_1|     var_samp_Me_2|\n",
      "+----+----+----+----+----+------------------+------------------+\n",
      "|   A|  XX|2000|   3| 1.0|              null|              null|\n",
      "|   A|  XX|2001|   4| 9.0|               0.5|              32.0|\n",
      "|   A|  XX|2002|   7| 5.0| 4.333333333333333|              16.0|\n",
      "|   A|  XX|2003|   6| 8.0|3.3333333333333326|12.916666666666666|\n",
      "|   A|  YY|2000|   9| 3.0|              null|              null|\n",
      "|   A|  YY|2001|   5| 4.0|               8.0|               0.5|\n",
      "|   A|  YY|2002|  10| 2.0|               7.0|               1.0|\n",
      "|   A|  YY|2003|   5| 7.0| 6.916666666666667| 4.666666666666667|\n",
      "+----+----+----+----+----+------------------+------------------+\n",
      "\n"
     ]
    }
   ],
   "source": [
    "partition_col_names=[\"Id_1\",\"Id_2\"]\n",
    "order_col_names=[\"Year\"]\n",
    "win_name=Window.partitionBy(partition_col_names).orderBy(order_col_names)\n",
    "\n",
    "target_col_name1=\"Me_1\"\n",
    "target_col_name2=\"Me_2\"\n",
    "\n",
    "new_col_name1=f\"var_samp_{target_col_name1}\"\n",
    "new_col_name2=f\"var_samp_{target_col_name2}\"\n",
    "\n",
    "df_var_samp=df.withColumn(new_col_name1,var_samp(target_col_name1).over(win_name))\\\n",
    "        .withColumn(new_col_name2,var_samp(target_col_name2).over(win_name))\n",
    "df_var_samp.show()"
   ]
  },
  {
   "cell_type": "markdown",
   "metadata": {},
   "source": [
    "### 1.10.3 Exp : window has partition, order by and data point\n",
    "\n",
    "The vtl query:\n",
    "\n",
    "```text\n",
    "res := var_samp ( ds1 over ( partition by Id_1 order by Id_2 data points between 2 preceding and 2 following) )\n",
    "```"
   ]
  },
  {
   "cell_type": "code",
   "execution_count": 92,
   "metadata": {},
   "outputs": [
    {
     "name": "stdout",
     "output_type": "stream",
     "text": [
      "+----+----+----+----+----+------------------+------------------+\n",
      "|Id_1|Id_2|Year|Me_1|Me_2|     var_samp_Me_1|     var_samp_Me_2|\n",
      "+----+----+----+----+----+------------------+------------------+\n",
      "|   A|  XX|2000|   3| 1.0| 4.333333333333333|              16.0|\n",
      "|   A|  XX|2001|   4| 9.0|3.3333333333333326|12.916666666666666|\n",
      "|   A|  XX|2002|   7| 5.0| 5.699999999999999|              11.2|\n",
      "|   A|  XX|2003|   6| 8.0|               3.7|               6.7|\n",
      "|   A|  YY|2000|   9| 3.0|               4.3| 5.299999999999999|\n",
      "|   A|  YY|2001|   5| 4.0|               5.5|               6.7|\n",
      "|   A|  YY|2002|  10| 2.0| 6.916666666666667| 4.666666666666667|\n",
      "|   A|  YY|2003|   5| 7.0| 8.333333333333332| 6.333333333333334|\n",
      "+----+----+----+----+----+------------------+------------------+\n",
      "\n"
     ]
    }
   ],
   "source": [
    "partition_col_names=[\"Id_1\"]\n",
    "order_col_names=[\"Id_2\"]\n",
    "win_name=Window.partitionBy(partition_col_names).orderBy(order_col_names).rowsBetween(-2,2)\n",
    "\n",
    "target_col_name1=\"Me_1\"\n",
    "target_col_name2=\"Me_2\"\n",
    "\n",
    "new_col_name1=f\"var_samp_{target_col_name1}\"\n",
    "new_col_name2=f\"var_samp_{target_col_name2}\"\n",
    "\n",
    "df_var_samp=df.withColumn(new_col_name1,var_samp(target_col_name1).over(win_name))\\\n",
    "        .withColumn(new_col_name2,var_samp(target_col_name2).over(win_name))\n",
    "df_var_samp.show()"
   ]
  },
  {
   "cell_type": "markdown",
   "metadata": {},
   "source": [
    "### 1.10.4 Exp : window has partition, order by and range \n",
    "\n",
    "The vtl query:\n",
    "\n",
    "```text\n",
    "res := var_samp ( ds1 over ( partition by Id_1 order by Year range between -1 and 1) )\n",
    "```"
   ]
  },
  {
   "cell_type": "code",
   "execution_count": 93,
   "metadata": {},
   "outputs": [
    {
     "name": "stdout",
     "output_type": "stream",
     "text": [
      "+----+----+----+----+----+-----------------+------------------+\n",
      "|Id_1|Id_2|Year|Me_1|Me_2|    var_samp_Me_1|     var_samp_Me_2|\n",
      "+----+----+----+----+----+-----------------+------------------+\n",
      "|   A|  XX|2000|   3| 1.0|6.916666666666667|11.583333333333334|\n",
      "|   A|  YY|2000|   9| 3.0|6.916666666666667|11.583333333333334|\n",
      "|   A|  XX|2001|   4| 9.0|7.866666666666667| 8.000000000000002|\n",
      "|   A|  YY|2001|   5| 4.0|7.866666666666667| 8.000000000000002|\n",
      "|   A|  XX|2002|   7| 5.0|4.566666666666666| 6.966666666666667|\n",
      "|   A|  YY|2002|  10| 2.0|4.566666666666666| 6.966666666666667|\n",
      "|   A|  XX|2003|   6| 8.0|4.666666666666667|               7.0|\n",
      "|   A|  YY|2003|   5| 7.0|4.666666666666667|               7.0|\n",
      "+----+----+----+----+----+-----------------+------------------+\n",
      "\n"
     ]
    }
   ],
   "source": [
    "partition_col_names=[\"Id_1\"]\n",
    "order_col_names=[\"Year\"]\n",
    "win_name=Window.partitionBy(partition_col_names).orderBy(order_col_names).rangeBetween(-1,1)\n",
    "\n",
    "target_col_name1=\"Me_1\"\n",
    "target_col_name2=\"Me_2\"\n",
    "\n",
    "new_col_name1=f\"var_samp_{target_col_name1}\"\n",
    "new_col_name2=f\"var_samp_{target_col_name2}\"\n",
    "\n",
    "df_var_samp=df.withColumn(new_col_name1,var_samp(target_col_name1).over(win_name))\\\n",
    "        .withColumn(new_col_name2,var_samp(target_col_name2).over(win_name))\n",
    "df_var_samp.show()"
   ]
  },
  {
   "cell_type": "code",
   "execution_count": null,
   "metadata": {},
   "outputs": [],
   "source": []
  }
 ],
 "metadata": {
  "kernelspec": {
   "display_name": "Python 3 (ipykernel)",
   "language": "python",
   "name": "python3"
  },
  "language_info": {
   "codemirror_mode": {
    "name": "ipython",
    "version": 3
   },
   "file_extension": ".py",
   "mimetype": "text/x-python",
   "name": "python",
   "nbconvert_exporter": "python",
   "pygments_lexer": "ipython3",
   "version": "3.9.12"
  }
 },
 "nbformat": 4,
 "nbformat_minor": 4
}
