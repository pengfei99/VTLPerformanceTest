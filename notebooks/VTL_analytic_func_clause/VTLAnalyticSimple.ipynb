{
 "cells": [
  {
   "cell_type": "markdown",
   "metadata": {
    "pycharm": {
     "name": "#%% md\n"
    }
   },
   "source": [
    "# VTL Simple analytic function\n",
    "\n"
   ]
  },
  {
   "cell_type": "code",
   "execution_count": 1,
   "metadata": {
    "collapsed": false,
    "jupyter": {
     "outputs_hidden": false
    },
    "pycharm": {
     "name": "#%%\n"
    }
   },
   "outputs": [],
   "source": [
    "from pyspark.sql import SparkSession,DataFrame\n",
    "from pyspark.sql.types import StructField, StructType, StringType, DoubleType, IntegerType, LongType, DecimalType\n",
    "import os\n",
    "from pyspark.sql.functions import lit, count,sum,avg,collect_list,min,max,percentile_approx,stddev_pop,stddev_samp,var_pop,var_samp\n",
    "from pyspark.sql.window import Window"
   ]
  },
  {
   "cell_type": "code",
   "execution_count": 2,
   "metadata": {
    "collapsed": false,
    "jupyter": {
     "outputs_hidden": false
    },
    "pycharm": {
     "name": "#%%\n"
    }
   },
   "outputs": [
    {
     "name": "stderr",
     "output_type": "stream",
     "text": [
      "WARNING: An illegal reflective access operation has occurred\n",
      "WARNING: Illegal reflective access by org.apache.spark.unsafe.Platform (file:/opt/spark/jars/spark-unsafe_2.12-3.2.1.jar) to constructor java.nio.DirectByteBuffer(long,int)\n",
      "WARNING: Please consider reporting this to the maintainers of org.apache.spark.unsafe.Platform\n",
      "WARNING: Use --illegal-access=warn to enable warnings of further illegal reflective access operations\n",
      "WARNING: All illegal access operations will be denied in a future release\n",
      "Setting default log level to \"WARN\".\n",
      "To adjust logging level use sc.setLogLevel(newLevel). For SparkR, use setLogLevel(newLevel).\n",
      "2022-06-21 14:40:49,058 WARN util.NativeCodeLoader: Unable to load native-hadoop library for your platform... using builtin-java classes where applicable\n"
     ]
    }
   ],
   "source": [
    "local = True\n",
    "\n",
    "if local:\n",
    "    spark = SparkSession.builder \\\n",
    "        .master(\"local[4]\") \\\n",
    "        .appName(\"VTLAnalytic\")\\\n",
    "        .getOrCreate()\n",
    "else:\n",
    "    spark = SparkSession.builder\\\n",
    "        .master(\"k8s://https://kubernetes.default.svc:443\") \\\n",
    "        .appName(\"VTLAnalytic\")\\\n",
    "        .config(\"spark.kubernetes.container.image\", \"inseefrlab/jupyter-datascience:py3.9.7-spark3.2.0\")\\\n",
    "        .config(\"spark.kubernetes.authenticate.driver.serviceAccountName\", os.environ['KUBERNETES_SERVICE_ACCOUNT'])\\\n",
    "        .config(\"spark.executor.instances\", \"4\")\\\n",
    "        .config(\"spark.executor.memory\", \"8g\")\\\n",
    "        .config(\"spark.kubernetes.namespace\", os.environ['KUBERNETES_NAMESPACE'])\\\n",
    "        .getOrCreate()"
   ]
  },
  {
   "cell_type": "code",
   "execution_count": 73,
   "metadata": {
    "collapsed": false,
    "jupyter": {
     "outputs_hidden": false
    },
    "pycharm": {
     "name": "#%%\n"
    }
   },
   "outputs": [
    {
     "ename": "TypeError",
     "evalue": "field Me_2: DecimalType(10,0) can not accept object 1.0 in type <class 'float'>",
     "output_type": "error",
     "traceback": [
      "\u001b[0;31m---------------------------------------------------------------------------\u001b[0m",
      "\u001b[0;31mTypeError\u001b[0m                                 Traceback (most recent call last)",
      "Input \u001b[0;32mIn [73]\u001b[0m, in \u001b[0;36m<cell line: 16>\u001b[0;34m()\u001b[0m\n\u001b[1;32m      1\u001b[0m data\u001b[38;5;241m=\u001b[39m[(\u001b[38;5;124m\"\u001b[39m\u001b[38;5;124mA\u001b[39m\u001b[38;5;124m\"\u001b[39m, \u001b[38;5;124m\"\u001b[39m\u001b[38;5;124mXX\u001b[39m\u001b[38;5;124m\"\u001b[39m, \u001b[38;5;241m2000\u001b[39m, \u001b[38;5;241m3\u001b[39m, \u001b[38;5;241m1.0\u001b[39m),\n\u001b[1;32m      2\u001b[0m     (\u001b[38;5;124m\"\u001b[39m\u001b[38;5;124mA\u001b[39m\u001b[38;5;124m\"\u001b[39m, \u001b[38;5;124m\"\u001b[39m\u001b[38;5;124mXX\u001b[39m\u001b[38;5;124m\"\u001b[39m, \u001b[38;5;241m2001\u001b[39m, \u001b[38;5;241m4\u001b[39m, \u001b[38;5;241m9.0\u001b[39m),\n\u001b[1;32m      3\u001b[0m     (\u001b[38;5;124m\"\u001b[39m\u001b[38;5;124mA\u001b[39m\u001b[38;5;124m\"\u001b[39m, \u001b[38;5;124m\"\u001b[39m\u001b[38;5;124mXX\u001b[39m\u001b[38;5;124m\"\u001b[39m, \u001b[38;5;241m2002\u001b[39m, \u001b[38;5;241m7\u001b[39m, \u001b[38;5;241m5.0\u001b[39m),\n\u001b[0;32m   (...)\u001b[0m\n\u001b[1;32m      7\u001b[0m     (\u001b[38;5;124m\"\u001b[39m\u001b[38;5;124mA\u001b[39m\u001b[38;5;124m\"\u001b[39m, \u001b[38;5;124m\"\u001b[39m\u001b[38;5;124mYY\u001b[39m\u001b[38;5;124m\"\u001b[39m, \u001b[38;5;241m2002\u001b[39m, \u001b[38;5;241m10\u001b[39m, \u001b[38;5;241m2.0\u001b[39m),\n\u001b[1;32m      8\u001b[0m     (\u001b[38;5;124m\"\u001b[39m\u001b[38;5;124mA\u001b[39m\u001b[38;5;124m\"\u001b[39m, \u001b[38;5;124m\"\u001b[39m\u001b[38;5;124mYY\u001b[39m\u001b[38;5;124m\"\u001b[39m, \u001b[38;5;241m2003\u001b[39m, \u001b[38;5;241m5\u001b[39m, \u001b[38;5;241m7.0\u001b[39m)]\n\u001b[1;32m     10\u001b[0m schema\u001b[38;5;241m=\u001b[39mStructType([StructField(\u001b[38;5;124m\"\u001b[39m\u001b[38;5;124mId_1\u001b[39m\u001b[38;5;124m\"\u001b[39m,StringType(),\u001b[38;5;28;01mTrue\u001b[39;00m),\n\u001b[1;32m     11\u001b[0m                    StructField(\u001b[38;5;124m\"\u001b[39m\u001b[38;5;124mId_2\u001b[39m\u001b[38;5;124m\"\u001b[39m,StringType(),\u001b[38;5;28;01mTrue\u001b[39;00m),\n\u001b[1;32m     12\u001b[0m                    StructField(\u001b[38;5;124m\"\u001b[39m\u001b[38;5;124mYear\u001b[39m\u001b[38;5;124m\"\u001b[39m,IntegerType(),\u001b[38;5;28;01mTrue\u001b[39;00m),\n\u001b[1;32m     13\u001b[0m                    StructField(\u001b[38;5;124m\"\u001b[39m\u001b[38;5;124mMe_1\u001b[39m\u001b[38;5;124m\"\u001b[39m,IntegerType(),\u001b[38;5;28;01mTrue\u001b[39;00m),\n\u001b[1;32m     14\u001b[0m                    StructField(\u001b[38;5;124m\"\u001b[39m\u001b[38;5;124mMe_2\u001b[39m\u001b[38;5;124m\"\u001b[39m,DecimalType(),\u001b[38;5;28;01mTrue\u001b[39;00m)])\n\u001b[0;32m---> 16\u001b[0m df\u001b[38;5;241m=\u001b[39m\u001b[43mspark\u001b[49m\u001b[38;5;241;43m.\u001b[39;49m\u001b[43mcreateDataFrame\u001b[49m\u001b[43m(\u001b[49m\u001b[43mdata\u001b[49m\u001b[43m,\u001b[49m\u001b[43m \u001b[49m\u001b[43mschema\u001b[49m\u001b[43m)\u001b[49m\n\u001b[1;32m     17\u001b[0m df\u001b[38;5;241m.\u001b[39mshow()\n",
      "File \u001b[0;32m/opt/spark/python/pyspark/sql/session.py:675\u001b[0m, in \u001b[0;36mSparkSession.createDataFrame\u001b[0;34m(self, data, schema, samplingRatio, verifySchema)\u001b[0m\n\u001b[1;32m    671\u001b[0m \u001b[38;5;28;01mif\u001b[39;00m has_pandas \u001b[38;5;129;01mand\u001b[39;00m \u001b[38;5;28misinstance\u001b[39m(data, pandas\u001b[38;5;241m.\u001b[39mDataFrame):\n\u001b[1;32m    672\u001b[0m     \u001b[38;5;66;03m# Create a DataFrame from pandas DataFrame.\u001b[39;00m\n\u001b[1;32m    673\u001b[0m     \u001b[38;5;28;01mreturn\u001b[39;00m \u001b[38;5;28msuper\u001b[39m(SparkSession, \u001b[38;5;28mself\u001b[39m)\u001b[38;5;241m.\u001b[39mcreateDataFrame(\n\u001b[1;32m    674\u001b[0m         data, schema, samplingRatio, verifySchema)\n\u001b[0;32m--> 675\u001b[0m \u001b[38;5;28;01mreturn\u001b[39;00m \u001b[38;5;28;43mself\u001b[39;49m\u001b[38;5;241;43m.\u001b[39;49m\u001b[43m_create_dataframe\u001b[49m\u001b[43m(\u001b[49m\u001b[43mdata\u001b[49m\u001b[43m,\u001b[49m\u001b[43m \u001b[49m\u001b[43mschema\u001b[49m\u001b[43m,\u001b[49m\u001b[43m \u001b[49m\u001b[43msamplingRatio\u001b[49m\u001b[43m,\u001b[49m\u001b[43m \u001b[49m\u001b[43mverifySchema\u001b[49m\u001b[43m)\u001b[49m\n",
      "File \u001b[0;32m/opt/spark/python/pyspark/sql/session.py:700\u001b[0m, in \u001b[0;36mSparkSession._create_dataframe\u001b[0;34m(self, data, schema, samplingRatio, verifySchema)\u001b[0m\n\u001b[1;32m    698\u001b[0m     rdd, schema \u001b[38;5;241m=\u001b[39m \u001b[38;5;28mself\u001b[39m\u001b[38;5;241m.\u001b[39m_createFromRDD(data\u001b[38;5;241m.\u001b[39mmap(prepare), schema, samplingRatio)\n\u001b[1;32m    699\u001b[0m \u001b[38;5;28;01melse\u001b[39;00m:\n\u001b[0;32m--> 700\u001b[0m     rdd, schema \u001b[38;5;241m=\u001b[39m \u001b[38;5;28;43mself\u001b[39;49m\u001b[38;5;241;43m.\u001b[39;49m\u001b[43m_createFromLocal\u001b[49m\u001b[43m(\u001b[49m\u001b[38;5;28;43mmap\u001b[39;49m\u001b[43m(\u001b[49m\u001b[43mprepare\u001b[49m\u001b[43m,\u001b[49m\u001b[43m \u001b[49m\u001b[43mdata\u001b[49m\u001b[43m)\u001b[49m\u001b[43m,\u001b[49m\u001b[43m \u001b[49m\u001b[43mschema\u001b[49m\u001b[43m)\u001b[49m\n\u001b[1;32m    701\u001b[0m jrdd \u001b[38;5;241m=\u001b[39m \u001b[38;5;28mself\u001b[39m\u001b[38;5;241m.\u001b[39m_jvm\u001b[38;5;241m.\u001b[39mSerDeUtil\u001b[38;5;241m.\u001b[39mtoJavaArray(rdd\u001b[38;5;241m.\u001b[39m_to_java_object_rdd())\n\u001b[1;32m    702\u001b[0m jdf \u001b[38;5;241m=\u001b[39m \u001b[38;5;28mself\u001b[39m\u001b[38;5;241m.\u001b[39m_jsparkSession\u001b[38;5;241m.\u001b[39mapplySchemaToPythonRDD(jrdd\u001b[38;5;241m.\u001b[39mrdd(), schema\u001b[38;5;241m.\u001b[39mjson())\n",
      "File \u001b[0;32m/opt/spark/python/pyspark/sql/session.py:509\u001b[0m, in \u001b[0;36mSparkSession._createFromLocal\u001b[0;34m(self, data, schema)\u001b[0m\n\u001b[1;32m    507\u001b[0m \u001b[38;5;66;03m# make sure data could consumed multiple times\u001b[39;00m\n\u001b[1;32m    508\u001b[0m \u001b[38;5;28;01mif\u001b[39;00m \u001b[38;5;129;01mnot\u001b[39;00m \u001b[38;5;28misinstance\u001b[39m(data, \u001b[38;5;28mlist\u001b[39m):\n\u001b[0;32m--> 509\u001b[0m     data \u001b[38;5;241m=\u001b[39m \u001b[38;5;28;43mlist\u001b[39;49m\u001b[43m(\u001b[49m\u001b[43mdata\u001b[49m\u001b[43m)\u001b[49m\n\u001b[1;32m    511\u001b[0m \u001b[38;5;28;01mif\u001b[39;00m schema \u001b[38;5;129;01mis\u001b[39;00m \u001b[38;5;28;01mNone\u001b[39;00m \u001b[38;5;129;01mor\u001b[39;00m \u001b[38;5;28misinstance\u001b[39m(schema, (\u001b[38;5;28mlist\u001b[39m, \u001b[38;5;28mtuple\u001b[39m)):\n\u001b[1;32m    512\u001b[0m     struct \u001b[38;5;241m=\u001b[39m \u001b[38;5;28mself\u001b[39m\u001b[38;5;241m.\u001b[39m_inferSchemaFromList(data, names\u001b[38;5;241m=\u001b[39mschema)\n",
      "File \u001b[0;32m/opt/spark/python/pyspark/sql/session.py:682\u001b[0m, in \u001b[0;36mSparkSession._create_dataframe.<locals>.prepare\u001b[0;34m(obj)\u001b[0m\n\u001b[1;32m    681\u001b[0m \u001b[38;5;28;01mdef\u001b[39;00m \u001b[38;5;21mprepare\u001b[39m(obj):\n\u001b[0;32m--> 682\u001b[0m     \u001b[43mverify_func\u001b[49m\u001b[43m(\u001b[49m\u001b[43mobj\u001b[49m\u001b[43m)\u001b[49m\n\u001b[1;32m    683\u001b[0m     \u001b[38;5;28;01mreturn\u001b[39;00m obj\n",
      "File \u001b[0;32m/opt/spark/python/pyspark/sql/types.py:1411\u001b[0m, in \u001b[0;36m_make_type_verifier.<locals>.verify\u001b[0;34m(obj)\u001b[0m\n\u001b[1;32m   1409\u001b[0m \u001b[38;5;28;01mdef\u001b[39;00m \u001b[38;5;21mverify\u001b[39m(obj):\n\u001b[1;32m   1410\u001b[0m     \u001b[38;5;28;01mif\u001b[39;00m \u001b[38;5;129;01mnot\u001b[39;00m verify_nullability(obj):\n\u001b[0;32m-> 1411\u001b[0m         \u001b[43mverify_value\u001b[49m\u001b[43m(\u001b[49m\u001b[43mobj\u001b[49m\u001b[43m)\u001b[49m\n",
      "File \u001b[0;32m/opt/spark/python/pyspark/sql/types.py:1392\u001b[0m, in \u001b[0;36m_make_type_verifier.<locals>.verify_struct\u001b[0;34m(obj)\u001b[0m\n\u001b[1;32m   1388\u001b[0m         \u001b[38;5;28;01mraise\u001b[39;00m \u001b[38;5;167;01mValueError\u001b[39;00m(\n\u001b[1;32m   1389\u001b[0m             new_msg(\u001b[38;5;124m\"\u001b[39m\u001b[38;5;124mLength of object (\u001b[39m\u001b[38;5;132;01m%d\u001b[39;00m\u001b[38;5;124m) does not match with \u001b[39m\u001b[38;5;124m\"\u001b[39m\n\u001b[1;32m   1390\u001b[0m                     \u001b[38;5;124m\"\u001b[39m\u001b[38;5;124mlength of fields (\u001b[39m\u001b[38;5;132;01m%d\u001b[39;00m\u001b[38;5;124m)\u001b[39m\u001b[38;5;124m\"\u001b[39m \u001b[38;5;241m%\u001b[39m (\u001b[38;5;28mlen\u001b[39m(obj), \u001b[38;5;28mlen\u001b[39m(verifiers))))\n\u001b[1;32m   1391\u001b[0m     \u001b[38;5;28;01mfor\u001b[39;00m v, (_, verifier) \u001b[38;5;129;01min\u001b[39;00m \u001b[38;5;28mzip\u001b[39m(obj, verifiers):\n\u001b[0;32m-> 1392\u001b[0m         \u001b[43mverifier\u001b[49m\u001b[43m(\u001b[49m\u001b[43mv\u001b[49m\u001b[43m)\u001b[49m\n\u001b[1;32m   1393\u001b[0m \u001b[38;5;28;01melif\u001b[39;00m \u001b[38;5;28mhasattr\u001b[39m(obj, \u001b[38;5;124m\"\u001b[39m\u001b[38;5;124m__dict__\u001b[39m\u001b[38;5;124m\"\u001b[39m):\n\u001b[1;32m   1394\u001b[0m     d \u001b[38;5;241m=\u001b[39m obj\u001b[38;5;241m.\u001b[39m\u001b[38;5;18m__dict__\u001b[39m\n",
      "File \u001b[0;32m/opt/spark/python/pyspark/sql/types.py:1411\u001b[0m, in \u001b[0;36m_make_type_verifier.<locals>.verify\u001b[0;34m(obj)\u001b[0m\n\u001b[1;32m   1409\u001b[0m \u001b[38;5;28;01mdef\u001b[39;00m \u001b[38;5;21mverify\u001b[39m(obj):\n\u001b[1;32m   1410\u001b[0m     \u001b[38;5;28;01mif\u001b[39;00m \u001b[38;5;129;01mnot\u001b[39;00m verify_nullability(obj):\n\u001b[0;32m-> 1411\u001b[0m         \u001b[43mverify_value\u001b[49m\u001b[43m(\u001b[49m\u001b[43mobj\u001b[49m\u001b[43m)\u001b[49m\n",
      "File \u001b[0;32m/opt/spark/python/pyspark/sql/types.py:1405\u001b[0m, in \u001b[0;36m_make_type_verifier.<locals>.verify_default\u001b[0;34m(obj)\u001b[0m\n\u001b[1;32m   1403\u001b[0m \u001b[38;5;28;01mdef\u001b[39;00m \u001b[38;5;21mverify_default\u001b[39m(obj):\n\u001b[1;32m   1404\u001b[0m     assert_acceptable_types(obj)\n\u001b[0;32m-> 1405\u001b[0m     \u001b[43mverify_acceptable_types\u001b[49m\u001b[43m(\u001b[49m\u001b[43mobj\u001b[49m\u001b[43m)\u001b[49m\n",
      "File \u001b[0;32m/opt/spark/python/pyspark/sql/types.py:1293\u001b[0m, in \u001b[0;36m_make_type_verifier.<locals>.verify_acceptable_types\u001b[0;34m(obj)\u001b[0m\n\u001b[1;32m   1290\u001b[0m \u001b[38;5;28;01mdef\u001b[39;00m \u001b[38;5;21mverify_acceptable_types\u001b[39m(obj):\n\u001b[1;32m   1291\u001b[0m     \u001b[38;5;66;03m# subclass of them can not be fromInternal in JVM\u001b[39;00m\n\u001b[1;32m   1292\u001b[0m     \u001b[38;5;28;01mif\u001b[39;00m \u001b[38;5;28mtype\u001b[39m(obj) \u001b[38;5;129;01mnot\u001b[39;00m \u001b[38;5;129;01min\u001b[39;00m _acceptable_types[_type]:\n\u001b[0;32m-> 1293\u001b[0m         \u001b[38;5;28;01mraise\u001b[39;00m \u001b[38;5;167;01mTypeError\u001b[39;00m(new_msg(\u001b[38;5;124m\"\u001b[39m\u001b[38;5;132;01m%s\u001b[39;00m\u001b[38;5;124m can not accept object \u001b[39m\u001b[38;5;132;01m%r\u001b[39;00m\u001b[38;5;124m in type \u001b[39m\u001b[38;5;132;01m%s\u001b[39;00m\u001b[38;5;124m\"\u001b[39m\n\u001b[1;32m   1294\u001b[0m                                 \u001b[38;5;241m%\u001b[39m (dataType, obj, \u001b[38;5;28mtype\u001b[39m(obj))))\n",
      "\u001b[0;31mTypeError\u001b[0m: field Me_2: DecimalType(10,0) can not accept object 1.0 in type <class 'float'>"
     ]
    }
   ],
   "source": [
    "data=[(\"A\", \"XX\", 2000, 3, 1.0),\n",
    "    (\"A\", \"XX\", 2001, 4, 9.0),\n",
    "    (\"A\", \"XX\", 2002, 7, 5.0),\n",
    "    (\"A\", \"XX\", 2003, 6, 8.0),\n",
    "    (\"A\", \"YY\", 2000, 9, 3.0),\n",
    "    (\"A\", \"YY\", 2001, 5, 4.0),\n",
    "    (\"A\", \"YY\", 2002, 10, 2.0),\n",
    "    (\"A\", \"YY\", 2003, 5, 7.0)]\n",
    "\n",
    "schema=StructType([StructField(\"Id_1\",StringType(),True),\n",
    "                   StructField(\"Id_2\",StringType(),True),\n",
    "                   StructField(\"Year\",IntegerType(),True),\n",
    "                   StructField(\"Me_1\",IntegerType(),True),\n",
    "                   StructField(\"Me_2\",DecimalType(),True)])\n",
    "\n",
    "df=spark.createDataFrame(data, schema)\n",
    "df.show()"
   ]
  },
  {
   "cell_type": "markdown",
   "metadata": {
    "pycharm": {
     "name": "#%% md\n"
    }
   },
   "source": [
    "## 1.1 Count\n",
    "\n",
    "### 1.1.1 Exp1 : window only has partition clause\n",
    "The vtl query:\n",
    "\n",
    "```text\n",
    "res := count ( ds1 over ( partition by Id_1 ) )\n",
    "```\n"
   ]
  },
  {
   "cell_type": "code",
   "execution_count": 9,
   "metadata": {
    "collapsed": false,
    "jupyter": {
     "outputs_hidden": false
    },
    "pycharm": {
     "name": "#%%\n"
    }
   },
   "outputs": [
    {
     "name": "stdout",
     "output_type": "stream",
     "text": [
      "+----+----+----+----+----+----------+----------+\n",
      "|Id_1|Id_2|Year|Me_1|Me_2|count_Me_1|count_Me_2|\n",
      "+----+----+----+----+----+----------+----------+\n",
      "|   A|  XX|2000|   3| 1.0|         8|         8|\n",
      "|   A|  XX|2001|   4| 9.0|         8|         8|\n",
      "|   A|  XX|2002|   7| 5.0|         8|         8|\n",
      "|   A|  XX|2003|   6| 8.0|         8|         8|\n",
      "|   A|  YY|2000|   9| 3.0|         8|         8|\n",
      "|   A|  YY|2001|   5| 4.0|         8|         8|\n",
      "|   A|  YY|2002|  10| 2.0|         8|         8|\n",
      "|   A|  YY|2003|   5| 7.0|         8|         8|\n",
      "+----+----+----+----+----+----------+----------+\n",
      "\n"
     ]
    }
   ],
   "source": [
    "partition_col_name=\"Id_1\"\n",
    "\n",
    " \n",
    "win_name=Window.partitionBy(partition_col_name)\n",
    "target_col_name1=\"Me_1\"\n",
    "target_col_name2=\"Me_2\"\n",
    "new_col_name1=f\"count_{target_col_name1}\"\n",
    "new_col_name2=f\"count_{target_col_name2}\"\n",
    "df_count=df.withColumn(new_col_name1,count(target_col_name1).over(win_name))\\\n",
    "           .withColumn(new_col_name2,count(target_col_name2).over(win_name))\n",
    "df_count.show()"
   ]
  },
  {
   "cell_type": "markdown",
   "metadata": {},
   "source": [
    "### 1.1.2 Exp 2: window has partition and order by\n",
    "\n",
    "The vtl query:\n",
    "\n",
    "```text\n",
    "res := count ( ds1 over ( partition by Id_1 order by Id_2) )\n",
    "```\n"
   ]
  },
  {
   "cell_type": "code",
   "execution_count": 12,
   "metadata": {},
   "outputs": [
    {
     "name": "stdout",
     "output_type": "stream",
     "text": [
      "+----+----+----+----+----+----------+----------+\n",
      "|Id_1|Id_2|Year|Me_1|Me_2|count_Me_1|count_Me_2|\n",
      "+----+----+----+----+----+----------+----------+\n",
      "|   A|  XX|2000|   3| 1.0|         4|         4|\n",
      "|   A|  XX|2001|   4| 9.0|         4|         4|\n",
      "|   A|  XX|2002|   7| 5.0|         4|         4|\n",
      "|   A|  XX|2003|   6| 8.0|         4|         4|\n",
      "|   A|  YY|2000|   9| 3.0|         8|         8|\n",
      "|   A|  YY|2001|   5| 4.0|         8|         8|\n",
      "|   A|  YY|2002|  10| 2.0|         8|         8|\n",
      "|   A|  YY|2003|   5| 7.0|         8|         8|\n",
      "+----+----+----+----+----+----------+----------+\n",
      "\n"
     ]
    }
   ],
   "source": [
    "\n",
    "win_name_with_order=Window.partitionBy(partition_col_name).orderBy(\"Id_2\")\n",
    "\n",
    "df_count_with_order=df.withColumn(new_col_name1,count(target_col_name1).over(win_name_with_order))\\\n",
    "           .withColumn(new_col_name2,count(target_col_name2).over(win_name_with_order))\n",
    "\n",
    "df_count_with_order.show(20)"
   ]
  },
  {
   "cell_type": "markdown",
   "metadata": {},
   "source": [
    "### 1.1.3 Exp 3: window has partition, order by and data point\n",
    "\n",
    "The vtl query:\n",
    "\n",
    "```text\n",
    "res := count ( ds1 over ( partition by Id_1 order by Id_2 data points between -2 and 2) )\n",
    "```"
   ]
  },
  {
   "cell_type": "code",
   "execution_count": 14,
   "metadata": {},
   "outputs": [
    {
     "name": "stdout",
     "output_type": "stream",
     "text": [
      "+----+----+----+----+----+----------+----------+\n",
      "|Id_1|Id_2|Year|Me_1|Me_2|count_Me_1|count_Me_2|\n",
      "+----+----+----+----+----+----------+----------+\n",
      "|   A|  XX|2000|   3| 1.0|         3|         3|\n",
      "|   A|  XX|2001|   4| 9.0|         4|         4|\n",
      "|   A|  XX|2002|   7| 5.0|         5|         5|\n",
      "|   A|  XX|2003|   6| 8.0|         5|         5|\n",
      "|   A|  YY|2000|   9| 3.0|         5|         5|\n",
      "|   A|  YY|2001|   5| 4.0|         5|         5|\n",
      "|   A|  YY|2002|  10| 2.0|         4|         4|\n",
      "|   A|  YY|2003|   5| 7.0|         3|         3|\n",
      "+----+----+----+----+----+----------+----------+\n",
      "\n"
     ]
    }
   ],
   "source": [
    "win_name_with_order_dp=Window.partitionBy(partition_col_name).orderBy(\"Id_2\").rowsBetween(-2,2)\n",
    "\n",
    "df_count_with_order_dp=df.withColumn(new_col_name1,count(target_col_name1).over(win_name_with_order_dp))\\\n",
    "           .withColumn(new_col_name2,count(target_col_name2).over(win_name_with_order_dp))\n",
    "\n",
    "df_count_with_order_dp.show(20)"
   ]
  },
  {
   "cell_type": "code",
   "execution_count": null,
   "metadata": {},
   "outputs": [],
   "source": [
    "### 1.1.4 Exp 4: window has partition, order by and range \n",
    "\n",
    "The vtl query:\n",
    "\n",
    "```text\n",
    "res := count ( ds1 over ( partition by Id_1 order by Year range between -1 and 1) )\n",
    "```"
   ]
  },
  {
   "cell_type": "code",
   "execution_count": 17,
   "metadata": {},
   "outputs": [
    {
     "name": "stdout",
     "output_type": "stream",
     "text": [
      "+----+----+----+----+----+----------+----------+\n",
      "|Id_1|Id_2|Year|Me_1|Me_2|count_Me_1|count_Me_2|\n",
      "+----+----+----+----+----+----------+----------+\n",
      "|   A|  XX|2000|   3| 1.0|         4|         4|\n",
      "|   A|  YY|2000|   9| 3.0|         4|         4|\n",
      "|   A|  XX|2001|   4| 9.0|         6|         6|\n",
      "|   A|  YY|2001|   5| 4.0|         6|         6|\n",
      "|   A|  XX|2002|   7| 5.0|         6|         6|\n",
      "|   A|  YY|2002|  10| 2.0|         6|         6|\n",
      "|   A|  XX|2003|   6| 8.0|         4|         4|\n",
      "|   A|  YY|2003|   5| 7.0|         4|         4|\n",
      "+----+----+----+----+----+----------+----------+\n",
      "\n"
     ]
    }
   ],
   "source": [
    "win_name_with_order_range=Window.partitionBy(partition_col_name).orderBy(\"Year\").rangeBetween(-1,1)\n",
    "\n",
    "df_count_with_order_range=df.withColumn(new_col_name1,count(target_col_name1).over(win_name_with_order_range))\\\n",
    "           .withColumn(new_col_name2,count(target_col_name2).over(win_name_with_order_range))\n",
    "\n",
    "df_count_with_order_range.show(20)"
   ]
  },
  {
   "cell_type": "code",
   "execution_count": 6,
   "metadata": {
    "collapsed": false,
    "jupyter": {
     "outputs_hidden": false
    },
    "pycharm": {
     "name": "#%%\n"
    }
   },
   "outputs": [
    {
     "name": "stdout",
     "output_type": "stream",
     "text": [
      "root\n",
      " |-- Id_1: string (nullable = true)\n",
      " |-- Id_2: string (nullable = true)\n",
      " |-- Id_3: integer (nullable = true)\n",
      " |-- Me_1: integer (nullable = true)\n",
      " |-- Me_2: integer (nullable = true)\n",
      "\n"
     ]
    }
   ],
   "source": [
    "df.printSchema()"
   ]
  },
  {
   "cell_type": "markdown",
   "metadata": {
    "pycharm": {
     "name": "#%% md\n"
    }
   },
   "source": [
    "## 1.2 Sum\n",
    "\n",
    "### 1.2.1 Exp1 : window only has partition clause\n",
    "The vtl query:\n",
    "\n",
    "```text\n",
    "res := sum ( ds1 over ( partition by Id_1, Id_2 ) )\n",
    "```\n"
   ]
  },
  {
   "cell_type": "code",
   "execution_count": 31,
   "metadata": {
    "collapsed": false,
    "jupyter": {
     "outputs_hidden": false
    },
    "pycharm": {
     "name": "#%%\n"
    }
   },
   "outputs": [
    {
     "name": "stdout",
     "output_type": "stream",
     "text": [
      "+----+----+----+----+----+--------+--------+\n",
      "|Id_1|Id_2|Year|Me_1|Me_2|sum_Me_1|sum_Me_2|\n",
      "+----+----+----+----+----+--------+--------+\n",
      "|   A|  XX|2000|   3| 1.0|      20|    23.0|\n",
      "|   A|  XX|2001|   4| 9.0|      20|    23.0|\n",
      "|   A|  XX|2002|   7| 5.0|      20|    23.0|\n",
      "|   A|  XX|2003|   6| 8.0|      20|    23.0|\n",
      "|   A|  YY|2000|   9| 3.0|      29|    16.0|\n",
      "|   A|  YY|2001|   5| 4.0|      29|    16.0|\n",
      "|   A|  YY|2002|  10| 2.0|      29|    16.0|\n",
      "|   A|  YY|2003|   5| 7.0|      29|    16.0|\n",
      "+----+----+----+----+----+--------+--------+\n",
      "\n"
     ]
    }
   ],
   "source": [
    "partition_col_name=[\"Id_1\",\"Id_2\"]\n",
    "win_name=Window.partitionBy(partition_col_name)\n",
    "\n",
    "target_col_name1=\"Me_1\"\n",
    "target_col_name2=\"Me_2\"\n",
    "new_col_name1=f\"sum_{target_col_name1}\"\n",
    "new_col_name2=f\"sum_{target_col_name2}\"\n",
    "\n",
    "df_sum=df.withColumn(new_col_name1,sum(target_col_name1).over(win_name)) \\\n",
    "         .withColumn(new_col_name2,sum(target_col_name2).over(win_name))\n",
    "df_sum.show()\n"
   ]
  },
  {
   "cell_type": "markdown",
   "metadata": {},
   "source": [
    "### 1.2.2 Exp 2: window has partition and order by\n",
    "\n",
    "The vtl query:\n",
    "\n",
    "```text\n",
    "res := sum ( ds1 over ( partition by Id_1 order by Id_2) )\n",
    "```"
   ]
  },
  {
   "cell_type": "code",
   "execution_count": 32,
   "metadata": {},
   "outputs": [
    {
     "name": "stdout",
     "output_type": "stream",
     "text": [
      "+----+----+----+----+----+--------+--------+\n",
      "|Id_1|Id_2|Year|Me_1|Me_2|sum_Me_1|sum_Me_2|\n",
      "+----+----+----+----+----+--------+--------+\n",
      "|   A|  XX|2000|   3| 1.0|      20|    23.0|\n",
      "|   A|  XX|2001|   4| 9.0|      20|    23.0|\n",
      "|   A|  XX|2002|   7| 5.0|      20|    23.0|\n",
      "|   A|  XX|2003|   6| 8.0|      20|    23.0|\n",
      "|   A|  YY|2000|   9| 3.0|      49|    39.0|\n",
      "|   A|  YY|2001|   5| 4.0|      49|    39.0|\n",
      "|   A|  YY|2002|  10| 2.0|      49|    39.0|\n",
      "|   A|  YY|2003|   5| 7.0|      49|    39.0|\n",
      "+----+----+----+----+----+--------+--------+\n",
      "\n"
     ]
    }
   ],
   "source": [
    "partition_col_name=\"Id_1\"\n",
    "win_name=Window.partitionBy(partition_col_name).orderBy(\"Id_2\")\n",
    "\n",
    "target_col_name1=\"Me_1\"\n",
    "target_col_name2=\"Me_2\"\n",
    "new_col_name1=f\"sum_{target_col_name1}\"\n",
    "new_col_name2=f\"sum_{target_col_name2}\"\n",
    "\n",
    "df_sum=df.withColumn(new_col_name1,sum(target_col_name1).over(win_name)) \\\n",
    "         .withColumn(new_col_name2,sum(target_col_name2).over(win_name))\n",
    "df_sum.show()\n"
   ]
  },
  {
   "cell_type": "markdown",
   "metadata": {
    "pycharm": {
     "name": "#%% md\n"
    }
   },
   "source": [
    "### 1.2.3 Window with orderby without partition, \n",
    "\n",
    "The vtl query:\n",
    "\n",
    "```text\n",
    "res := sum ( ds1 over ( order by Id_1, Id_2, Year ) )\n",
    "``` \n",
    "\n",
    "As there is no partition, so the whole data frame is considered as one partition. So the sum become the rolling sum of the whole data set.\n",
    "This is not recommended, because in spark, one partition means only one worker will do the job, the rest of the worker in the cluster will be idle. It's no longer distributed calculation."
   ]
  },
  {
   "cell_type": "code",
   "execution_count": 33,
   "metadata": {
    "collapsed": false,
    "jupyter": {
     "outputs_hidden": false
    },
    "pycharm": {
     "name": "#%%\n"
    }
   },
   "outputs": [
    {
     "name": "stdout",
     "output_type": "stream",
     "text": [
      "+----+----+----+----+----+--------+--------+\n",
      "|Id_1|Id_2|Year|Me_1|Me_2|sum_Me_1|sum_Me_2|\n",
      "+----+----+----+----+----+--------+--------+\n",
      "|   A|  XX|2000|   3| 1.0|       3|     1.0|\n",
      "|   A|  XX|2001|   4| 9.0|       7|    10.0|\n",
      "|   A|  XX|2002|   7| 5.0|      14|    15.0|\n",
      "|   A|  XX|2003|   6| 8.0|      20|    23.0|\n",
      "|   A|  YY|2000|   9| 3.0|      29|    26.0|\n",
      "|   A|  YY|2001|   5| 4.0|      34|    30.0|\n",
      "|   A|  YY|2002|  10| 2.0|      44|    32.0|\n",
      "|   A|  YY|2003|   5| 7.0|      49|    39.0|\n",
      "+----+----+----+----+----+--------+--------+\n",
      "\n"
     ]
    },
    {
     "name": "stderr",
     "output_type": "stream",
     "text": [
      "2022-06-29 13:19:44,373 WARN window.WindowExec: No Partition Defined for Window operation! Moving all data to a single partition, this can cause serious performance degradation.\n",
      "2022-06-29 13:19:44,373 WARN window.WindowExec: No Partition Defined for Window operation! Moving all data to a single partition, this can cause serious performance degradation.\n",
      "2022-06-29 13:19:44,472 WARN window.WindowExec: No Partition Defined for Window operation! Moving all data to a single partition, this can cause serious performance degradation.\n"
     ]
    }
   ],
   "source": [
    "partition_col_names=[\"Id_1\",\"Id_2\",\"Year\"]\n",
    "win_name=Window.orderBy(partition_col_names)\n",
    "\n",
    "target_col_name1=\"Me_1\"\n",
    "target_col_name2=\"Me_2\"\n",
    "new_col_name1=f\"sum_{target_col_name1}\"\n",
    "new_col_name2=f\"sum_{target_col_name2}\"\n",
    "\n",
    "df_sum=df.withColumn(new_col_name1,sum(target_col_name1).over(win_name)) \\\n",
    "         .withColumn(new_col_name2,sum(target_col_name2).over(win_name))\n",
    "df_sum.show()"
   ]
  },
  {
   "cell_type": "markdown",
   "metadata": {},
   "source": [
    "### 1.2.4 Exp : window has partition, order by and data point\n",
    "\n",
    "The vtl query:\n",
    "\n",
    "```text\n",
    "res := sum ( ds1 over ( partition by Id_1 order by Id_2 data points between -2 and 2) )\n",
    "```"
   ]
  },
  {
   "cell_type": "code",
   "execution_count": 34,
   "metadata": {
    "collapsed": false,
    "jupyter": {
     "outputs_hidden": false
    },
    "pycharm": {
     "name": "#%%\n"
    }
   },
   "outputs": [
    {
     "name": "stdout",
     "output_type": "stream",
     "text": [
      "+----+----+----+----+----+--------+--------+\n",
      "|Id_1|Id_2|Year|Me_1|Me_2|sum_Me_1|sum_Me_2|\n",
      "+----+----+----+----+----+--------+--------+\n",
      "|   A|  XX|2000|   3| 1.0|      14|    15.0|\n",
      "|   A|  XX|2001|   4| 9.0|      20|    23.0|\n",
      "|   A|  XX|2002|   7| 5.0|      29|    26.0|\n",
      "|   A|  XX|2003|   6| 8.0|      31|    29.0|\n",
      "|   A|  YY|2000|   9| 3.0|      37|    22.0|\n",
      "|   A|  YY|2001|   5| 4.0|      35|    24.0|\n",
      "|   A|  YY|2002|  10| 2.0|      29|    16.0|\n",
      "|   A|  YY|2003|   5| 7.0|      20|    13.0|\n",
      "+----+----+----+----+----+--------+--------+\n",
      "\n"
     ]
    }
   ],
   "source": [
    "partition_col_name=[\"Id_1\"]\n",
    "order_col_name=[\"Id_2\"]\n",
    "win_name=Window.partitionBy(partition_col_name).orderBy(order_col_name).rowsBetween(-2,2)\n",
    "target_col_name1=\"Me_1\"\n",
    "target_col_name2=\"Me_2\"\n",
    "new_col_name1=f\"sum_{target_col_name1}\"\n",
    "new_col_name2=f\"sum_{target_col_name2}\"\n",
    "\n",
    "df_sum=df.withColumn(new_col_name1,sum(target_col_name1).over(win_name)) \\\n",
    "         .withColumn(new_col_name2,sum(target_col_name2).over(win_name))\n",
    "df_sum.show()\n"
   ]
  },
  {
   "cell_type": "markdown",
   "metadata": {},
   "source": [
    "### 1.2.5 Exp : window has partition, order by and range \n",
    "\n",
    "The vtl query:\n",
    "\n",
    "```text\n",
    "res := sum ( ds1 over ( partition by Id_1 order by Year range between -1 and 1) )\n",
    "```"
   ]
  },
  {
   "cell_type": "code",
   "execution_count": 35,
   "metadata": {},
   "outputs": [
    {
     "name": "stdout",
     "output_type": "stream",
     "text": [
      "+----+----+----+----+----+--------+--------+\n",
      "|Id_1|Id_2|Year|Me_1|Me_2|sum_Me_1|sum_Me_2|\n",
      "+----+----+----+----+----+--------+--------+\n",
      "|   A|  XX|2000|   3| 1.0|      21|    17.0|\n",
      "|   A|  YY|2000|   9| 3.0|      21|    17.0|\n",
      "|   A|  XX|2001|   4| 9.0|      38|    24.0|\n",
      "|   A|  YY|2001|   5| 4.0|      38|    24.0|\n",
      "|   A|  XX|2002|   7| 5.0|      37|    35.0|\n",
      "|   A|  YY|2002|  10| 2.0|      37|    35.0|\n",
      "|   A|  XX|2003|   6| 8.0|      28|    22.0|\n",
      "|   A|  YY|2003|   5| 7.0|      28|    22.0|\n",
      "+----+----+----+----+----+--------+--------+\n",
      "\n"
     ]
    }
   ],
   "source": [
    "partition_col_name=[\"Id_1\"]\n",
    "order_col_name=[\"Year\"]\n",
    "win_name=Window.partitionBy(partition_col_name).orderBy(order_col_name).rangeBetween(-1,1)\n",
    "target_col_name1=\"Me_1\"\n",
    "target_col_name2=\"Me_2\"\n",
    "new_col_name1=f\"sum_{target_col_name1}\"\n",
    "new_col_name2=f\"sum_{target_col_name2}\"\n",
    "\n",
    "df_sum=df.withColumn(new_col_name1,sum(target_col_name1).over(win_name))\\\n",
    "        .withColumn(new_col_name2,sum(target_col_name2).over(win_name))\n",
    "                     \n",
    "df_sum.show()"
   ]
  },
  {
   "cell_type": "markdown",
   "metadata": {
    "pycharm": {
     "name": "#%% md\n"
    }
   },
   "source": [
    "## 1.3 min\n",
    "\n",
    "### 1.3.1 Exp1 : window only has partition clause\n",
    "\n",
    "The vtl query:\n",
    "\n",
    "```text\n",
    "res := min ( ds1 over ( partition by Id_1, Id_2 ) )\n",
    "```\n",
    "\n"
   ]
  },
  {
   "cell_type": "code",
   "execution_count": 38,
   "metadata": {
    "collapsed": false,
    "jupyter": {
     "outputs_hidden": false
    },
    "pycharm": {
     "name": "#%%\n"
    }
   },
   "outputs": [
    {
     "name": "stdout",
     "output_type": "stream",
     "text": [
      "+----+----+----+----+----+--------+--------+\n",
      "|Id_1|Id_2|Year|Me_1|Me_2|sum_Me_1|sum_Me_2|\n",
      "+----+----+----+----+----+--------+--------+\n",
      "|   A|  XX|2000|   3| 1.0|       3|     1.0|\n",
      "|   A|  XX|2001|   4| 9.0|       3|     1.0|\n",
      "|   A|  XX|2002|   7| 5.0|       3|     1.0|\n",
      "|   A|  XX|2003|   6| 8.0|       3|     1.0|\n",
      "|   A|  YY|2000|   9| 3.0|       5|     2.0|\n",
      "|   A|  YY|2001|   5| 4.0|       5|     2.0|\n",
      "|   A|  YY|2002|  10| 2.0|       5|     2.0|\n",
      "|   A|  YY|2003|   5| 7.0|       5|     2.0|\n",
      "+----+----+----+----+----+--------+--------+\n",
      "\n"
     ]
    }
   ],
   "source": [
    "partition_col_names=[\"Id_1\",\"Id_2\"]\n",
    "\n",
    "win_name=Window.partitionBy(partition_col_names)\n",
    "\n",
    "target_col_name1=\"Me_1\"\n",
    "target_col_name2=\"Me_2\"\n",
    "\n",
    "new_col_name1=f\"sum_{target_col_name1}\"\n",
    "new_col_name2=f\"sum_{target_col_name2}\"\n",
    "\n",
    "df_min=df.withColumn(new_col_name1,min(target_col_name1).over(win_name))\\\n",
    "        .withColumn(new_col_name2,min(target_col_name2).over(win_name))\n",
    "                     \n",
    "df_min.show()"
   ]
  },
  {
   "cell_type": "markdown",
   "metadata": {},
   "source": [
    "### 1.3.2 Exp 2: window has partition and order by\n",
    "\n",
    "The vtl query:\n",
    "\n",
    "```text\n",
    "res := min ( ds1 over ( partition by Id_1, Id_2 order by Year) )\n",
    "```"
   ]
  },
  {
   "cell_type": "code",
   "execution_count": 39,
   "metadata": {},
   "outputs": [
    {
     "name": "stdout",
     "output_type": "stream",
     "text": [
      "+----+----+----+----+----+--------+--------+\n",
      "|Id_1|Id_2|Year|Me_1|Me_2|sum_Me_1|sum_Me_2|\n",
      "+----+----+----+----+----+--------+--------+\n",
      "|   A|  XX|2000|   3| 1.0|       3|     1.0|\n",
      "|   A|  XX|2001|   4| 9.0|       3|     1.0|\n",
      "|   A|  XX|2002|   7| 5.0|       3|     1.0|\n",
      "|   A|  XX|2003|   6| 8.0|       3|     1.0|\n",
      "|   A|  YY|2000|   9| 3.0|       9|     3.0|\n",
      "|   A|  YY|2001|   5| 4.0|       5|     3.0|\n",
      "|   A|  YY|2002|  10| 2.0|       5|     2.0|\n",
      "|   A|  YY|2003|   5| 7.0|       5|     2.0|\n",
      "+----+----+----+----+----+--------+--------+\n",
      "\n"
     ]
    }
   ],
   "source": [
    "partition_col_names=[\"Id_1\",\"Id_2\"]\n",
    "\n",
    "win_name=Window.partitionBy(partition_col_names).orderBy(\"Year\")\n",
    "\n",
    "target_col_name1=\"Me_1\"\n",
    "target_col_name2=\"Me_2\"\n",
    "\n",
    "new_col_name1=f\"sum_{target_col_name1}\"\n",
    "new_col_name2=f\"sum_{target_col_name2}\"\n",
    "\n",
    "df_min=df.withColumn(new_col_name1,min(target_col_name1).over(win_name))\\\n",
    "        .withColumn(new_col_name2,min(target_col_name2).over(win_name))\n",
    "                     \n",
    "df_min.show()"
   ]
  },
  {
   "cell_type": "markdown",
   "metadata": {},
   "source": [
    "### 1.3.3 Window with orderby without partition, \n",
    "\n",
    "The vtl query:\n",
    "\n",
    "```text\n",
    "res := min ( ds1 over ( order by Id_1, Id_2, Year ) )\n",
    "``` \n"
   ]
  },
  {
   "cell_type": "code",
   "execution_count": 41,
   "metadata": {},
   "outputs": [
    {
     "name": "stdout",
     "output_type": "stream",
     "text": [
      "+----+----+----+----+----+--------+--------+\n",
      "|Id_1|Id_2|Year|Me_1|Me_2|sum_Me_1|sum_Me_2|\n",
      "+----+----+----+----+----+--------+--------+\n",
      "|   A|  XX|2000|   3| 1.0|       3|     1.0|\n",
      "|   A|  XX|2001|   4| 9.0|       3|     1.0|\n",
      "|   A|  XX|2002|   7| 5.0|       3|     1.0|\n",
      "|   A|  XX|2003|   6| 8.0|       3|     1.0|\n",
      "|   A|  YY|2000|   9| 3.0|       3|     1.0|\n",
      "|   A|  YY|2001|   5| 4.0|       3|     1.0|\n",
      "|   A|  YY|2002|  10| 2.0|       3|     1.0|\n",
      "|   A|  YY|2003|   5| 7.0|       3|     1.0|\n",
      "+----+----+----+----+----+--------+--------+\n",
      "\n"
     ]
    },
    {
     "name": "stderr",
     "output_type": "stream",
     "text": [
      "2022-06-30 09:38:58,166 WARN window.WindowExec: No Partition Defined for Window operation! Moving all data to a single partition, this can cause serious performance degradation.\n",
      "2022-06-30 09:38:58,166 WARN window.WindowExec: No Partition Defined for Window operation! Moving all data to a single partition, this can cause serious performance degradation.\n",
      "2022-06-30 09:38:58,240 WARN window.WindowExec: No Partition Defined for Window operation! Moving all data to a single partition, this can cause serious performance degradation.\n"
     ]
    }
   ],
   "source": [
    "order_col_names=[\"Id_1\",\"Id_2\",\"Year\"]\n",
    "\n",
    "win_name=Window.orderBy(order_col_names)\n",
    "\n",
    "target_col_name1=\"Me_1\"\n",
    "target_col_name2=\"Me_2\"\n",
    "\n",
    "new_col_name1=f\"sum_{target_col_name1}\"\n",
    "new_col_name2=f\"sum_{target_col_name2}\"\n",
    "\n",
    "df_min=df.withColumn(new_col_name1,min(target_col_name1).over(win_name))\\\n",
    "        .withColumn(new_col_name2,min(target_col_name2).over(win_name))\n",
    "                     \n",
    "df_min.show()"
   ]
  },
  {
   "cell_type": "markdown",
   "metadata": {},
   "source": [
    "### 1.3.4 Exp : window has partition, order by and data point\n",
    "\n",
    "The vtl query:\n",
    "\n",
    "```text\n",
    "res := min ( ds1 over ( partition by Id_1 order by Id_2 data points between -2 and 2) )\n",
    "```"
   ]
  },
  {
   "cell_type": "code",
   "execution_count": 43,
   "metadata": {},
   "outputs": [
    {
     "name": "stdout",
     "output_type": "stream",
     "text": [
      "+----+----+----+----+----+--------+--------+\n",
      "|Id_1|Id_2|Year|Me_1|Me_2|sum_Me_1|sum_Me_2|\n",
      "+----+----+----+----+----+--------+--------+\n",
      "|   A|  XX|2000|   3| 1.0|       3|     1.0|\n",
      "|   A|  XX|2001|   4| 9.0|       3|     1.0|\n",
      "|   A|  XX|2002|   7| 5.0|       3|     1.0|\n",
      "|   A|  XX|2003|   6| 8.0|       4|     3.0|\n",
      "|   A|  YY|2000|   9| 3.0|       5|     2.0|\n",
      "|   A|  YY|2001|   5| 4.0|       5|     2.0|\n",
      "|   A|  YY|2002|  10| 2.0|       5|     2.0|\n",
      "|   A|  YY|2003|   5| 7.0|       5|     2.0|\n",
      "+----+----+----+----+----+--------+--------+\n",
      "\n"
     ]
    }
   ],
   "source": [
    "partition_col_names=[\"Id_1\"]\n",
    "order_col_names=[\"Id_2\"]\n",
    "\n",
    "win_name=Window.partitionBy(partition_col_names).orderBy(order_col_names).rowsBetween(-2,2)\n",
    "\n",
    "target_col_name1=\"Me_1\"\n",
    "target_col_name2=\"Me_2\"\n",
    "\n",
    "new_col_name1=f\"sum_{target_col_name1}\"\n",
    "new_col_name2=f\"sum_{target_col_name2}\"\n",
    "\n",
    "df_min=df.withColumn(new_col_name1,min(target_col_name1).over(win_name))\\\n",
    "        .withColumn(new_col_name2,min(target_col_name2).over(win_name))\n",
    "                     \n",
    "df_min.show()"
   ]
  },
  {
   "cell_type": "markdown",
   "metadata": {},
   "source": [
    "### 1.3.5 Exp : window has partition, order by and range \n",
    "\n",
    "The vtl query:\n",
    "\n",
    "```text\n",
    "res := min ( ds1 over ( partition by Id_1 order by Year range between -1 and 1) )\n",
    "```"
   ]
  },
  {
   "cell_type": "code",
   "execution_count": null,
   "metadata": {},
   "outputs": [],
   "source": [
    "partition_col_names=[\"Id_1\"]\n",
    "order_col_names=[\"Year\"]\n",
    "\n",
    "win_name=Window.partitionBy(partition_col_names).orderBy(order_col_names).rangeBetween(-1,1)\n",
    "\n",
    "target_col_name1=\"Me_1\"\n",
    "target_col_name2=\"Me_2\"\n",
    "\n",
    "new_col_name1=f\"sum_{target_col_name1}\"\n",
    "new_col_name2=f\"sum_{target_col_name2}\"\n",
    "\n",
    "df_min=df.withColumn(new_col_name1,min(target_col_name1).over(win_name))\\\n",
    "        .withColumn(new_col_name2,min(target_col_name2).over(win_name))\n",
    "                     \n",
    "df_min.show()"
   ]
  },
  {
   "cell_type": "markdown",
   "metadata": {
    "pycharm": {
     "name": "#%% md\n"
    }
   },
   "source": [
    "## 1.4 max\n",
    "\n",
    "### 1.4.1 Exp1 : window only has partition clause\n",
    "\n",
    "The vtl query:\n",
    "\n",
    "```text\n",
    "res := max ( ds1 over ( partition by Id_1, Id_2 ) )\n",
    "```"
   ]
  },
  {
   "cell_type": "code",
   "execution_count": 61,
   "metadata": {
    "collapsed": false,
    "jupyter": {
     "outputs_hidden": false
    },
    "pycharm": {
     "name": "#%%\n"
    }
   },
   "outputs": [
    {
     "name": "stdout",
     "output_type": "stream",
     "text": [
      "+----+----+----+----+----+--------+--------+\n",
      "|Id_1|Id_2|Year|Me_1|Me_2|max_Me_1|max_Me_2|\n",
      "+----+----+----+----+----+--------+--------+\n",
      "|   A|  XX|2000|   3| 1.0|       7|     9.0|\n",
      "|   A|  XX|2001|   4| 9.0|       7|     9.0|\n",
      "|   A|  XX|2002|   7| 5.0|       7|     9.0|\n",
      "|   A|  XX|2003|   6| 8.0|       7|     9.0|\n",
      "|   A|  YY|2000|   9| 3.0|      10|     7.0|\n",
      "|   A|  YY|2001|   5| 4.0|      10|     7.0|\n",
      "|   A|  YY|2002|  10| 2.0|      10|     7.0|\n",
      "|   A|  YY|2003|   5| 7.0|      10|     7.0|\n",
      "+----+----+----+----+----+--------+--------+\n",
      "\n"
     ]
    }
   ],
   "source": [
    "partition_col_names=[\"Id_1\",\"Id_2\"]\n",
    "\n",
    "win_name=Window.partitionBy(partition_col_names)\n",
    "\n",
    "target_col_name1=\"Me_1\"\n",
    "target_col_name2=\"Me_2\"\n",
    "\n",
    "new_col_name1=f\"max_{target_col_name1}\"\n",
    "new_col_name2=f\"max_{target_col_name2}\"\n",
    "\n",
    "df_max=df.withColumn(new_col_name1,max(target_col_name1).over(win_name))\\\n",
    "        .withColumn(new_col_name2,max(target_col_name2).over(win_name))\n",
    "                     \n",
    "df_max.show()"
   ]
  },
  {
   "cell_type": "markdown",
   "metadata": {},
   "source": [
    "### 1.4.2 Exp 2: window has partition and order by\n",
    "\n",
    "The vtl query:\n",
    "\n",
    "```text\n",
    "res := max ( ds1 over ( partition by Id_1, Id_2 order by Year) )\n",
    "```"
   ]
  },
  {
   "cell_type": "code",
   "execution_count": 62,
   "metadata": {},
   "outputs": [
    {
     "name": "stdout",
     "output_type": "stream",
     "text": [
      "+----+----+----+----+----+--------+--------+\n",
      "|Id_1|Id_2|Year|Me_1|Me_2|max_Me_1|max_Me_2|\n",
      "+----+----+----+----+----+--------+--------+\n",
      "|   A|  XX|2000|   3| 1.0|       3|     1.0|\n",
      "|   A|  XX|2001|   4| 9.0|       4|     9.0|\n",
      "|   A|  XX|2002|   7| 5.0|       7|     9.0|\n",
      "|   A|  XX|2003|   6| 8.0|       7|     9.0|\n",
      "|   A|  YY|2000|   9| 3.0|       9|     3.0|\n",
      "|   A|  YY|2001|   5| 4.0|       9|     4.0|\n",
      "|   A|  YY|2002|  10| 2.0|      10|     4.0|\n",
      "|   A|  YY|2003|   5| 7.0|      10|     7.0|\n",
      "+----+----+----+----+----+--------+--------+\n",
      "\n"
     ]
    }
   ],
   "source": [
    "partition_col_names=[\"Id_1\",\"Id_2\"]\n",
    "\n",
    "win_name=Window.partitionBy(partition_col_names).orderBy(\"Year\")\n",
    "\n",
    "target_col_name1=\"Me_1\"\n",
    "target_col_name2=\"Me_2\"\n",
    "\n",
    "new_col_name1=f\"max_{target_col_name1}\"\n",
    "new_col_name2=f\"max_{target_col_name2}\"\n",
    "\n",
    "df_max=df.withColumn(new_col_name1,max(target_col_name1).over(win_name))\\\n",
    "        .withColumn(new_col_name2,max(target_col_name2).over(win_name))\n",
    "                     \n",
    "df_max.show()"
   ]
  },
  {
   "cell_type": "markdown",
   "metadata": {},
   "source": [
    "### 1.4.3 Exp : window has partition, order by and data point\n",
    "\n",
    "The vtl query:\n",
    "\n",
    "```text\n",
    "res := max ( ds1 over ( partition by Id_1 order by Id_2 data points between -2 and 2) )\n",
    "```"
   ]
  },
  {
   "cell_type": "code",
   "execution_count": 63,
   "metadata": {},
   "outputs": [
    {
     "name": "stdout",
     "output_type": "stream",
     "text": [
      "+----+----+----+----+----+--------+--------+\n",
      "|Id_1|Id_2|Year|Me_1|Me_2|max_Me_1|max_Me_2|\n",
      "+----+----+----+----+----+--------+--------+\n",
      "|   A|  XX|2000|   3| 1.0|       7|     9.0|\n",
      "|   A|  XX|2001|   4| 9.0|       7|     9.0|\n",
      "|   A|  XX|2002|   7| 5.0|       9|     9.0|\n",
      "|   A|  XX|2003|   6| 8.0|       9|     9.0|\n",
      "|   A|  YY|2000|   9| 3.0|      10|     8.0|\n",
      "|   A|  YY|2001|   5| 4.0|      10|     8.0|\n",
      "|   A|  YY|2002|  10| 2.0|      10|     7.0|\n",
      "|   A|  YY|2003|   5| 7.0|      10|     7.0|\n",
      "+----+----+----+----+----+--------+--------+\n",
      "\n"
     ]
    }
   ],
   "source": [
    "partition_col_names=[\"Id_1\"]\n",
    "order_col_names=[\"Id_2\"]\n",
    "\n",
    "win_name=Window.partitionBy(partition_col_names).orderBy(order_col_names).rowsBetween(-2,2)\n",
    "\n",
    "target_col_name1=\"Me_1\"\n",
    "target_col_name2=\"Me_2\"\n",
    "\n",
    "new_col_name1=f\"max_{target_col_name1}\"\n",
    "new_col_name2=f\"max_{target_col_name2}\"\n",
    "\n",
    "df_max=df.withColumn(new_col_name1,max(target_col_name1).over(win_name))\\\n",
    "        .withColumn(new_col_name2,max(target_col_name2).over(win_name))\n",
    "                     \n",
    "df_max.show()"
   ]
  },
  {
   "cell_type": "markdown",
   "metadata": {},
   "source": [
    "### 1.4.4 Exp : window has partition, order by and range \n",
    "\n",
    "The vtl query:\n",
    "\n",
    "```text\n",
    "res := max ( ds1 over ( partition by Id_1 order by Year range between -1 and 1) )\n",
    "```"
   ]
  },
  {
   "cell_type": "code",
   "execution_count": 64,
   "metadata": {},
   "outputs": [
    {
     "name": "stdout",
     "output_type": "stream",
     "text": [
      "+----+----+----+----+----+--------+--------+\n",
      "|Id_1|Id_2|Year|Me_1|Me_2|max_Me_1|max_Me_2|\n",
      "+----+----+----+----+----+--------+--------+\n",
      "|   A|  XX|2000|   3| 1.0|       9|     9.0|\n",
      "|   A|  YY|2000|   9| 3.0|       9|     9.0|\n",
      "|   A|  XX|2001|   4| 9.0|      10|     9.0|\n",
      "|   A|  YY|2001|   5| 4.0|      10|     9.0|\n",
      "|   A|  XX|2002|   7| 5.0|      10|     9.0|\n",
      "|   A|  YY|2002|  10| 2.0|      10|     9.0|\n",
      "|   A|  XX|2003|   6| 8.0|      10|     8.0|\n",
      "|   A|  YY|2003|   5| 7.0|      10|     8.0|\n",
      "+----+----+----+----+----+--------+--------+\n",
      "\n"
     ]
    }
   ],
   "source": [
    "partition_col_names=[\"Id_1\"]\n",
    "order_col_names=[\"Year\"]\n",
    "\n",
    "win_name=Window.partitionBy(partition_col_names).orderBy(order_col_names).rangeBetween(-1,1)\n",
    "\n",
    "target_col_name1=\"Me_1\"\n",
    "target_col_name2=\"Me_2\"\n",
    "\n",
    "new_col_name1=f\"max_{target_col_name1}\"\n",
    "new_col_name2=f\"max_{target_col_name2}\"\n",
    "\n",
    "df_max=df.withColumn(new_col_name1,max(target_col_name1).over(win_name))\\\n",
    "        .withColumn(new_col_name2,max(target_col_name2).over(win_name))\n",
    "                     \n",
    "df_max.show()"
   ]
  },
  {
   "cell_type": "markdown",
   "metadata": {
    "pycharm": {
     "name": "#%% md\n"
    }
   },
   "source": [
    "## 1.5 avg\n",
    "\n",
    "### 1.5.1 Exp1 : window only has partition clause\n",
    "\n",
    "The vtl query:\n",
    "\n",
    "```text\n",
    "res := avg ( ds1 over ( partition by Id_1, Id_2 ) )\n",
    "```\n"
   ]
  },
  {
   "cell_type": "code",
   "execution_count": 57,
   "metadata": {
    "collapsed": false,
    "jupyter": {
     "outputs_hidden": false
    },
    "pycharm": {
     "name": "#%%\n"
    }
   },
   "outputs": [
    {
     "name": "stdout",
     "output_type": "stream",
     "text": [
      "+----+----+----+----+----+--------+--------+\n",
      "|Id_1|Id_2|Year|Me_1|Me_2|avg_Me_1|avg_Me_2|\n",
      "+----+----+----+----+----+--------+--------+\n",
      "|   A|  XX|2000|   3| 1.0|     5.0|    5.75|\n",
      "|   A|  XX|2001|   4| 9.0|     5.0|    5.75|\n",
      "|   A|  XX|2002|   7| 5.0|     5.0|    5.75|\n",
      "|   A|  XX|2003|   6| 8.0|     5.0|    5.75|\n",
      "|   A|  YY|2000|   9| 3.0|    7.25|     4.0|\n",
      "|   A|  YY|2001|   5| 4.0|    7.25|     4.0|\n",
      "|   A|  YY|2002|  10| 2.0|    7.25|     4.0|\n",
      "|   A|  YY|2003|   5| 7.0|    7.25|     4.0|\n",
      "+----+----+----+----+----+--------+--------+\n",
      "\n"
     ]
    }
   ],
   "source": [
    "partition_col_names=[\"Id_1\",\"Id_2\"]\n",
    "\n",
    "win_name=Window.partitionBy(partition_col_names)\n",
    "\n",
    "target_col_name1=\"Me_1\"\n",
    "target_col_name2=\"Me_2\"\n",
    "\n",
    "new_col_name1=f\"avg_{target_col_name1}\"\n",
    "new_col_name2=f\"avg_{target_col_name2}\"\n",
    "\n",
    "df_avg=df.withColumn(new_col_name1,avg(target_col_name1).over(win_name))\\\n",
    "        .withColumn(new_col_name2,avg(target_col_name2).over(win_name))\n",
    "                     \n",
    "df_avg.show()"
   ]
  },
  {
   "cell_type": "markdown",
   "metadata": {},
   "source": [
    "### 1.5.2 Exp 2: window has partition and order by\n",
    "\n",
    "The vtl query:\n",
    "\n",
    "```text\n",
    "res := avg ( ds1 over ( partition by Id_1, Id_2 order by Year) )\n",
    "```"
   ]
  },
  {
   "cell_type": "code",
   "execution_count": 58,
   "metadata": {},
   "outputs": [
    {
     "name": "stdout",
     "output_type": "stream",
     "text": [
      "+----+----+----+----+----+-----------------+--------+\n",
      "|Id_1|Id_2|Year|Me_1|Me_2|         avg_Me_1|avg_Me_2|\n",
      "+----+----+----+----+----+-----------------+--------+\n",
      "|   A|  XX|2000|   3| 1.0|              3.0|     1.0|\n",
      "|   A|  XX|2001|   4| 9.0|              3.5|     5.0|\n",
      "|   A|  XX|2002|   7| 5.0|4.666666666666667|     5.0|\n",
      "|   A|  XX|2003|   6| 8.0|              5.0|    5.75|\n",
      "|   A|  YY|2000|   9| 3.0|              9.0|     3.0|\n",
      "|   A|  YY|2001|   5| 4.0|              7.0|     3.5|\n",
      "|   A|  YY|2002|  10| 2.0|              8.0|     3.0|\n",
      "|   A|  YY|2003|   5| 7.0|             7.25|     4.0|\n",
      "+----+----+----+----+----+-----------------+--------+\n",
      "\n"
     ]
    }
   ],
   "source": [
    "partition_col_names=[\"Id_1\",\"Id_2\"]\n",
    "\n",
    "win_name=Window.partitionBy(partition_col_names).orderBy(\"Year\")\n",
    "\n",
    "target_col_name1=\"Me_1\"\n",
    "target_col_name2=\"Me_2\"\n",
    "\n",
    "new_col_name1=f\"avg_{target_col_name1}\"\n",
    "new_col_name2=f\"avg_{target_col_name2}\"\n",
    "\n",
    "df_avg=df.withColumn(new_col_name1,avg(target_col_name1).over(win_name))\\\n",
    "        .withColumn(new_col_name2,avg(target_col_name2).over(win_name))\n",
    "                     \n",
    "df_avg.show()"
   ]
  },
  {
   "cell_type": "markdown",
   "metadata": {},
   "source": [
    "### 1.5.3 Exp : window has partition, order by and data point\n",
    "\n",
    "The vtl query:\n",
    "\n",
    "```text\n",
    "res := avg ( ds1 over ( partition by Id_1 order by Id_2 data points between -2 and 2) )\n",
    "```"
   ]
  },
  {
   "cell_type": "code",
   "execution_count": 59,
   "metadata": {},
   "outputs": [
    {
     "name": "stdout",
     "output_type": "stream",
     "text": [
      "+----+----+----+----+----+-----------------+-----------------+\n",
      "|Id_1|Id_2|Year|Me_1|Me_2|         avg_Me_1|         avg_Me_2|\n",
      "+----+----+----+----+----+-----------------+-----------------+\n",
      "|   A|  XX|2000|   3| 1.0|4.666666666666667|              5.0|\n",
      "|   A|  XX|2001|   4| 9.0|              5.0|             5.75|\n",
      "|   A|  XX|2002|   7| 5.0|              5.8|              5.2|\n",
      "|   A|  XX|2003|   6| 8.0|              6.2|              5.8|\n",
      "|   A|  YY|2000|   9| 3.0|              7.4|              4.4|\n",
      "|   A|  YY|2001|   5| 4.0|              7.0|              4.8|\n",
      "|   A|  YY|2002|  10| 2.0|             7.25|              4.0|\n",
      "|   A|  YY|2003|   5| 7.0|6.666666666666667|4.333333333333333|\n",
      "+----+----+----+----+----+-----------------+-----------------+\n",
      "\n"
     ]
    }
   ],
   "source": [
    "partition_col_names=[\"Id_1\"]\n",
    "order_col_names=[\"Id_2\"]\n",
    "\n",
    "win_name=Window.partitionBy(partition_col_names).orderBy(order_col_names).rowsBetween(-2,2)\n",
    "\n",
    "target_col_name1=\"Me_1\"\n",
    "target_col_name2=\"Me_2\"\n",
    "\n",
    "new_col_name1=f\"avg_{target_col_name1}\"\n",
    "new_col_name2=f\"avg_{target_col_name2}\"\n",
    "\n",
    "df_avg=df.withColumn(new_col_name1,avg(target_col_name1).over(win_name))\\\n",
    "        .withColumn(new_col_name2,avg(target_col_name2).over(win_name))\n",
    "                     \n",
    "df_avg.show()"
   ]
  },
  {
   "cell_type": "markdown",
   "metadata": {},
   "source": [
    "### 1.5.4 Exp : window has partition, order by and range \n",
    "\n",
    "The vtl query:\n",
    "\n",
    "```text\n",
    "res := avg ( ds1 over ( partition by Id_1 order by Year range between -1 and 1) )\n",
    "```"
   ]
  },
  {
   "cell_type": "code",
   "execution_count": 60,
   "metadata": {},
   "outputs": [
    {
     "name": "stdout",
     "output_type": "stream",
     "text": [
      "+----+----+----+----+----+-----------------+-----------------+\n",
      "|Id_1|Id_2|Year|Me_1|Me_2|         avg_Me_1|         avg_Me_2|\n",
      "+----+----+----+----+----+-----------------+-----------------+\n",
      "|   A|  XX|2000|   3| 1.0|             5.25|             4.25|\n",
      "|   A|  YY|2000|   9| 3.0|             5.25|             4.25|\n",
      "|   A|  XX|2001|   4| 9.0|6.333333333333333|              4.0|\n",
      "|   A|  YY|2001|   5| 4.0|6.333333333333333|              4.0|\n",
      "|   A|  XX|2002|   7| 5.0|6.166666666666667|5.833333333333333|\n",
      "|   A|  YY|2002|  10| 2.0|6.166666666666667|5.833333333333333|\n",
      "|   A|  XX|2003|   6| 8.0|              7.0|              5.5|\n",
      "|   A|  YY|2003|   5| 7.0|              7.0|              5.5|\n",
      "+----+----+----+----+----+-----------------+-----------------+\n",
      "\n"
     ]
    }
   ],
   "source": [
    "partition_col_names=[\"Id_1\"]\n",
    "order_col_names=[\"Year\"]\n",
    "\n",
    "win_name=Window.partitionBy(partition_col_names).orderBy(order_col_names).rangeBetween(-1,1)\n",
    "\n",
    "target_col_name1=\"Me_1\"\n",
    "target_col_name2=\"Me_2\"\n",
    "\n",
    "new_col_name1=f\"avg_{target_col_name1}\"\n",
    "new_col_name2=f\"avg_{target_col_name2}\"\n",
    "\n",
    "df_avg=df.withColumn(new_col_name1,avg(target_col_name1).over(win_name))\\\n",
    "        .withColumn(new_col_name2,avg(target_col_name2).over(win_name))\n",
    "                     \n",
    "df_avg.show()"
   ]
  },
  {
   "cell_type": "markdown",
   "metadata": {
    "pycharm": {
     "name": "#%% md\n"
    }
   },
   "source": [
    "## 1.6 median\n",
    "\n",
    "\n",
    "### 1.6.1 Exp1 : window only has partition clause\n",
    "\n",
    "The vtl query:\n",
    "\n",
    "```text\n",
    "res := median ( ds1 over ( partition by Id_1, Id_2 ) )\n",
    "```\n",
    "\n",
    "\n",
    "percentile_approx with partitionBy followed by orderBy will do rolling median. To have median of each partition, you must only have partitionBy in your window definition."
   ]
  },
  {
   "cell_type": "code",
   "execution_count": 68,
   "metadata": {
    "collapsed": false,
    "jupyter": {
     "outputs_hidden": false
    },
    "pycharm": {
     "name": "#%%\n"
    }
   },
   "outputs": [
    {
     "name": "stdout",
     "output_type": "stream",
     "text": [
      "+----+----+----+----+----+-----------+-----------+\n",
      "|Id_1|Id_2|Year|Me_1|Me_2|median_Me_1|median_Me_2|\n",
      "+----+----+----+----+----+-----------+-----------+\n",
      "|   A|  XX|2000|   3| 1.0|          5|        4.0|\n",
      "|   A|  XX|2001|   4| 9.0|          5|        4.0|\n",
      "|   A|  XX|2002|   7| 5.0|          5|        4.0|\n",
      "|   A|  XX|2003|   6| 8.0|          5|        4.0|\n",
      "|   A|  YY|2000|   9| 3.0|          5|        4.0|\n",
      "|   A|  YY|2001|   5| 4.0|          5|        4.0|\n",
      "|   A|  YY|2002|  10| 2.0|          5|        4.0|\n",
      "|   A|  YY|2003|   5| 7.0|          5|        4.0|\n",
      "+----+----+----+----+----+-----------+-----------+\n",
      "\n"
     ]
    }
   ],
   "source": [
    "partition_col_names=[\"Id_1\",\"Id_2\"]\n",
    "order_col_names=[\"Year\"]\n",
    "MEDIAN_PERCENTILE=0.5\n",
    "PRECISION=10000000\n",
    "win_name=Window.partitionBy(partition_col_name)\n",
    "\n",
    "\n",
    "target_col_name1=\"Me_1\"\n",
    "target_col_name2=\"Me_2\"\n",
    "\n",
    "new_col_name1=f\"median_{target_col_name1}\"\n",
    "new_col_name2=f\"median_{target_col_name2}\"\n",
    "\n",
    "df_median=df.withColumn(new_col_name1,percentile_approx(target_col_name1,MEDIAN_PERCENTILE,PRECISION).over(win_name))\\\n",
    "        .withColumn(new_col_name2,percentile_approx(target_col_name2,MEDIAN_PERCENTILE,PRECISION).over(win_name))\n",
    "                     \n",
    "\n",
    "df_median.show()"
   ]
  },
  {
   "cell_type": "markdown",
   "metadata": {},
   "source": [
    "### 1.6.2 Exp 2: window has partition and order by\n",
    "\n",
    "The vtl query:\n",
    "\n",
    "```text\n",
    "res := median ( ds1 over ( partition by Id_1, Id_2 order by Year) )\n",
    "```"
   ]
  },
  {
   "cell_type": "code",
   "execution_count": 67,
   "metadata": {},
   "outputs": [
    {
     "name": "stdout",
     "output_type": "stream",
     "text": [
      "+----+----+----+----+----+-----------+-----------+\n",
      "|Id_1|Id_2|Year|Me_1|Me_2|median_Me_1|median_Me_2|\n",
      "+----+----+----+----+----+-----------+-----------+\n",
      "|   A|  XX|2000|   3| 1.0|          3|        1.0|\n",
      "|   A|  YY|2000|   9| 3.0|          3|        1.0|\n",
      "|   A|  XX|2001|   4| 9.0|          4|        3.0|\n",
      "|   A|  YY|2001|   5| 4.0|          4|        3.0|\n",
      "|   A|  XX|2002|   7| 5.0|          5|        3.0|\n",
      "|   A|  YY|2002|  10| 2.0|          5|        3.0|\n",
      "|   A|  XX|2003|   6| 8.0|          5|        4.0|\n",
      "|   A|  YY|2003|   5| 7.0|          5|        4.0|\n",
      "+----+----+----+----+----+-----------+-----------+\n",
      "\n"
     ]
    }
   ],
   "source": [
    "partition_col_names=[\"Id_1\",\"Id_2\"]\n",
    "order_col_names=[\"Year\"]\n",
    "MEDIAN_PERCENTILE=0.5\n",
    "PRECISION=10000000\n",
    "win_name=Window.partitionBy(partition_col_name).orderBy(order_col_names)\n",
    "\n",
    "\n",
    "target_col_name1=\"Me_1\"\n",
    "target_col_name2=\"Me_2\"\n",
    "\n",
    "new_col_name1=f\"median_{target_col_name1}\"\n",
    "new_col_name2=f\"median_{target_col_name2}\"\n",
    "\n",
    "df_median=df.withColumn(new_col_name1,percentile_approx(target_col_name1,MEDIAN_PERCENTILE,PRECISION).over(win_name))\\\n",
    "        .withColumn(new_col_name2,percentile_approx(target_col_name2,MEDIAN_PERCENTILE,PRECISION).over(win_name))\n",
    "                     \n",
    "\n",
    "df_median.show()"
   ]
  },
  {
   "cell_type": "code",
   "execution_count": null,
   "metadata": {},
   "outputs": [],
   "source": [
    "### 1.6.3 Exp : window has partition, order by and data point\n",
    "\n",
    "The vtl query:\n",
    "\n",
    "```text\n",
    "res := median ( ds1 over ( partition by Id_1 order by Id_2 data points between -2 and 2) )\n",
    "```"
   ]
  },
  {
   "cell_type": "code",
   "execution_count": 69,
   "metadata": {},
   "outputs": [
    {
     "name": "stdout",
     "output_type": "stream",
     "text": [
      "+----+----+----+----+----+-----------+-----------+\n",
      "|Id_1|Id_2|Year|Me_1|Me_2|median_Me_1|median_Me_2|\n",
      "+----+----+----+----+----+-----------+-----------+\n",
      "|   A|  XX|2000|   3| 1.0|          4|        5.0|\n",
      "|   A|  XX|2001|   4| 9.0|          4|        5.0|\n",
      "|   A|  XX|2002|   7| 5.0|          6|        5.0|\n",
      "|   A|  XX|2003|   6| 8.0|          6|        5.0|\n",
      "|   A|  YY|2000|   9| 3.0|          7|        4.0|\n",
      "|   A|  YY|2001|   5| 4.0|          6|        4.0|\n",
      "|   A|  YY|2002|  10| 2.0|          5|        3.0|\n",
      "|   A|  YY|2003|   5| 7.0|          5|        4.0|\n",
      "+----+----+----+----+----+-----------+-----------+\n",
      "\n"
     ]
    }
   ],
   "source": [
    "partition_col_names=[\"Id_1\"]\n",
    "order_col_names=[\"Id_2\"]\n",
    "MEDIAN_PERCENTILE=0.5\n",
    "PRECISION=10000000\n",
    "win_name=Window.partitionBy(partition_col_name).orderBy(order_col_names).rowsBetween(-2,2)\n",
    "\n",
    "\n",
    "target_col_name1=\"Me_1\"\n",
    "target_col_name2=\"Me_2\"\n",
    "\n",
    "new_col_name1=f\"median_{target_col_name1}\"\n",
    "new_col_name2=f\"median_{target_col_name2}\"\n",
    "\n",
    "df_median=df.withColumn(new_col_name1,percentile_approx(target_col_name1,MEDIAN_PERCENTILE,PRECISION).over(win_name))\\\n",
    "        .withColumn(new_col_name2,percentile_approx(target_col_name2,MEDIAN_PERCENTILE,PRECISION).over(win_name))\n",
    "                     \n",
    "\n",
    "df_median.show()"
   ]
  },
  {
   "cell_type": "code",
   "execution_count": null,
   "metadata": {},
   "outputs": [],
   "source": [
    "### 1.6.4 Exp : window has partition, order by and range \n",
    "\n",
    "The vtl query:\n",
    "\n",
    "```text\n",
    "res := median ( ds1 over ( partition by Id_1 order by Year range between -1 and 1) )\n",
    "```"
   ]
  },
  {
   "cell_type": "code",
   "execution_count": 70,
   "metadata": {},
   "outputs": [
    {
     "name": "stdout",
     "output_type": "stream",
     "text": [
      "+----+----+----+----+----+-----------+-----------+\n",
      "|Id_1|Id_2|Year|Me_1|Me_2|median_Me_1|median_Me_2|\n",
      "+----+----+----+----+----+-----------+-----------+\n",
      "|   A|  XX|2000|   3| 1.0|          4|        3.0|\n",
      "|   A|  YY|2000|   9| 3.0|          4|        3.0|\n",
      "|   A|  XX|2001|   4| 9.0|          5|        3.0|\n",
      "|   A|  YY|2001|   5| 4.0|          5|        3.0|\n",
      "|   A|  XX|2002|   7| 5.0|          5|        5.0|\n",
      "|   A|  YY|2002|  10| 2.0|          5|        5.0|\n",
      "|   A|  XX|2003|   6| 8.0|          6|        5.0|\n",
      "|   A|  YY|2003|   5| 7.0|          6|        5.0|\n",
      "+----+----+----+----+----+-----------+-----------+\n",
      "\n"
     ]
    }
   ],
   "source": [
    "partition_col_names=[\"Id_1\"]\n",
    "order_col_names=[\"Year\"]\n",
    "MEDIAN_PERCENTILE=0.5\n",
    "PRECISION=10000000\n",
    "win_name=Window.partitionBy(partition_col_name).orderBy(order_col_names).rangeBetween(-1,1)\n",
    "\n",
    "\n",
    "target_col_name1=\"Me_1\"\n",
    "target_col_name2=\"Me_2\"\n",
    "\n",
    "new_col_name1=f\"median_{target_col_name1}\"\n",
    "new_col_name2=f\"median_{target_col_name2}\"\n",
    "\n",
    "df_median=df.withColumn(new_col_name1,percentile_approx(target_col_name1,MEDIAN_PERCENTILE,PRECISION).over(win_name))\\\n",
    "        .withColumn(new_col_name2,percentile_approx(target_col_name2,MEDIAN_PERCENTILE,PRECISION).over(win_name))\n",
    "                     \n",
    "\n",
    "df_median.show()"
   ]
  },
  {
   "cell_type": "markdown",
   "metadata": {
    "pycharm": {
     "name": "#%% md\n"
    }
   },
   "source": [
    "## 1.7 stddev_pop\n",
    "\n",
    "An example of steddev_pop and steddev_sample\n",
    "\n",
    "https://www.khanacademy.org/math/statistics-probability/summarizing-quantitative-data/variance-standard-deviation-sample/a/population-and-sample-standard-deviation-review\n",
    "\n",
    "The operator returns the “population standard deviation” of the input values.\n",
    "\n",
    "### 1.6.1 Exp1 : window only has partition clause\n",
    "\n",
    "The vtl query:\n",
    "\n",
    "```text\n",
    "res := stddev_pop ( ds1 over ( partition by Id_1, Id_2 ) )\n",
    "```\n"
   ]
  },
  {
   "cell_type": "code",
   "execution_count": 72,
   "metadata": {
    "collapsed": false,
    "jupyter": {
     "outputs_hidden": false
    },
    "pycharm": {
     "name": "#%%\n"
    }
   },
   "outputs": [
    {
     "name": "stdout",
     "output_type": "stream",
     "text": [
      "+----+----+----+----+----+------------------+------------------+\n",
      "|Id_1|Id_2|Year|Me_1|Me_2|      std_pop_Me_1|      std_pop_Me_2|\n",
      "+----+----+----+----+----+------------------+------------------+\n",
      "|   A|  XX|2000|   3| 1.0|2.2603926650031405|2.7128168017763383|\n",
      "|   A|  XX|2001|   4| 9.0|2.2603926650031405|2.7128168017763383|\n",
      "|   A|  XX|2002|   7| 5.0|2.2603926650031405|2.7128168017763383|\n",
      "|   A|  XX|2003|   6| 8.0|2.2603926650031405|2.7128168017763383|\n",
      "|   A|  YY|2000|   9| 3.0|2.2603926650031405|2.7128168017763383|\n",
      "|   A|  YY|2001|   5| 4.0|2.2603926650031405|2.7128168017763383|\n",
      "|   A|  YY|2002|  10| 2.0|2.2603926650031405|2.7128168017763383|\n",
      "|   A|  YY|2003|   5| 7.0|2.2603926650031405|2.7128168017763383|\n",
      "+----+----+----+----+----+------------------+------------------+\n",
      "\n"
     ]
    }
   ],
   "source": [
    "partition_col_names=[\"Id_1\",\"Id_2\"]\n",
    "order_by_col=[\"Id_3\"]\n",
    "win_name=Window.partitionBy(partition_col_name)\n",
    "\n",
    "target_col_name1=\"Me_1\"\n",
    "target_col_name2=\"Me_2\"\n",
    "\n",
    "new_col_name1=f\"std_pop_{target_col_name1}\"\n",
    "new_col_name2=f\"std_pop_{target_col_name2}\"\n",
    "\n",
    "df_std_pop=df.withColumn(new_col_name1,stddev_pop(target_col_name1).over(win_name))\\\n",
    "        .withColumn(new_col_name2,stddev_pop(target_col_name2).over(win_name))\n",
    "df_std_pop.show()"
   ]
  },
  {
   "cell_type": "markdown",
   "metadata": {
    "pycharm": {
     "name": "#%% md\n"
    }
   },
   "source": [
    "## 1.8 stddev_samp\n",
    "\n",
    "The operator returns the “sample standard deviation” of the input values.\n",
    "\n",
    "DS_r :=  stddev_stamp ( DS_1 over ( partition by Id_1, Id_2 order by Id_3 ) )"
   ]
  },
  {
   "cell_type": "code",
   "execution_count": 16,
   "metadata": {
    "collapsed": false,
    "jupyter": {
     "outputs_hidden": false
    },
    "pycharm": {
     "name": "#%%\n"
    }
   },
   "outputs": [
    {
     "name": "stdout",
     "output_type": "stream",
     "text": [
      "+----+----+----+----+----+------------------+\n",
      "|Id_1|Id_2|Id_3|Me_1|Me_2|  stddev_samp_Me_1|\n",
      "+----+----+----+----+----+------------------+\n",
      "|   A|  YY|2000|   9|   3|2.6299556396765835|\n",
      "|   A|  YY|2001|   5|   4|2.6299556396765835|\n",
      "|   A|  YY|2002|  10|   2|2.6299556396765835|\n",
      "|   A|  YY|2003|   5|   7|2.6299556396765835|\n",
      "|   A|  XX|2000|   3|   1|1.8257418583505536|\n",
      "|   A|  XX|2001|   4|   9|1.8257418583505536|\n",
      "|   A|  XX|2002|   7|   5|1.8257418583505536|\n",
      "|   A|  XX|2003|   6|   8|1.8257418583505536|\n",
      "+----+----+----+----+----+------------------+\n",
      "\n"
     ]
    }
   ],
   "source": [
    "partition_col_names=[\"Id_1\",\"Id_2\"]\n",
    "order_by_col=[\"Id_3\"]\n",
    "win_name=Window.partitionBy(partition_col_name)\n",
    "target_col_name=\"Me_1\"\n",
    "new_col_name=f\"stddev_samp_{target_col_name}\"\n",
    "df_min=df.withColumn(new_col_name,stddev_samp(target_col_name).over(win_name))\n",
    "df_min.show()"
   ]
  },
  {
   "cell_type": "markdown",
   "metadata": {
    "pycharm": {
     "name": "#%% md\n"
    }
   },
   "source": [
    "## 1.9 var_pop\n",
    "\n",
    "\n",
    "DS_r :=  var_pop ( DS_1 over ( partition by Id_1, Id_2 order by Id_3 ) )\n",
    "The operator returns the “population variance” of the input values"
   ]
  },
  {
   "cell_type": "code",
   "execution_count": 17,
   "metadata": {
    "collapsed": false,
    "jupyter": {
     "outputs_hidden": false
    },
    "pycharm": {
     "name": "#%%\n"
    }
   },
   "outputs": [
    {
     "name": "stdout",
     "output_type": "stream",
     "text": [
      "+----+----+----+----+----+------------------+\n",
      "|Id_1|Id_2|Id_3|Me_1|Me_2|      var_pop_Me_1|\n",
      "+----+----+----+----+----+------------------+\n",
      "|   A|  YY|2000|   9|   3|            5.1875|\n",
      "|   A|  YY|2001|   5|   4|            5.1875|\n",
      "|   A|  YY|2002|  10|   2|            5.1875|\n",
      "|   A|  YY|2003|   5|   7|            5.1875|\n",
      "|   A|  XX|2000|   3|   1|2.4999999999999996|\n",
      "|   A|  XX|2001|   4|   9|2.4999999999999996|\n",
      "|   A|  XX|2002|   7|   5|2.4999999999999996|\n",
      "|   A|  XX|2003|   6|   8|2.4999999999999996|\n",
      "+----+----+----+----+----+------------------+\n",
      "\n"
     ]
    }
   ],
   "source": [
    "partition_col_names=[\"Id_1\",\"Id_2\"]\n",
    "order_by_col=[\"Id_3\"]\n",
    "win_name=Window.partitionBy(partition_col_name)\n",
    "target_col_name=\"Me_1\"\n",
    "new_col_name=f\"var_pop_{target_col_name}\"\n",
    "df_min=df.withColumn(new_col_name,var_pop(target_col_name).over(win_name))\n",
    "df_min.show()"
   ]
  },
  {
   "cell_type": "markdown",
   "metadata": {
    "pycharm": {
     "name": "#%% md\n"
    }
   },
   "source": [
    "## 1.10 var_samp\n",
    "\n",
    "\n",
    "DS_r :=  var_samp ( DS_1 over ( partition by Id_1, Id_2 order by Id_3 ) )\n",
    "\n",
    "The operator returns the “sample variance” of the input values"
   ]
  },
  {
   "cell_type": "code",
   "execution_count": 18,
   "metadata": {
    "collapsed": false,
    "jupyter": {
     "outputs_hidden": false
    },
    "pycharm": {
     "name": "#%%\n"
    }
   },
   "outputs": [
    {
     "name": "stdout",
     "output_type": "stream",
     "text": [
      "+----+----+----+----+----+------------------+\n",
      "|Id_1|Id_2|Id_3|Me_1|Me_2|     var_samp_Me_1|\n",
      "+----+----+----+----+----+------------------+\n",
      "|   A|  YY|2000|   9|   3| 6.916666666666667|\n",
      "|   A|  YY|2001|   5|   4| 6.916666666666667|\n",
      "|   A|  YY|2002|  10|   2| 6.916666666666667|\n",
      "|   A|  YY|2003|   5|   7| 6.916666666666667|\n",
      "|   A|  XX|2000|   3|   1|3.3333333333333326|\n",
      "|   A|  XX|2001|   4|   9|3.3333333333333326|\n",
      "|   A|  XX|2002|   7|   5|3.3333333333333326|\n",
      "|   A|  XX|2003|   6|   8|3.3333333333333326|\n",
      "+----+----+----+----+----+------------------+\n",
      "\n"
     ]
    }
   ],
   "source": [
    "partition_col_names=[\"Id_1\",\"Id_2\"]\n",
    "order_by_col=[\"Id_3\"]\n",
    "win_name=Window.partitionBy(partition_col_name)\n",
    "target_col_name=\"Me_1\"\n",
    "new_col_name=f\"var_samp_{target_col_name}\"\n",
    "df_min=df.withColumn(new_col_name,var_samp(target_col_name).over(win_name))\n",
    "df_min.show()"
   ]
  },
  {
   "cell_type": "code",
   "execution_count": null,
   "metadata": {
    "collapsed": false,
    "jupyter": {
     "outputs_hidden": false
    },
    "pycharm": {
     "name": "#%%\n"
    }
   },
   "outputs": [],
   "source": []
  }
 ],
 "metadata": {
  "kernelspec": {
   "display_name": "Python 3 (ipykernel)",
   "language": "python",
   "name": "python3"
  },
  "language_info": {
   "codemirror_mode": {
    "name": "ipython",
    "version": 3
   },
   "file_extension": ".py",
   "mimetype": "text/x-python",
   "name": "python",
   "nbconvert_exporter": "python",
   "pygments_lexer": "ipython3",
   "version": "3.9.12"
  }
 },
 "nbformat": 4,
 "nbformat_minor": 4
}
