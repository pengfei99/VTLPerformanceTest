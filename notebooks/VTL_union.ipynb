{
 "cells": [
  {
   "cell_type": "markdown",
   "source": [
    "# VLT Union operator\n",
    "\n",
    "The original doc can be found at **line 4977 of VTL-2.0-Reference-Manual**\n",
    "\n",
    "## Syntax\n",
    "\n",
    "```text\n",
    "union ( dsList )\n",
    "   - dsList ::= ds { , ds }*\n",
    "```\n",
    "**Additional constraints**:\n",
    "\n",
    "All the Data Sets in dsList have the same Identifier, Measure and Attribute Components.\n",
    "\n",
    "**Behaviour**\n",
    "\n",
    "The `union` operator implements the union of functions (i.e., Data Sets). The resulting Data Set has the same `Identifier, Measure and Attribute` Components of the operand Data Sets specified in the dsList, and contains the Data Points belonging to any of the operand Data Sets.\n",
    "\n",
    "The operand Data Sets can contain Data Points having the same values of the Identifiers. To avoid duplications of Data Points in the resulting Data Set, those Data Points are filtered by chosing the Data Point belonging to the left most operand Data Set. For instance, let's assume that in `union ( ds1, ds2 )` the operand `ds1 contains a Data Point dp1` and the operand `ds2 contains a Data Point dp2` such that `dp1 has the same Identifiers values of dp2`, then the resulting Data Set contains `dp1 only`.\n",
    "\n",
    "The operator has the typical behaviour of the “Behaviour of the Set operators” (see the section “Typical behaviours of the ML Operators”).\n",
    "\n",
    "The automatic Attribute propagation is not applied.\n",
    "\n",
    "## Example\n",
    "\n",
    "Given the operand Data Sets DS_1 and DS_2:\n",
    "\n",
    "DS_1 :\n",
    "```text\n",
    "Id_1,Id_2,Id_3,Id_4,Me_1\n",
    "2012,B,Total,Total,5\n",
    "2012,G,Total,Total,2\n",
    "2012,F,Total,Total,3\n",
    "```\n",
    "DS_2:\n",
    "```text\n",
    "Id_1,Id_2,Id_3,Id_4,Me_1\n",
    "2012,N,Total,Total,23\n",
    "2012,S,Total,Total,5\n",
    "```\n",
    "\n",
    "The result of `DS_r := union(DS_1,DS_2)`\n",
    "\n",
    "```text\n",
    "Id_1,Id_2,Id_3,Id_4,Me_1\n",
    "2012,B,Total,Total,5\n",
    "2012,G,Total,Total,2\n",
    "2012,F,Total,Total,3\n",
    "2012,N,Total,Total,23\n",
    "2012,S,Total,Total,5\n",
    "```"
   ],
   "metadata": {
    "collapsed": false
   }
  },
  {
   "cell_type": "code",
   "execution_count": 1,
   "outputs": [],
   "source": [
    "from pyspark.sql import SparkSession,DataFrame\n",
    "\n",
    "import os\n",
    "from pyspark.sql.functions import col, lit, when"
   ],
   "metadata": {
    "collapsed": false
   }
  },
  {
   "cell_type": "code",
   "execution_count": 2,
   "outputs": [
    {
     "name": "stdout",
     "output_type": "stream",
     "text": [
      "22/10/24 15:42:19 WARN Utils: Your hostname, pengfei-Virtual-Machine resolves to a loopback address: 127.0.1.1; using 10.50.2.80 instead (on interface eth0)\n",
      "22/10/24 15:42:19 WARN Utils: Set SPARK_LOCAL_IP if you need to bind to another address\n"
     ]
    },
    {
     "name": "stderr",
     "output_type": "stream",
     "text": [
      "Setting default log level to \"WARN\".\n",
      "To adjust logging level use sc.setLogLevel(newLevel). For SparkR, use setLogLevel(newLevel).\n"
     ]
    },
    {
     "name": "stdout",
     "output_type": "stream",
     "text": [
      "22/10/24 15:42:20 WARN NativeCodeLoader: Unable to load native-hadoop library for your platform... using builtin-java classes where applicable\n"
     ]
    }
   ],
   "source": [
    "local = True\n",
    "\n",
    "if local:\n",
    "    spark = SparkSession.builder \\\n",
    "        .master(\"local[4]\") \\\n",
    "        .appName(\"VTLUnion\")\\\n",
    "        .getOrCreate()\n",
    "else:\n",
    "    spark = SparkSession.builder\\\n",
    "        .master(\"k8s://https://kubernetes.default.svc:443\") \\\n",
    "        .appName(\"VTLUnion\")\\\n",
    "        .config(\"spark.kubernetes.container.image\", \"inseefrlab/jupyter-datascience:py3.9.7-spark3.2.0\")\\\n",
    "        .config(\"spark.kubernetes.authenticate.driver.serviceAccountName\", os.environ['KUBERNETES_SERVICE_ACCOUNT'])\\\n",
    "        .config(\"spark.executor.instances\", \"4\")\\\n",
    "        .config(\"spark.executor.memory\", \"4g\")\\\n",
    "        .config(\"spark.kubernetes.namespace\", os.environ['KUBERNETES_NAMESPACE'])\\\n",
    "        .getOrCreate()\n"
   ],
   "metadata": {
    "collapsed": false
   }
  },
  {
   "cell_type": "code",
   "execution_count": 16,
   "outputs": [],
   "source": [
    "root_path=\"../data\"\n",
    "ds1_path=f\"{root_path}/union_ds1.csv\"\n",
    "ds2_path=f\"{root_path}/union_ds2.csv\"\n",
    "ds3_path=f\"{root_path}/union_ds3.csv\"\n",
    "ds4_path=f\"{root_path}/union_ds4.csv\""
   ],
   "metadata": {
    "collapsed": false
   }
  },
  {
   "cell_type": "code",
   "execution_count": 6,
   "outputs": [
    {
     "name": "stderr",
     "output_type": "stream",
     "text": [
      "                                                                                \r"
     ]
    },
    {
     "name": "stdout",
     "output_type": "stream",
     "text": [
      "+----+----+-----+-----+----+\n",
      "|Id_1|Id_2| Id_3| Id_4|Me_1|\n",
      "+----+----+-----+-----+----+\n",
      "|2012|   B|Total|Total|   5|\n",
      "|2012|   G|Total|Total|   2|\n",
      "|2012|   F|Total|Total|   3|\n",
      "+----+----+-----+-----+----+\n",
      "\n"
     ]
    }
   ],
   "source": [
    "df1=spark.read.csv(ds1_path, header=True,inferSchema=True)\n",
    "df1.show()"
   ],
   "metadata": {
    "collapsed": false
   }
  },
  {
   "cell_type": "code",
   "execution_count": 7,
   "outputs": [
    {
     "name": "stdout",
     "output_type": "stream",
     "text": [
      "+----+----+-----+-----+----+\n",
      "|Id_1|Id_2| Id_3| Id_4|Me_1|\n",
      "+----+----+-----+-----+----+\n",
      "|2012|   N|Total|Total|  23|\n",
      "|2012|   S|Total|Total|   5|\n",
      "+----+----+-----+-----+----+\n",
      "\n"
     ]
    }
   ],
   "source": [
    "df2=spark.read.csv(ds2_path, header=True,inferSchema=True)\n",
    "df2.show()"
   ],
   "metadata": {
    "collapsed": false
   }
  },
  {
   "cell_type": "code",
   "execution_count": 10,
   "outputs": [
    {
     "name": "stdout",
     "output_type": "stream",
     "text": [
      "+----+----+-----+-----+----+\n",
      "|Id_1|Id_2| Id_3| Id_4|Me_1|\n",
      "+----+----+-----+-----+----+\n",
      "|2012|   B|Total|Total|  23|\n",
      "|2012|   S|Total|Total|   5|\n",
      "+----+----+-----+-----+----+\n",
      "\n"
     ]
    }
   ],
   "source": [
    "df3=spark.read.csv(ds3_path, header=True,inferSchema=True)\n",
    "df3.show()"
   ],
   "metadata": {
    "collapsed": false
   }
  },
  {
   "cell_type": "code",
   "execution_count": 17,
   "outputs": [
    {
     "name": "stdout",
     "output_type": "stream",
     "text": [
      "+----+----+-----+-----+----+\n",
      "|Id_1|Id_2| Id_3| Id_4|Me_1|\n",
      "+----+----+-----+-----+----+\n",
      "|2012|   L|Total|Total|   5|\n",
      "|2012|   M|Total|Total|   2|\n",
      "|2012|   X|Total|Total|   3|\n",
      "+----+----+-----+-----+----+\n",
      "\n"
     ]
    }
   ],
   "source": [
    "df4=spark.read.csv(ds4_path, header=True,inferSchema=True)\n",
    "df4.show()"
   ],
   "metadata": {
    "collapsed": false
   }
  },
  {
   "cell_type": "code",
   "execution_count": 11,
   "outputs": [
    {
     "name": "stdout",
     "output_type": "stream",
     "text": [
      "+----+----+-----+-----+----+\n",
      "|Id_1|Id_2| Id_3| Id_4|Me_1|\n",
      "+----+----+-----+-----+----+\n",
      "|2012|   B|Total|Total|   5|\n",
      "|2012|   G|Total|Total|   2|\n",
      "|2012|   F|Total|Total|   3|\n",
      "|2012|   N|Total|Total|  23|\n",
      "|2012|   S|Total|Total|   5|\n",
      "+----+----+-----+-----+----+\n",
      "\n"
     ]
    }
   ],
   "source": [
    "df_r1=df1.union(df2)\n",
    "df_r1.show(10)"
   ],
   "metadata": {
    "collapsed": false
   }
  },
  {
   "cell_type": "code",
   "execution_count": 13,
   "outputs": [
    {
     "name": "stdout",
     "output_type": "stream",
     "text": [
      "+----+----+-----+-----+----+\n",
      "|Id_1|Id_2| Id_3| Id_4|Me_1|\n",
      "+----+----+-----+-----+----+\n",
      "|2012|   F|Total|Total|   3|\n",
      "|2012|   G|Total|Total|   2|\n",
      "|2012|   B|Total|Total|   5|\n",
      "|2012|   S|Total|Total|   5|\n",
      "+----+----+-----+-----+----+\n",
      "\n"
     ]
    }
   ],
   "source": [
    "id_col=[\"Id_1\",\"Id_2\",\"Id_3\",\"Id_4\"]\n",
    "df_r2=df1.union(df3).dropDuplicates(id_col)\n",
    "df_r2.show(10)"
   ],
   "metadata": {
    "collapsed": false
   }
  },
  {
   "cell_type": "code",
   "execution_count": 37,
   "outputs": [],
   "source": [
    "def df_union(df_list,id_col):\n",
    "    size=len(df_list)\n",
    "    print(f\"total size: {size}\")\n",
    "    if size==1:\n",
    "        return df_list[0]\n",
    "    elif size==2:\n",
    "        return df_list[0].union(df_list[1]).dropDuplicates(id_col)\n",
    "    else:\n",
    "        df_resu=df_list[0]\n",
    "        for i in range(1,size):\n",
    "            print(f\"index: {i}\")\n",
    "            df_list[i].show()\n",
    "            df_resu=df_resu.union(df_list[i])\n",
    "        return df_resu.dropDuplicates(id_col)"
   ],
   "metadata": {
    "collapsed": false
   }
  },
  {
   "cell_type": "code",
   "execution_count": 38,
   "outputs": [],
   "source": [
    "df_list1=[df1,df2]\n",
    "df_list2=[df1,df3]\n",
    "df_list3=[df1,df3,df4]\n",
    "df_list4=[df1,df2,df3,df4]"
   ],
   "metadata": {
    "collapsed": false
   }
  },
  {
   "cell_type": "code",
   "execution_count": 39,
   "outputs": [
    {
     "name": "stdout",
     "output_type": "stream",
     "text": [
      "total size: 2\n",
      "+----+----+-----+-----+----+\n",
      "|Id_1|Id_2| Id_3| Id_4|Me_1|\n",
      "+----+----+-----+-----+----+\n",
      "|2012|   F|Total|Total|   3|\n",
      "|2012|   G|Total|Total|   2|\n",
      "|2012|   B|Total|Total|   5|\n",
      "|2012|   N|Total|Total|  23|\n",
      "|2012|   S|Total|Total|   5|\n",
      "+----+----+-----+-----+----+\n",
      "\n"
     ]
    }
   ],
   "source": [
    "df_r3=df_union(df_list1,id_col)\n",
    "df_r3.show()"
   ],
   "metadata": {
    "collapsed": false
   }
  },
  {
   "cell_type": "code",
   "execution_count": 40,
   "outputs": [
    {
     "name": "stdout",
     "output_type": "stream",
     "text": [
      "total size: 2\n",
      "+----+----+-----+-----+----+\n",
      "|Id_1|Id_2| Id_3| Id_4|Me_1|\n",
      "+----+----+-----+-----+----+\n",
      "|2012|   F|Total|Total|   3|\n",
      "|2012|   G|Total|Total|   2|\n",
      "|2012|   B|Total|Total|   5|\n",
      "|2012|   S|Total|Total|   5|\n",
      "+----+----+-----+-----+----+\n",
      "\n"
     ]
    }
   ],
   "source": [
    "df_r4=df_union(df_list2,id_col)\n",
    "df_r4.show()"
   ],
   "metadata": {
    "collapsed": false
   }
  },
  {
   "cell_type": "code",
   "execution_count": 41,
   "outputs": [
    {
     "name": "stdout",
     "output_type": "stream",
     "text": [
      "total size: 3\n",
      "index: 1\n",
      "+----+----+-----+-----+----+\n",
      "|Id_1|Id_2| Id_3| Id_4|Me_1|\n",
      "+----+----+-----+-----+----+\n",
      "|2012|   B|Total|Total|  23|\n",
      "|2012|   S|Total|Total|   5|\n",
      "+----+----+-----+-----+----+\n",
      "\n",
      "index: 2\n",
      "+----+----+-----+-----+----+\n",
      "|Id_1|Id_2| Id_3| Id_4|Me_1|\n",
      "+----+----+-----+-----+----+\n",
      "|2012|   L|Total|Total|   5|\n",
      "|2012|   M|Total|Total|   2|\n",
      "|2012|   X|Total|Total|   3|\n",
      "+----+----+-----+-----+----+\n",
      "\n",
      "+----+----+-----+-----+----+\n",
      "|Id_1|Id_2| Id_3| Id_4|Me_1|\n",
      "+----+----+-----+-----+----+\n",
      "|2012|   F|Total|Total|   3|\n",
      "|2012|   G|Total|Total|   2|\n",
      "|2012|   B|Total|Total|   5|\n",
      "|2012|   S|Total|Total|   5|\n",
      "|2012|   M|Total|Total|   2|\n",
      "|2012|   L|Total|Total|   5|\n",
      "|2012|   X|Total|Total|   3|\n",
      "+----+----+-----+-----+----+\n",
      "\n"
     ]
    }
   ],
   "source": [
    "df_r5=df_union(df_list3,id_col)\n",
    "df_r5.show()"
   ],
   "metadata": {
    "collapsed": false
   }
  },
  {
   "cell_type": "code",
   "execution_count": 42,
   "outputs": [
    {
     "name": "stdout",
     "output_type": "stream",
     "text": [
      "total size: 4\n",
      "index: 1\n",
      "+----+----+-----+-----+----+\n",
      "|Id_1|Id_2| Id_3| Id_4|Me_1|\n",
      "+----+----+-----+-----+----+\n",
      "|2012|   N|Total|Total|  23|\n",
      "|2012|   S|Total|Total|   5|\n",
      "+----+----+-----+-----+----+\n",
      "\n",
      "index: 2\n",
      "+----+----+-----+-----+----+\n",
      "|Id_1|Id_2| Id_3| Id_4|Me_1|\n",
      "+----+----+-----+-----+----+\n",
      "|2012|   B|Total|Total|  23|\n",
      "|2012|   S|Total|Total|   5|\n",
      "+----+----+-----+-----+----+\n",
      "\n",
      "index: 3\n",
      "+----+----+-----+-----+----+\n",
      "|Id_1|Id_2| Id_3| Id_4|Me_1|\n",
      "+----+----+-----+-----+----+\n",
      "|2012|   L|Total|Total|   5|\n",
      "|2012|   M|Total|Total|   2|\n",
      "|2012|   X|Total|Total|   3|\n",
      "+----+----+-----+-----+----+\n",
      "\n",
      "+----+----+-----+-----+----+\n",
      "|Id_1|Id_2| Id_3| Id_4|Me_1|\n",
      "+----+----+-----+-----+----+\n",
      "|2012|   F|Total|Total|   3|\n",
      "|2012|   G|Total|Total|   2|\n",
      "|2012|   B|Total|Total|   5|\n",
      "|2012|   N|Total|Total|  23|\n",
      "|2012|   S|Total|Total|   5|\n",
      "|2012|   M|Total|Total|   2|\n",
      "|2012|   L|Total|Total|   5|\n",
      "|2012|   X|Total|Total|   3|\n",
      "+----+----+-----+-----+----+\n",
      "\n"
     ]
    }
   ],
   "source": [
    "df_r6=df_union(df_list4,id_col)\n",
    "df_r6.show()"
   ],
   "metadata": {
    "collapsed": false
   }
  },
  {
   "cell_type": "code",
   "execution_count": null,
   "outputs": [],
   "source": [],
   "metadata": {
    "collapsed": false
   }
  }
 ],
 "metadata": {
  "kernelspec": {
   "display_name": "Python 3",
   "language": "python",
   "name": "python3"
  },
  "language_info": {
   "codemirror_mode": {
    "name": "ipython",
    "version": 2
   },
   "file_extension": ".py",
   "mimetype": "text/x-python",
   "name": "python",
   "nbconvert_exporter": "python",
   "pygments_lexer": "ipython2",
   "version": "2.7.6"
  }
 },
 "nbformat": 4,
 "nbformat_minor": 0
}
