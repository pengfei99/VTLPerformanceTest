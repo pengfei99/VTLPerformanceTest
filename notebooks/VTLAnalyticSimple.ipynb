{
 "cells": [
  {
   "cell_type": "markdown",
   "metadata": {
    "collapsed": true,
    "pycharm": {
     "name": "#%% md\n"
    }
   },
   "source": [
    "# VTL Simple analytic function\n",
    "\n"
   ]
  },
  {
   "cell_type": "code",
   "execution_count": 2,
   "outputs": [],
   "source": [
    "from pyspark.sql import SparkSession,DataFrame\n",
    "from pyspark.sql.types import StructField, StructType, StringType, DoubleType, IntegerType, LongType, DecimalType\n",
    "import os\n",
    "from pyspark.sql.functions import lit, count,sum,avg,collect_list,min,max,percentile_approx,stddev_pop,stddev_samp,var_pop,var_samp\n",
    "from pyspark.sql.window import Window"
   ],
   "metadata": {
    "collapsed": false,
    "pycharm": {
     "name": "#%%\n"
    }
   }
  },
  {
   "cell_type": "code",
   "execution_count": 3,
   "outputs": [
    {
     "name": "stderr",
     "output_type": "stream",
     "text": [
      "22/04/14 14:13:00 WARN Utils: Your hostname, ubuntu resolves to a loopback address: 127.0.1.1; using 192.168.184.146 instead (on interface ens33)\n",
      "22/04/14 14:13:00 WARN Utils: Set SPARK_LOCAL_IP if you need to bind to another address\n",
      "WARNING: An illegal reflective access operation has occurred\n",
      "WARNING: Illegal reflective access by org.apache.spark.unsafe.Platform (file:/opt/spark/spark-3.1.2/jars/spark-unsafe_2.12-3.1.2.jar) to constructor java.nio.DirectByteBuffer(long,int)\n",
      "WARNING: Please consider reporting this to the maintainers of org.apache.spark.unsafe.Platform\n",
      "WARNING: Use --illegal-access=warn to enable warnings of further illegal reflective access operations\n",
      "WARNING: All illegal access operations will be denied in a future release\n",
      "22/04/14 14:13:02 WARN NativeCodeLoader: Unable to load native-hadoop library for your platform... using builtin-java classes where applicable\n",
      "Using Spark's default log4j profile: org/apache/spark/log4j-defaults.properties\n",
      "Setting default log level to \"WARN\".\n",
      "To adjust logging level use sc.setLogLevel(newLevel). For SparkR, use setLogLevel(newLevel).\n"
     ]
    }
   ],
   "source": [
    "local = True\n",
    "\n",
    "if local:\n",
    "    spark = SparkSession.builder \\\n",
    "        .master(\"local[4]\") \\\n",
    "        .appName(\"VTLAnalytic\")\\\n",
    "        .getOrCreate()\n",
    "else:\n",
    "    spark = SparkSession.builder\\\n",
    "        .master(\"k8s://https://kubernetes.default.svc:443\") \\\n",
    "        .appName(\"VTLAnalytic\")\\\n",
    "        .config(\"spark.kubernetes.container.image\", \"inseefrlab/jupyter-datascience:py3.9.7-spark3.2.0\")\\\n",
    "        .config(\"spark.kubernetes.authenticate.driver.serviceAccountName\", os.environ['KUBERNETES_SERVICE_ACCOUNT'])\\\n",
    "        .config(\"spark.executor.instances\", \"4\")\\\n",
    "        .config(\"spark.executor.memory\", \"8g\")\\\n",
    "        .config(\"spark.kubernetes.namespace\", os.environ['KUBERNETES_NAMESPACE'])\\\n",
    "        .getOrCreate()"
   ],
   "metadata": {
    "collapsed": false,
    "pycharm": {
     "name": "#%%\n"
    }
   }
  },
  {
   "cell_type": "code",
   "execution_count": 4,
   "outputs": [
    {
     "name": "stderr",
     "output_type": "stream",
     "text": [
      "                                                                                \r"
     ]
    },
    {
     "name": "stdout",
     "output_type": "stream",
     "text": [
      "+----+----+----+----+----+\n",
      "|Id_1|Id_2|Id_3|Me_1|Me_2|\n",
      "+----+----+----+----+----+\n",
      "|   A|  XX|2000|   3|   1|\n",
      "|   A|  XX|2001|   4|   9|\n",
      "|   A|  XX|2002|   7|   5|\n",
      "|   A|  XX|2003|   6|   8|\n",
      "|   A|  YY|2000|   9|   3|\n",
      "|   A|  YY|2001|   5|   4|\n",
      "|   A|  YY|2002|  10|   2|\n",
      "|   A|  YY|2003|   5|   7|\n",
      "+----+----+----+----+----+\n",
      "\n"
     ]
    }
   ],
   "source": [
    "data=[(\"A\", \"XX\", 2000, 3, 1),\n",
    "    (\"A\", \"XX\", 2001, 4, 9),\n",
    "    (\"A\", \"XX\", 2002, 7, 5),\n",
    "    (\"A\", \"XX\", 2003, 6, 8),\n",
    "    (\"A\", \"YY\", 2000, 9, 3),\n",
    "    (\"A\", \"YY\", 2001, 5, 4),\n",
    "    (\"A\", \"YY\", 2002, 10, 2),\n",
    "    (\"A\", \"YY\", 2003, 5, 7)]\n",
    "\n",
    "schema=StructType([StructField(\"Id_1\",StringType(),True),\n",
    "                   StructField(\"Id_2\",StringType(),True),\n",
    "                   StructField(\"Id_3\",IntegerType(),True),\n",
    "                   StructField(\"Me_1\",IntegerType(),True),\n",
    "                   StructField(\"Me_2\",IntegerType(),True)])\n",
    "\n",
    "df=spark.createDataFrame(data, schema)\n",
    "df.show()"
   ],
   "metadata": {
    "collapsed": false,
    "pycharm": {
     "name": "#%%\n"
    }
   }
  },
  {
   "cell_type": "markdown",
   "source": [
    "## 1.1 Count\n",
    "\n",
    "count ( DS_1 over ( partition by Id_1 ) )"
   ],
   "metadata": {
    "collapsed": false,
    "pycharm": {
     "name": "#%% md\n"
    }
   }
  },
  {
   "cell_type": "code",
   "execution_count": 5,
   "outputs": [
    {
     "name": "stderr",
     "output_type": "stream",
     "text": [
      "                                                                                \r"
     ]
    },
    {
     "name": "stdout",
     "output_type": "stream",
     "text": [
      "+----+----+----+----+----+----------+\n",
      "|Id_1|Id_2|Id_3|Me_1|Me_2|count_Me_1|\n",
      "+----+----+----+----+----+----------+\n",
      "|   A|  XX|2000|   3|   1|         8|\n",
      "|   A|  XX|2001|   4|   9|         8|\n",
      "|   A|  XX|2002|   7|   5|         8|\n",
      "|   A|  XX|2003|   6|   8|         8|\n",
      "|   A|  YY|2000|   9|   3|         8|\n",
      "|   A|  YY|2001|   5|   4|         8|\n",
      "|   A|  YY|2002|  10|   2|         8|\n",
      "|   A|  YY|2003|   5|   7|         8|\n",
      "+----+----+----+----+----+----------+\n",
      "\n"
     ]
    }
   ],
   "source": [
    "partition_col_name=\"Id_1\"\n",
    "win_name=Window.partitionBy(partition_col_name)\n",
    "target_col_name=\"Me_1\"\n",
    "new_col_name=f\"count_{target_col_name}\"\n",
    "df_count=df.withColumn(new_col_name,count(target_col_name).over(win_name))\n",
    "df_count.show()"
   ],
   "metadata": {
    "collapsed": false,
    "pycharm": {
     "name": "#%%\n"
    }
   }
  },
  {
   "cell_type": "code",
   "execution_count": 6,
   "outputs": [
    {
     "name": "stdout",
     "output_type": "stream",
     "text": [
      "root\n",
      " |-- Id_1: string (nullable = true)\n",
      " |-- Id_2: string (nullable = true)\n",
      " |-- Id_3: integer (nullable = true)\n",
      " |-- Me_1: integer (nullable = true)\n",
      " |-- Me_2: integer (nullable = true)\n",
      "\n"
     ]
    }
   ],
   "source": [
    "df.printSchema()"
   ],
   "metadata": {
    "collapsed": false,
    "pycharm": {
     "name": "#%%\n"
    }
   }
  },
  {
   "cell_type": "markdown",
   "source": [
    "## 1.2 Sum\n",
    "We can do a count without order by\n",
    "DS_r :=count ( DS_1 over ( partition by Id_1 ) )\n"
   ],
   "metadata": {
    "collapsed": false,
    "pycharm": {
     "name": "#%% md\n"
    }
   }
  },
  {
   "cell_type": "code",
   "execution_count": 7,
   "outputs": [
    {
     "name": "stdout",
     "output_type": "stream",
     "text": [
      "+----+----+----+----+----+--------+\n",
      "|Id_1|Id_2|Id_3|Me_1|Me_2|sum_Me_1|\n",
      "+----+----+----+----+----+--------+\n",
      "|   A|  XX|2000|   3|   1|      49|\n",
      "|   A|  XX|2001|   4|   9|      49|\n",
      "|   A|  XX|2002|   7|   5|      49|\n",
      "|   A|  XX|2003|   6|   8|      49|\n",
      "|   A|  YY|2000|   9|   3|      49|\n",
      "|   A|  YY|2001|   5|   4|      49|\n",
      "|   A|  YY|2002|  10|   2|      49|\n",
      "|   A|  YY|2003|   5|   7|      49|\n",
      "+----+----+----+----+----+--------+\n",
      "\n"
     ]
    }
   ],
   "source": [
    "partition_col_name=\"Id_1\"\n",
    "win_name=Window.partitionBy(partition_col_name)\n",
    "target_col_name=\"Me_1\"\n",
    "new_col_name=f\"sum_{target_col_name}\"\n",
    "df_sum=df.withColumn(new_col_name,sum(target_col_name).over(win_name))\n",
    "df_sum.show()"
   ],
   "metadata": {
    "collapsed": false,
    "pycharm": {
     "name": "#%%\n"
    }
   }
  },
  {
   "cell_type": "markdown",
   "source": [
    "We can also do without partition\n",
    "\n",
    "DS_r := sum ( DS_1 over ( order by Id_1, Id_2, Id_3 ) )"
   ],
   "metadata": {
    "collapsed": false,
    "pycharm": {
     "name": "#%% md\n"
    }
   }
  },
  {
   "cell_type": "code",
   "execution_count": 8,
   "outputs": [
    {
     "name": "stdout",
     "output_type": "stream",
     "text": [
      "+----+----+----+----+----+--------+\n",
      "|Id_1|Id_2|Id_3|Me_1|Me_2|sum_Me_1|\n",
      "+----+----+----+----+----+--------+\n",
      "|   A|  XX|2000|   3|   1|       3|\n",
      "|   A|  XX|2001|   4|   9|       7|\n",
      "|   A|  XX|2002|   7|   5|      14|\n",
      "|   A|  XX|2003|   6|   8|      20|\n",
      "|   A|  YY|2000|   9|   3|      29|\n",
      "|   A|  YY|2001|   5|   4|      34|\n",
      "|   A|  YY|2002|  10|   2|      44|\n",
      "|   A|  YY|2003|   5|   7|      49|\n",
      "+----+----+----+----+----+--------+\n",
      "\n"
     ]
    },
    {
     "name": "stderr",
     "output_type": "stream",
     "text": [
      "22/04/14 14:14:02 WARN WindowExec: No Partition Defined for Window operation! Moving all data to a single partition, this can cause serious performance degradation.\n"
     ]
    }
   ],
   "source": [
    "partition_col_names=[\"Id_1\",\"Id_2\",\"Id_3\"]\n",
    "win_name=Window.orderBy(partition_col_names)\n",
    "target_col_name=\"Me_1\"\n",
    "new_col_name=f\"sum_{target_col_name}\"\n",
    "df_sum=df.withColumn(new_col_name,sum(target_col_name).over(win_name))\n",
    "df_sum.show()"
   ],
   "metadata": {
    "collapsed": false,
    "pycharm": {
     "name": "#%%\n"
    }
   }
  },
  {
   "cell_type": "code",
   "execution_count": 9,
   "outputs": [
    {
     "name": "stdout",
     "output_type": "stream",
     "text": [
      "+----+----+----+----+----+----------+\n",
      "|Id_1|Id_2|Id_3|Me_1|Me_2|  sum_Me_1|\n",
      "+----+----+----+----+----+----------+\n",
      "|   A|  XX|2000|   3|   1|    [3, 4]|\n",
      "|   A|  XX|2001|   4|   9| [3, 4, 7]|\n",
      "|   A|  XX|2002|   7|   5| [4, 7, 6]|\n",
      "|   A|  XX|2003|   6|   8| [7, 6, 9]|\n",
      "|   A|  YY|2000|   9|   3| [6, 9, 5]|\n",
      "|   A|  YY|2001|   5|   4|[9, 5, 10]|\n",
      "|   A|  YY|2002|  10|   2|[5, 10, 5]|\n",
      "|   A|  YY|2003|   5|   7|   [10, 5]|\n",
      "+----+----+----+----+----+----------+\n",
      "\n"
     ]
    }
   ],
   "source": [
    "partition_col_name=\"Id_1\"\n",
    "win_name=Window.partitionBy(partition_col_name).rowsBetween(-1,1)\n",
    "target_col_name=\"Me_1\"\n",
    "new_col_name=f\"sum_{target_col_name}\"\n",
    "df_collect=df.withColumn(new_col_name,collect_list(target_col_name).over(win_name))\n",
    "df_collect.show()"
   ],
   "metadata": {
    "collapsed": false,
    "pycharm": {
     "name": "#%%\n"
    }
   }
  },
  {
   "cell_type": "code",
   "execution_count": 10,
   "outputs": [
    {
     "name": "stdout",
     "output_type": "stream",
     "text": [
      "+----+----+----+----+----+-------------+\n",
      "|Id_1|Id_2|Id_3|Me_1|Me_2|     sum_Me_1|\n",
      "+----+----+----+----+----+-------------+\n",
      "|   A|  YY|2000|   9|   3|[9, 5, 10, 5]|\n",
      "|   A|  YY|2001|   5|   4|[9, 5, 10, 5]|\n",
      "|   A|  YY|2002|  10|   2|[9, 5, 10, 5]|\n",
      "|   A|  YY|2003|   5|   7|[9, 5, 10, 5]|\n",
      "|   A|  XX|2000|   3|   1| [3, 4, 7, 6]|\n",
      "|   A|  XX|2001|   4|   9| [3, 4, 7, 6]|\n",
      "|   A|  XX|2002|   7|   5| [3, 4, 7, 6]|\n",
      "|   A|  XX|2003|   6|   8| [3, 4, 7, 6]|\n",
      "+----+----+----+----+----+-------------+\n",
      "\n"
     ]
    }
   ],
   "source": [
    "partition_col_name=[\"Id_1\",\"Id_2\"]\n",
    "order_col_name=[\"Id_3\"]\n",
    "win_name=Window.partitionBy(partition_col_name).orderBy(order_col_name).rangeBetween(-3,3)\n",
    "target_col_name=\"Me_1\"\n",
    "new_col_name=f\"sum_{target_col_name}\"\n",
    "df_collect1=df.withColumn(new_col_name,collect_list(target_col_name).over(win_name))\n",
    "df_collect1.show()\n"
   ],
   "metadata": {
    "collapsed": false,
    "pycharm": {
     "name": "#%%\n"
    }
   }
  },
  {
   "cell_type": "markdown",
   "source": [
    "## 1.3 min\n",
    "\n",
    "DS_r := min ( DS_1 over ( partition by Id_1, Id_2 order by Id_3 ) )\n"
   ],
   "metadata": {
    "collapsed": false,
    "pycharm": {
     "name": "#%% md\n"
    }
   }
  },
  {
   "cell_type": "code",
   "execution_count": 11,
   "outputs": [
    {
     "name": "stdout",
     "output_type": "stream",
     "text": [
      "+----+----+----+----+----+--------+\n",
      "|Id_1|Id_2|Id_3|Me_1|Me_2|min_Me_1|\n",
      "+----+----+----+----+----+--------+\n",
      "|   A|  YY|2000|   9|   3|       9|\n",
      "|   A|  YY|2001|   5|   4|       5|\n",
      "|   A|  YY|2002|  10|   2|       5|\n",
      "|   A|  YY|2003|   5|   7|       5|\n",
      "|   A|  XX|2000|   3|   1|       3|\n",
      "|   A|  XX|2001|   4|   9|       3|\n",
      "|   A|  XX|2002|   7|   5|       3|\n",
      "|   A|  XX|2003|   6|   8|       3|\n",
      "+----+----+----+----+----+--------+\n",
      "\n"
     ]
    }
   ],
   "source": [
    "partition_col_names=[\"Id_1\",\"Id_2\"]\n",
    "order_by_col=[\"Id_3\"]\n",
    "win_name=Window.partitionBy(partition_col_name).orderBy(order_by_col)\n",
    "target_col_name=\"Me_1\"\n",
    "new_col_name=f\"min_{target_col_name}\"\n",
    "df_min=df.withColumn(new_col_name,min(target_col_name).over(win_name))\n",
    "df_min.show()"
   ],
   "metadata": {
    "collapsed": false,
    "pycharm": {
     "name": "#%%\n"
    }
   }
  },
  {
   "cell_type": "markdown",
   "source": [
    "## 1.4 max\n",
    "\n",
    "DS_r := max ( DS_1 over ( partition by Id_1, Id_2 order by Id_3 ) )"
   ],
   "metadata": {
    "collapsed": false,
    "pycharm": {
     "name": "#%% md\n"
    }
   }
  },
  {
   "cell_type": "code",
   "execution_count": 12,
   "outputs": [
    {
     "name": "stdout",
     "output_type": "stream",
     "text": [
      "+----+----+----+----+----+--------+\n",
      "|Id_1|Id_2|Id_3|Me_1|Me_2|max_Me_1|\n",
      "+----+----+----+----+----+--------+\n",
      "|   A|  YY|2000|   9|   3|       9|\n",
      "|   A|  YY|2001|   5|   4|       9|\n",
      "|   A|  YY|2002|  10|   2|      10|\n",
      "|   A|  YY|2003|   5|   7|      10|\n",
      "|   A|  XX|2000|   3|   1|       3|\n",
      "|   A|  XX|2001|   4|   9|       4|\n",
      "|   A|  XX|2002|   7|   5|       7|\n",
      "|   A|  XX|2003|   6|   8|       7|\n",
      "+----+----+----+----+----+--------+\n",
      "\n"
     ]
    }
   ],
   "source": [
    "partition_col_names=[\"Id_1\",\"Id_2\"]\n",
    "order_by_col=[\"Id_3\"]\n",
    "win_name=Window.partitionBy(partition_col_name).orderBy(order_by_col)\n",
    "target_col_name=\"Me_1\"\n",
    "new_col_name=f\"max_{target_col_name}\"\n",
    "df_min=df.withColumn(new_col_name,max(target_col_name).over(win_name))\n",
    "df_min.show()"
   ],
   "metadata": {
    "collapsed": false,
    "pycharm": {
     "name": "#%%\n"
    }
   }
  },
  {
   "cell_type": "markdown",
   "source": [
    "## 1.5 avg\n",
    "\n",
    "DS_r := avg ( DS_1 over ( partition by Id_1, Id_2 order by Id_3 ) )\n"
   ],
   "metadata": {
    "collapsed": false,
    "pycharm": {
     "name": "#%% md\n"
    }
   }
  },
  {
   "cell_type": "code",
   "execution_count": 13,
   "outputs": [
    {
     "name": "stdout",
     "output_type": "stream",
     "text": [
      "+----+----+----+----+----+-----------------+\n",
      "|Id_1|Id_2|Id_3|Me_1|Me_2|         avg_Me_1|\n",
      "+----+----+----+----+----+-----------------+\n",
      "|   A|  YY|2000|   9|   3|              9.0|\n",
      "|   A|  YY|2001|   5|   4|              7.0|\n",
      "|   A|  YY|2002|  10|   2|              8.0|\n",
      "|   A|  YY|2003|   5|   7|             7.25|\n",
      "|   A|  XX|2000|   3|   1|              3.0|\n",
      "|   A|  XX|2001|   4|   9|              3.5|\n",
      "|   A|  XX|2002|   7|   5|4.666666666666667|\n",
      "|   A|  XX|2003|   6|   8|              5.0|\n",
      "+----+----+----+----+----+-----------------+\n",
      "\n"
     ]
    }
   ],
   "source": [
    "partition_col_names=[\"Id_1\",\"Id_2\"]\n",
    "order_by_col=[\"Id_3\"]\n",
    "win_name=Window.partitionBy(partition_col_name).orderBy(order_by_col)\n",
    "target_col_name=\"Me_1\"\n",
    "new_col_name=f\"avg_{target_col_name}\"\n",
    "df_min=df.withColumn(new_col_name,avg(target_col_name).over(win_name))\n",
    "df_min.show()"
   ],
   "metadata": {
    "collapsed": false,
    "pycharm": {
     "name": "#%%\n"
    }
   }
  },
  {
   "cell_type": "markdown",
   "source": [
    "## 1.6 median\n",
    "\n",
    "\n",
    "DS_r := median ( DS_1 over ( partition by Id_1, Id_2 order by Id_3 ) )\n",
    "\n",
    "percentile_approx with partitionBy followed by orderBy will do rolling median. To have median of each partition, you must only have partitionBy in your window definition."
   ],
   "metadata": {
    "collapsed": false,
    "pycharm": {
     "name": "#%% md\n"
    }
   }
  },
  {
   "cell_type": "code",
   "execution_count": 14,
   "outputs": [
    {
     "name": "stdout",
     "output_type": "stream",
     "text": [
      "+----+----+----+----+----+--------+\n",
      "|Id_1|Id_2|Id_3|Me_1|Me_2|avg_Me_1|\n",
      "+----+----+----+----+----+--------+\n",
      "|   A|  YY|2000|   9|   3|       5|\n",
      "|   A|  YY|2001|   5|   4|       5|\n",
      "|   A|  YY|2002|  10|   2|       5|\n",
      "|   A|  YY|2003|   5|   7|       5|\n",
      "|   A|  XX|2000|   3|   1|       4|\n",
      "|   A|  XX|2001|   4|   9|       4|\n",
      "|   A|  XX|2002|   7|   5|       4|\n",
      "|   A|  XX|2003|   6|   8|       4|\n",
      "+----+----+----+----+----+--------+\n",
      "\n"
     ]
    }
   ],
   "source": [
    "partition_col_names=[\"Id_1\",\"Id_2\"]\n",
    "order_by_col=[\"Id_3\"]\n",
    "win_name=Window.partitionBy(partition_col_name)\n",
    "target_col_name=\"Me_1\"\n",
    "new_col_name=f\"avg_{target_col_name}\"\n",
    "df_min=df.withColumn(new_col_name,percentile_approx(target_col_name,0.5,10000000).over(win_name))\n",
    "df_min.show()"
   ],
   "metadata": {
    "collapsed": false,
    "pycharm": {
     "name": "#%%\n"
    }
   }
  },
  {
   "cell_type": "markdown",
   "source": [
    "## 1.7 stddev_pop\n",
    "\n",
    "The operator returns the “population standard deviation” of the input values.\n",
    "\n",
    "DS_r := stddev_pop ( DS_1 over ( partition by Id_1, Id_2 order by Id_3 ) )"
   ],
   "metadata": {
    "collapsed": false,
    "pycharm": {
     "name": "#%% md\n"
    }
   }
  },
  {
   "cell_type": "code",
   "execution_count": 15,
   "outputs": [
    {
     "name": "stdout",
     "output_type": "stream",
     "text": [
      "+----+----+----+----+----+------------------+\n",
      "|Id_1|Id_2|Id_3|Me_1|Me_2|   stddev_pop_Me_1|\n",
      "+----+----+----+----+----+------------------+\n",
      "|   A|  YY|2000|   9|   3| 2.277608394786075|\n",
      "|   A|  YY|2001|   5|   4| 2.277608394786075|\n",
      "|   A|  YY|2002|  10|   2| 2.277608394786075|\n",
      "|   A|  YY|2003|   5|   7| 2.277608394786075|\n",
      "|   A|  XX|2000|   3|   1|1.5811388300841895|\n",
      "|   A|  XX|2001|   4|   9|1.5811388300841895|\n",
      "|   A|  XX|2002|   7|   5|1.5811388300841895|\n",
      "|   A|  XX|2003|   6|   8|1.5811388300841895|\n",
      "+----+----+----+----+----+------------------+\n",
      "\n"
     ]
    }
   ],
   "source": [
    "partition_col_names=[\"Id_1\",\"Id_2\"]\n",
    "order_by_col=[\"Id_3\"]\n",
    "win_name=Window.partitionBy(partition_col_name)\n",
    "target_col_name=\"Me_1\"\n",
    "new_col_name=f\"stddev_pop_{target_col_name}\"\n",
    "df_min=df.withColumn(new_col_name,stddev_pop(target_col_name).over(win_name))\n",
    "df_min.show()"
   ],
   "metadata": {
    "collapsed": false,
    "pycharm": {
     "name": "#%%\n"
    }
   }
  },
  {
   "cell_type": "markdown",
   "source": [
    "## 1.8 stddev_samp\n",
    "\n",
    "The operator returns the “sample standard deviation” of the input values.\n",
    "\n",
    "DS_r :=  stddev_stamp ( DS_1 over ( partition by Id_1, Id_2 order by Id_3 ) )"
   ],
   "metadata": {
    "collapsed": false,
    "pycharm": {
     "name": "#%% md\n"
    }
   }
  },
  {
   "cell_type": "code",
   "execution_count": 16,
   "outputs": [
    {
     "name": "stdout",
     "output_type": "stream",
     "text": [
      "+----+----+----+----+----+------------------+\n",
      "|Id_1|Id_2|Id_3|Me_1|Me_2|  stddev_samp_Me_1|\n",
      "+----+----+----+----+----+------------------+\n",
      "|   A|  YY|2000|   9|   3|2.6299556396765835|\n",
      "|   A|  YY|2001|   5|   4|2.6299556396765835|\n",
      "|   A|  YY|2002|  10|   2|2.6299556396765835|\n",
      "|   A|  YY|2003|   5|   7|2.6299556396765835|\n",
      "|   A|  XX|2000|   3|   1|1.8257418583505536|\n",
      "|   A|  XX|2001|   4|   9|1.8257418583505536|\n",
      "|   A|  XX|2002|   7|   5|1.8257418583505536|\n",
      "|   A|  XX|2003|   6|   8|1.8257418583505536|\n",
      "+----+----+----+----+----+------------------+\n",
      "\n"
     ]
    }
   ],
   "source": [
    "partition_col_names=[\"Id_1\",\"Id_2\"]\n",
    "order_by_col=[\"Id_3\"]\n",
    "win_name=Window.partitionBy(partition_col_name)\n",
    "target_col_name=\"Me_1\"\n",
    "new_col_name=f\"stddev_samp_{target_col_name}\"\n",
    "df_min=df.withColumn(new_col_name,stddev_samp(target_col_name).over(win_name))\n",
    "df_min.show()"
   ],
   "metadata": {
    "collapsed": false,
    "pycharm": {
     "name": "#%%\n"
    }
   }
  },
  {
   "cell_type": "markdown",
   "source": [
    "## 1.9 var_pop\n",
    "\n",
    "\n",
    "DS_r :=  var_pop ( DS_1 over ( partition by Id_1, Id_2 order by Id_3 ) )\n",
    "The operator returns the “population variance” of the input values"
   ],
   "metadata": {
    "collapsed": false,
    "pycharm": {
     "name": "#%% md\n"
    }
   }
  },
  {
   "cell_type": "code",
   "execution_count": 17,
   "outputs": [
    {
     "name": "stdout",
     "output_type": "stream",
     "text": [
      "+----+----+----+----+----+------------------+\n",
      "|Id_1|Id_2|Id_3|Me_1|Me_2|      var_pop_Me_1|\n",
      "+----+----+----+----+----+------------------+\n",
      "|   A|  YY|2000|   9|   3|            5.1875|\n",
      "|   A|  YY|2001|   5|   4|            5.1875|\n",
      "|   A|  YY|2002|  10|   2|            5.1875|\n",
      "|   A|  YY|2003|   5|   7|            5.1875|\n",
      "|   A|  XX|2000|   3|   1|2.4999999999999996|\n",
      "|   A|  XX|2001|   4|   9|2.4999999999999996|\n",
      "|   A|  XX|2002|   7|   5|2.4999999999999996|\n",
      "|   A|  XX|2003|   6|   8|2.4999999999999996|\n",
      "+----+----+----+----+----+------------------+\n",
      "\n"
     ]
    }
   ],
   "source": [
    "partition_col_names=[\"Id_1\",\"Id_2\"]\n",
    "order_by_col=[\"Id_3\"]\n",
    "win_name=Window.partitionBy(partition_col_name)\n",
    "target_col_name=\"Me_1\"\n",
    "new_col_name=f\"var_pop_{target_col_name}\"\n",
    "df_min=df.withColumn(new_col_name,var_pop(target_col_name).over(win_name))\n",
    "df_min.show()"
   ],
   "metadata": {
    "collapsed": false,
    "pycharm": {
     "name": "#%%\n"
    }
   }
  },
  {
   "cell_type": "markdown",
   "source": [
    "## 1.10 var_samp\n",
    "\n",
    "\n",
    "DS_r :=  var_samp ( DS_1 over ( partition by Id_1, Id_2 order by Id_3 ) )\n",
    "\n",
    "The operator returns the “sample variance” of the input values"
   ],
   "metadata": {
    "collapsed": false,
    "pycharm": {
     "name": "#%% md\n"
    }
   }
  },
  {
   "cell_type": "code",
   "execution_count": 18,
   "outputs": [
    {
     "name": "stdout",
     "output_type": "stream",
     "text": [
      "+----+----+----+----+----+------------------+\n",
      "|Id_1|Id_2|Id_3|Me_1|Me_2|     var_samp_Me_1|\n",
      "+----+----+----+----+----+------------------+\n",
      "|   A|  YY|2000|   9|   3| 6.916666666666667|\n",
      "|   A|  YY|2001|   5|   4| 6.916666666666667|\n",
      "|   A|  YY|2002|  10|   2| 6.916666666666667|\n",
      "|   A|  YY|2003|   5|   7| 6.916666666666667|\n",
      "|   A|  XX|2000|   3|   1|3.3333333333333326|\n",
      "|   A|  XX|2001|   4|   9|3.3333333333333326|\n",
      "|   A|  XX|2002|   7|   5|3.3333333333333326|\n",
      "|   A|  XX|2003|   6|   8|3.3333333333333326|\n",
      "+----+----+----+----+----+------------------+\n",
      "\n"
     ]
    }
   ],
   "source": [
    "partition_col_names=[\"Id_1\",\"Id_2\"]\n",
    "order_by_col=[\"Id_3\"]\n",
    "win_name=Window.partitionBy(partition_col_name)\n",
    "target_col_name=\"Me_1\"\n",
    "new_col_name=f\"var_samp_{target_col_name}\"\n",
    "df_min=df.withColumn(new_col_name,var_samp(target_col_name).over(win_name))\n",
    "df_min.show()"
   ],
   "metadata": {
    "collapsed": false,
    "pycharm": {
     "name": "#%%\n"
    }
   }
  },
  {
   "cell_type": "code",
   "execution_count": null,
   "outputs": [],
   "source": [],
   "metadata": {
    "collapsed": false,
    "pycharm": {
     "name": "#%%\n"
    }
   }
  }
 ],
 "metadata": {
  "kernelspec": {
   "display_name": "Python 3",
   "language": "python",
   "name": "python3"
  },
  "language_info": {
   "codemirror_mode": {
    "name": "ipython",
    "version": 2
   },
   "file_extension": ".py",
   "mimetype": "text/x-python",
   "name": "python",
   "nbconvert_exporter": "python",
   "pygments_lexer": "ipython2",
   "version": "2.7.6"
  }
 },
 "nbformat": 4,
 "nbformat_minor": 0
}