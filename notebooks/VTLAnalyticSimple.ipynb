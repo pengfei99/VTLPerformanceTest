{
 "cells": [
  {
   "cell_type": "markdown",
   "metadata": {
    "pycharm": {
     "name": "#%% md\n"
    }
   },
   "source": [
    "# VTL Simple analytic function\n",
    "\n"
   ]
  },
  {
   "cell_type": "code",
   "execution_count": 1,
   "metadata": {
    "collapsed": false,
    "jupyter": {
     "outputs_hidden": false
    },
    "pycharm": {
     "name": "#%%\n"
    }
   },
   "outputs": [],
   "source": [
    "from pyspark.sql import SparkSession,DataFrame\n",
    "from pyspark.sql.types import StructField, StructType, StringType, DoubleType, IntegerType, LongType, DecimalType\n",
    "import os\n",
    "from pyspark.sql.functions import lit, count,sum,avg,collect_list,min,max,percentile_approx,stddev_pop,stddev_samp,var_pop,var_samp\n",
    "from pyspark.sql.window import Window"
   ]
  },
  {
   "cell_type": "code",
   "execution_count": 2,
   "metadata": {
    "collapsed": false,
    "jupyter": {
     "outputs_hidden": false
    },
    "pycharm": {
     "name": "#%%\n"
    }
   },
   "outputs": [
    {
     "name": "stderr",
     "output_type": "stream",
     "text": [
      "WARNING: An illegal reflective access operation has occurred\n",
      "WARNING: Illegal reflective access by org.apache.spark.unsafe.Platform (file:/opt/spark/jars/spark-unsafe_2.12-3.2.1.jar) to constructor java.nio.DirectByteBuffer(long,int)\n",
      "WARNING: Please consider reporting this to the maintainers of org.apache.spark.unsafe.Platform\n",
      "WARNING: Use --illegal-access=warn to enable warnings of further illegal reflective access operations\n",
      "WARNING: All illegal access operations will be denied in a future release\n",
      "Setting default log level to \"WARN\".\n",
      "To adjust logging level use sc.setLogLevel(newLevel). For SparkR, use setLogLevel(newLevel).\n",
      "2022-06-21 14:40:49,058 WARN util.NativeCodeLoader: Unable to load native-hadoop library for your platform... using builtin-java classes where applicable\n"
     ]
    }
   ],
   "source": [
    "local = True\n",
    "\n",
    "if local:\n",
    "    spark = SparkSession.builder \\\n",
    "        .master(\"local[4]\") \\\n",
    "        .appName(\"VTLAnalytic\")\\\n",
    "        .getOrCreate()\n",
    "else:\n",
    "    spark = SparkSession.builder\\\n",
    "        .master(\"k8s://https://kubernetes.default.svc:443\") \\\n",
    "        .appName(\"VTLAnalytic\")\\\n",
    "        .config(\"spark.kubernetes.container.image\", \"inseefrlab/jupyter-datascience:py3.9.7-spark3.2.0\")\\\n",
    "        .config(\"spark.kubernetes.authenticate.driver.serviceAccountName\", os.environ['KUBERNETES_SERVICE_ACCOUNT'])\\\n",
    "        .config(\"spark.executor.instances\", \"4\")\\\n",
    "        .config(\"spark.executor.memory\", \"8g\")\\\n",
    "        .config(\"spark.kubernetes.namespace\", os.environ['KUBERNETES_NAMESPACE'])\\\n",
    "        .getOrCreate()"
   ]
  },
  {
   "cell_type": "code",
   "execution_count": 8,
   "metadata": {
    "collapsed": false,
    "jupyter": {
     "outputs_hidden": false
    },
    "pycharm": {
     "name": "#%%\n"
    }
   },
   "outputs": [
    {
     "name": "stdout",
     "output_type": "stream",
     "text": [
      "+----+----+----+----+----+\n",
      "|Id_1|Id_2|Year|Me_1|Me_2|\n",
      "+----+----+----+----+----+\n",
      "|   A|  XX|2000|   3| 1.0|\n",
      "|   A|  XX|2001|   4| 9.0|\n",
      "|   A|  XX|2002|   7| 5.0|\n",
      "|   A|  XX|2003|   6| 8.0|\n",
      "|   A|  YY|2000|   9| 3.0|\n",
      "|   A|  YY|2001|   5| 4.0|\n",
      "|   A|  YY|2002|  10| 2.0|\n",
      "|   A|  YY|2003|   5| 7.0|\n",
      "+----+----+----+----+----+\n",
      "\n"
     ]
    }
   ],
   "source": [
    "data=[(\"A\", \"XX\", 2000, 3, 1.0),\n",
    "    (\"A\", \"XX\", 2001, 4, 9.0),\n",
    "    (\"A\", \"XX\", 2002, 7, 5.0),\n",
    "    (\"A\", \"XX\", 2003, 6, 8.0),\n",
    "    (\"A\", \"YY\", 2000, 9, 3.0),\n",
    "    (\"A\", \"YY\", 2001, 5, 4.0),\n",
    "    (\"A\", \"YY\", 2002, 10, 2.0),\n",
    "    (\"A\", \"YY\", 2003, 5, 7.0)]\n",
    "\n",
    "schema=StructType([StructField(\"Id_1\",StringType(),True),\n",
    "                   StructField(\"Id_2\",StringType(),True),\n",
    "                   StructField(\"Year\",IntegerType(),True),\n",
    "                   StructField(\"Me_1\",IntegerType(),True),\n",
    "                   StructField(\"Me_2\",DoubleType(),True)])\n",
    "\n",
    "df=spark.createDataFrame(data, schema)\n",
    "df.show()"
   ]
  },
  {
   "cell_type": "markdown",
   "metadata": {
    "pycharm": {
     "name": "#%% md\n"
    }
   },
   "source": [
    "## 1.1 Count\n",
    "\n",
    "### 1.1.1 Exp1 : window only has partition clause\n",
    "The vtl query:\n",
    "\n",
    "```text\n",
    "res := count ( ds1 over ( partition by Id_1 ) )\n",
    "```\n"
   ]
  },
  {
   "cell_type": "code",
   "execution_count": 9,
   "metadata": {
    "collapsed": false,
    "jupyter": {
     "outputs_hidden": false
    },
    "pycharm": {
     "name": "#%%\n"
    }
   },
   "outputs": [
    {
     "name": "stdout",
     "output_type": "stream",
     "text": [
      "+----+----+----+----+----+----------+----------+\n",
      "|Id_1|Id_2|Year|Me_1|Me_2|count_Me_1|count_Me_2|\n",
      "+----+----+----+----+----+----------+----------+\n",
      "|   A|  XX|2000|   3| 1.0|         8|         8|\n",
      "|   A|  XX|2001|   4| 9.0|         8|         8|\n",
      "|   A|  XX|2002|   7| 5.0|         8|         8|\n",
      "|   A|  XX|2003|   6| 8.0|         8|         8|\n",
      "|   A|  YY|2000|   9| 3.0|         8|         8|\n",
      "|   A|  YY|2001|   5| 4.0|         8|         8|\n",
      "|   A|  YY|2002|  10| 2.0|         8|         8|\n",
      "|   A|  YY|2003|   5| 7.0|         8|         8|\n",
      "+----+----+----+----+----+----------+----------+\n",
      "\n"
     ]
    }
   ],
   "source": [
    "partition_col_name=\"Id_1\"\n",
    "\n",
    " \n",
    "win_name=Window.partitionBy(partition_col_name)\n",
    "target_col_name1=\"Me_1\"\n",
    "target_col_name2=\"Me_2\"\n",
    "new_col_name1=f\"count_{target_col_name1}\"\n",
    "new_col_name2=f\"count_{target_col_name2}\"\n",
    "df_count=df.withColumn(new_col_name1,count(target_col_name1).over(win_name))\\\n",
    "           .withColumn(new_col_name2,count(target_col_name2).over(win_name))\n",
    "df_count.show()"
   ]
  },
  {
   "cell_type": "markdown",
   "metadata": {},
   "source": [
    "### 1.1.2 Exp 2: window has partition and order by\n",
    "\n",
    "The vtl query:\n",
    "\n",
    "```text\n",
    "res := count ( ds1 over ( partition by Id_1 order by Id_2) )\n",
    "```\n"
   ]
  },
  {
   "cell_type": "code",
   "execution_count": 12,
   "metadata": {},
   "outputs": [
    {
     "name": "stdout",
     "output_type": "stream",
     "text": [
      "+----+----+----+----+----+----------+----------+\n",
      "|Id_1|Id_2|Year|Me_1|Me_2|count_Me_1|count_Me_2|\n",
      "+----+----+----+----+----+----------+----------+\n",
      "|   A|  XX|2000|   3| 1.0|         4|         4|\n",
      "|   A|  XX|2001|   4| 9.0|         4|         4|\n",
      "|   A|  XX|2002|   7| 5.0|         4|         4|\n",
      "|   A|  XX|2003|   6| 8.0|         4|         4|\n",
      "|   A|  YY|2000|   9| 3.0|         8|         8|\n",
      "|   A|  YY|2001|   5| 4.0|         8|         8|\n",
      "|   A|  YY|2002|  10| 2.0|         8|         8|\n",
      "|   A|  YY|2003|   5| 7.0|         8|         8|\n",
      "+----+----+----+----+----+----------+----------+\n",
      "\n"
     ]
    }
   ],
   "source": [
    "\n",
    "win_name_with_order=Window.partitionBy(partition_col_name).orderBy(\"Id_2\")\n",
    "\n",
    "df_count_with_order=df.withColumn(new_col_name1,count(target_col_name1).over(win_name_with_order))\\\n",
    "           .withColumn(new_col_name2,count(target_col_name2).over(win_name_with_order))\n",
    "\n",
    "df_count_with_order.show(20)"
   ]
  },
  {
   "cell_type": "markdown",
   "metadata": {},
   "source": [
    "### 1.1.3 Exp 3: window has partition, order by and data point\n",
    "\n",
    "The vtl query:\n",
    "\n",
    "```text\n",
    "res := count ( ds1 over ( partition by Id_1 order by Id_2 data points between -2 and 2) )\n",
    "```"
   ]
  },
  {
   "cell_type": "code",
   "execution_count": 14,
   "metadata": {},
   "outputs": [
    {
     "name": "stdout",
     "output_type": "stream",
     "text": [
      "+----+----+----+----+----+----------+----------+\n",
      "|Id_1|Id_2|Year|Me_1|Me_2|count_Me_1|count_Me_2|\n",
      "+----+----+----+----+----+----------+----------+\n",
      "|   A|  XX|2000|   3| 1.0|         3|         3|\n",
      "|   A|  XX|2001|   4| 9.0|         4|         4|\n",
      "|   A|  XX|2002|   7| 5.0|         5|         5|\n",
      "|   A|  XX|2003|   6| 8.0|         5|         5|\n",
      "|   A|  YY|2000|   9| 3.0|         5|         5|\n",
      "|   A|  YY|2001|   5| 4.0|         5|         5|\n",
      "|   A|  YY|2002|  10| 2.0|         4|         4|\n",
      "|   A|  YY|2003|   5| 7.0|         3|         3|\n",
      "+----+----+----+----+----+----------+----------+\n",
      "\n"
     ]
    }
   ],
   "source": [
    "win_name_with_order_dp=Window.partitionBy(partition_col_name).orderBy(\"Id_2\").rowsBetween(-2,2)\n",
    "\n",
    "df_count_with_order_dp=df.withColumn(new_col_name1,count(target_col_name1).over(win_name_with_order_dp))\\\n",
    "           .withColumn(new_col_name2,count(target_col_name2).over(win_name_with_order_dp))\n",
    "\n",
    "df_count_with_order_dp.show(20)"
   ]
  },
  {
   "cell_type": "code",
   "execution_count": null,
   "metadata": {},
   "outputs": [],
   "source": [
    "### 1.1.4 Exp 4: window has partition, order by and range \n",
    "\n",
    "The vtl query:\n",
    "\n",
    "```text\n",
    "res := count ( ds1 over ( partition by Id_1 order by Year range between -1 and 1) )\n",
    "```"
   ]
  },
  {
   "cell_type": "code",
   "execution_count": 17,
   "metadata": {},
   "outputs": [
    {
     "name": "stdout",
     "output_type": "stream",
     "text": [
      "+----+----+----+----+----+----------+----------+\n",
      "|Id_1|Id_2|Year|Me_1|Me_2|count_Me_1|count_Me_2|\n",
      "+----+----+----+----+----+----------+----------+\n",
      "|   A|  XX|2000|   3| 1.0|         4|         4|\n",
      "|   A|  YY|2000|   9| 3.0|         4|         4|\n",
      "|   A|  XX|2001|   4| 9.0|         6|         6|\n",
      "|   A|  YY|2001|   5| 4.0|         6|         6|\n",
      "|   A|  XX|2002|   7| 5.0|         6|         6|\n",
      "|   A|  YY|2002|  10| 2.0|         6|         6|\n",
      "|   A|  XX|2003|   6| 8.0|         4|         4|\n",
      "|   A|  YY|2003|   5| 7.0|         4|         4|\n",
      "+----+----+----+----+----+----------+----------+\n",
      "\n"
     ]
    }
   ],
   "source": [
    "win_name_with_order_range=Window.partitionBy(partition_col_name).orderBy(\"Year\").rangeBetween(-1,1)\n",
    "\n",
    "df_count_with_order_range=df.withColumn(new_col_name1,count(target_col_name1).over(win_name_with_order_range))\\\n",
    "           .withColumn(new_col_name2,count(target_col_name2).over(win_name_with_order_range))\n",
    "\n",
    "df_count_with_order_range.show(20)"
   ]
  },
  {
   "cell_type": "code",
   "execution_count": 6,
   "metadata": {
    "collapsed": false,
    "jupyter": {
     "outputs_hidden": false
    },
    "pycharm": {
     "name": "#%%\n"
    }
   },
   "outputs": [
    {
     "name": "stdout",
     "output_type": "stream",
     "text": [
      "root\n",
      " |-- Id_1: string (nullable = true)\n",
      " |-- Id_2: string (nullable = true)\n",
      " |-- Id_3: integer (nullable = true)\n",
      " |-- Me_1: integer (nullable = true)\n",
      " |-- Me_2: integer (nullable = true)\n",
      "\n"
     ]
    }
   ],
   "source": [
    "df.printSchema()"
   ]
  },
  {
   "cell_type": "markdown",
   "metadata": {
    "pycharm": {
     "name": "#%% md\n"
    }
   },
   "source": [
    "## 1.2 Sum\n",
    "\n",
    "### 1.2.1 Exp1 : window only has partition clause\n",
    "The vtl query:\n",
    "\n",
    "```text\n",
    "res := sum ( ds1 over ( partition by Id_1 ) )\n",
    "```\n"
   ]
  },
  {
   "cell_type": "code",
   "execution_count": 19,
   "metadata": {
    "collapsed": false,
    "jupyter": {
     "outputs_hidden": false
    },
    "pycharm": {
     "name": "#%%\n"
    }
   },
   "outputs": [
    {
     "name": "stdout",
     "output_type": "stream",
     "text": [
      "+----+----+----+----+----+--------+--------+\n",
      "|Id_1|Id_2|Year|Me_1|Me_2|sum_Me_1|sum_Me_2|\n",
      "+----+----+----+----+----+--------+--------+\n",
      "|   A|  XX|2000|   3| 1.0|      49|    39.0|\n",
      "|   A|  XX|2001|   4| 9.0|      49|    39.0|\n",
      "|   A|  XX|2002|   7| 5.0|      49|    39.0|\n",
      "|   A|  XX|2003|   6| 8.0|      49|    39.0|\n",
      "|   A|  YY|2000|   9| 3.0|      49|    39.0|\n",
      "|   A|  YY|2001|   5| 4.0|      49|    39.0|\n",
      "|   A|  YY|2002|  10| 2.0|      49|    39.0|\n",
      "|   A|  YY|2003|   5| 7.0|      49|    39.0|\n",
      "+----+----+----+----+----+--------+--------+\n",
      "\n"
     ]
    }
   ],
   "source": [
    "partition_col_name=\"Id_1\"\n",
    "win_name=Window.partitionBy(partition_col_name)\n",
    "\n",
    "target_col_name1=\"Me_1\"\n",
    "target_col_name2=\"Me_2\"\n",
    "new_col_name1=f\"sum_{target_col_name1}\"\n",
    "new_col_name2=f\"sum_{target_col_name2}\"\n",
    "\n",
    "df_sum=df.withColumn(new_col_name1,sum(target_col_name1).over(win_name)) \\\n",
    "         .withColumn(new_col_name2,sum(target_col_name2).over(win_name))\n",
    "df_sum.show()\n"
   ]
  },
  {
   "cell_type": "markdown",
   "metadata": {},
   "source": [
    "### 1.2.2 Exp 2: window has partition and order by\n",
    "\n",
    "The vtl query:\n",
    "\n",
    "```text\n",
    "res := sum ( ds1 over ( partition by Id_1 order by Id_2) )\n",
    "```"
   ]
  },
  {
   "cell_type": "code",
   "execution_count": 20,
   "metadata": {},
   "outputs": [
    {
     "name": "stdout",
     "output_type": "stream",
     "text": [
      "+----+----+----+----+----+--------+--------+\n",
      "|Id_1|Id_2|Year|Me_1|Me_2|sum_Me_1|sum_Me_2|\n",
      "+----+----+----+----+----+--------+--------+\n",
      "|   A|  XX|2000|   3| 1.0|      20|    23.0|\n",
      "|   A|  XX|2001|   4| 9.0|      20|    23.0|\n",
      "|   A|  XX|2002|   7| 5.0|      20|    23.0|\n",
      "|   A|  XX|2003|   6| 8.0|      20|    23.0|\n",
      "|   A|  YY|2000|   9| 3.0|      49|    39.0|\n",
      "|   A|  YY|2001|   5| 4.0|      49|    39.0|\n",
      "|   A|  YY|2002|  10| 2.0|      49|    39.0|\n",
      "|   A|  YY|2003|   5| 7.0|      49|    39.0|\n",
      "+----+----+----+----+----+--------+--------+\n",
      "\n"
     ]
    }
   ],
   "source": [
    "partition_col_name=\"Id_1\"\n",
    "win_name=Window.partitionBy(partition_col_name).orderBy(\"Id_2\")\n",
    "\n",
    "target_col_name1=\"Me_1\"\n",
    "target_col_name2=\"Me_2\"\n",
    "new_col_name1=f\"sum_{target_col_name1}\"\n",
    "new_col_name2=f\"sum_{target_col_name2}\"\n",
    "\n",
    "df_sum=df.withColumn(new_col_name1,sum(target_col_name1).over(win_name)) \\\n",
    "         .withColumn(new_col_name2,sum(target_col_name2).over(win_name))\n",
    "df_sum.show()\n"
   ]
  },
  {
   "cell_type": "markdown",
   "metadata": {
    "pycharm": {
     "name": "#%% md\n"
    }
   },
   "source": [
    "### 1.2.3 Window with orderby without partition, \n",
    "\n",
    "The vtl query:\n",
    "\n",
    "```text\n",
    "DS_r := sum ( ds1 over ( order by Id_1, Id_2, Year ) )\n",
    "``` \n",
    "\n",
    "As there is no partition, so the whole data frame is considered as one partition. So the sum become the rolling sum of the whole data set.\n",
    "This is not recommended, because in spark, one partition means only one worker will do the job, the rest of the worker in the cluster will be idle. It's no longer distributed calculation."
   ]
  },
  {
   "cell_type": "code",
   "execution_count": 23,
   "metadata": {
    "collapsed": false,
    "jupyter": {
     "outputs_hidden": false
    },
    "pycharm": {
     "name": "#%%\n"
    }
   },
   "outputs": [
    {
     "name": "stdout",
     "output_type": "stream",
     "text": [
      "+----+----+----+----+----+--------+--------+\n",
      "|Id_1|Id_2|Year|Me_1|Me_2|sum_Me_1|sum_Me_2|\n",
      "+----+----+----+----+----+--------+--------+\n",
      "|   A|  XX|2000|   3| 1.0|       3|     1.0|\n",
      "|   A|  XX|2001|   4| 9.0|       7|    10.0|\n",
      "|   A|  XX|2002|   7| 5.0|      14|    15.0|\n",
      "|   A|  XX|2003|   6| 8.0|      20|    23.0|\n",
      "|   A|  YY|2000|   9| 3.0|      29|    26.0|\n",
      "|   A|  YY|2001|   5| 4.0|      34|    30.0|\n",
      "|   A|  YY|2002|  10| 2.0|      44|    32.0|\n",
      "|   A|  YY|2003|   5| 7.0|      49|    39.0|\n",
      "+----+----+----+----+----+--------+--------+\n",
      "\n"
     ]
    },
    {
     "name": "stderr",
     "output_type": "stream",
     "text": [
      "2022-06-29 12:48:17,965 WARN window.WindowExec: No Partition Defined for Window operation! Moving all data to a single partition, this can cause serious performance degradation.\n",
      "2022-06-29 12:48:17,965 WARN window.WindowExec: No Partition Defined for Window operation! Moving all data to a single partition, this can cause serious performance degradation.\n",
      "2022-06-29 12:48:18,069 WARN window.WindowExec: No Partition Defined for Window operation! Moving all data to a single partition, this can cause serious performance degradation.\n"
     ]
    }
   ],
   "source": [
    "partition_col_names=[\"Id_1\",\"Id_2\",\"Year\"]\n",
    "win_name=Window.orderBy(partition_col_names)\n",
    "\n",
    "target_col_name1=\"Me_1\"\n",
    "target_col_name2=\"Me_2\"\n",
    "new_col_name1=f\"sum_{target_col_name1}\"\n",
    "new_col_name2=f\"sum_{target_col_name2}\"\n",
    "\n",
    "df_sum=df.withColumn(new_col_name1,sum(target_col_name1).over(win_name)) \\\n",
    "         .withColumn(new_col_name2,sum(target_col_name2).over(win_name))\n",
    "df_sum.show()"
   ]
  },
  {
   "cell_type": "markdown",
   "metadata": {},
   "source": [
    "### 1.2.4 Exp : window has partition, order by and data point\n",
    "\n",
    "The vtl query:\n",
    "\n",
    "```text\n",
    "res := sum ( ds1 over ( partition by Id_1 order by Id_2 data points between -2 and 2) )\n",
    "```"
   ]
  },
  {
   "cell_type": "code",
   "execution_count": 27,
   "metadata": {
    "collapsed": false,
    "jupyter": {
     "outputs_hidden": false
    },
    "pycharm": {
     "name": "#%%\n"
    }
   },
   "outputs": [
    {
     "name": "stdout",
     "output_type": "stream",
     "text": [
      "+----+----+----+----+----+--------+--------+\n",
      "|Id_1|Id_2|Year|Me_1|Me_2|sum_Me_1|sum_Me_2|\n",
      "+----+----+----+----+----+--------+--------+\n",
      "|   A|  XX|2000|   3| 1.0|      14|    15.0|\n",
      "|   A|  XX|2001|   4| 9.0|      20|    23.0|\n",
      "|   A|  XX|2002|   7| 5.0|      29|    26.0|\n",
      "|   A|  XX|2003|   6| 8.0|      31|    29.0|\n",
      "|   A|  YY|2000|   9| 3.0|      37|    22.0|\n",
      "|   A|  YY|2001|   5| 4.0|      35|    24.0|\n",
      "|   A|  YY|2002|  10| 2.0|      29|    16.0|\n",
      "|   A|  YY|2003|   5| 7.0|      20|    13.0|\n",
      "+----+----+----+----+----+--------+--------+\n",
      "\n"
     ]
    }
   ],
   "source": [
    "partition_col_name=[\"Id_1\"]\n",
    "order_col_name=[\"Id_2\"]\n",
    "win_name=Window.partitionBy(partition_col_name).orderBy(order_col_name).rowsBetween(-2,2)\n",
    "target_col_name1=\"Me_1\"\n",
    "target_col_name2=\"Me_2\"\n",
    "new_col_name1=f\"sum_{target_col_name1}\"\n",
    "new_col_name2=f\"sum_{target_col_name2}\"\n",
    "\n",
    "df_sum=df.withColumn(new_col_name1,sum(target_col_name1).over(win_name)) \\\n",
    "         .withColumn(new_col_name2,sum(target_col_name2).over(win_name))\n",
    "df_sum.show()\n"
   ]
  },
  {
   "cell_type": "markdown",
   "metadata": {},
   "source": [
    "### 1.2.5 Exp : window has partition, order by and range \n",
    "\n",
    "The vtl query:\n",
    "\n",
    "```text\n",
    "res := sum ( ds1 over ( partition by Id_1 order by Year range between -1 and 1) )\n",
    "```"
   ]
  },
  {
   "cell_type": "code",
   "execution_count": 30,
   "metadata": {},
   "outputs": [
    {
     "name": "stdout",
     "output_type": "stream",
     "text": [
      "+----+----+----+----+----+--------+--------+\n",
      "|Id_1|Id_2|Year|Me_1|Me_2|sum_Me_1|sum_Me_2|\n",
      "+----+----+----+----+----+--------+--------+\n",
      "|   A|  XX|2000|   3| 1.0|      21|    17.0|\n",
      "|   A|  YY|2000|   9| 3.0|      21|    17.0|\n",
      "|   A|  XX|2001|   4| 9.0|      38|    24.0|\n",
      "|   A|  YY|2001|   5| 4.0|      38|    24.0|\n",
      "|   A|  XX|2002|   7| 5.0|      37|    35.0|\n",
      "|   A|  YY|2002|  10| 2.0|      37|    35.0|\n",
      "|   A|  XX|2003|   6| 8.0|      28|    22.0|\n",
      "|   A|  YY|2003|   5| 7.0|      28|    22.0|\n",
      "+----+----+----+----+----+--------+--------+\n",
      "\n"
     ]
    }
   ],
   "source": [
    "partition_col_name=[\"Id_1\"]\n",
    "order_col_name=[\"Year\"]\n",
    "win_name=Window.partitionBy(partition_col_name).orderBy(order_col_name).rangeBetween(-1,1)\n",
    "target_col_name1=\"Me_1\"\n",
    "target_col_name2=\"Me_2\"\n",
    "new_col_name1=f\"sum_{target_col_name1}\"\n",
    "new_col_name2=f\"sum_{target_col_name2}\"\n",
    "\n",
    "df_sum=df.withColumn(new_col_name1,sum(target_col_name1).over(win_name))\\\n",
    "        .withColumn(new_col_name2,sum(target_col_name2).over(win_name))\n",
    "                     \n",
    "df_sum.show()"
   ]
  },
  {
   "cell_type": "markdown",
   "metadata": {
    "pycharm": {
     "name": "#%% md\n"
    }
   },
   "source": [
    "## 1.3 min\n",
    "\n",
    "DS_r := min ( DS_1 over ( partition by Id_1, Id_2 order by Id_3 ) )\n"
   ]
  },
  {
   "cell_type": "code",
   "execution_count": 11,
   "metadata": {
    "collapsed": false,
    "jupyter": {
     "outputs_hidden": false
    },
    "pycharm": {
     "name": "#%%\n"
    }
   },
   "outputs": [
    {
     "name": "stdout",
     "output_type": "stream",
     "text": [
      "+----+----+----+----+----+--------+\n",
      "|Id_1|Id_2|Id_3|Me_1|Me_2|min_Me_1|\n",
      "+----+----+----+----+----+--------+\n",
      "|   A|  YY|2000|   9|   3|       9|\n",
      "|   A|  YY|2001|   5|   4|       5|\n",
      "|   A|  YY|2002|  10|   2|       5|\n",
      "|   A|  YY|2003|   5|   7|       5|\n",
      "|   A|  XX|2000|   3|   1|       3|\n",
      "|   A|  XX|2001|   4|   9|       3|\n",
      "|   A|  XX|2002|   7|   5|       3|\n",
      "|   A|  XX|2003|   6|   8|       3|\n",
      "+----+----+----+----+----+--------+\n",
      "\n"
     ]
    }
   ],
   "source": [
    "partition_col_names=[\"Id_1\",\"Id_2\"]\n",
    "order_by_col=[\"Id_3\"]\n",
    "win_name=Window.partitionBy(partition_col_name).orderBy(order_by_col)\n",
    "target_col_name=\"Me_1\"\n",
    "new_col_name=f\"min_{target_col_name}\"\n",
    "df_min=df.withColumn(new_col_name,min(target_col_name).over(win_name))\n",
    "df_min.show()"
   ]
  },
  {
   "cell_type": "markdown",
   "metadata": {
    "pycharm": {
     "name": "#%% md\n"
    }
   },
   "source": [
    "## 1.4 max\n",
    "\n",
    "DS_r := max ( DS_1 over ( partition by Id_1, Id_2 order by Id_3 ) )"
   ]
  },
  {
   "cell_type": "code",
   "execution_count": 12,
   "metadata": {
    "collapsed": false,
    "jupyter": {
     "outputs_hidden": false
    },
    "pycharm": {
     "name": "#%%\n"
    }
   },
   "outputs": [
    {
     "name": "stdout",
     "output_type": "stream",
     "text": [
      "+----+----+----+----+----+--------+\n",
      "|Id_1|Id_2|Id_3|Me_1|Me_2|max_Me_1|\n",
      "+----+----+----+----+----+--------+\n",
      "|   A|  YY|2000|   9|   3|       9|\n",
      "|   A|  YY|2001|   5|   4|       9|\n",
      "|   A|  YY|2002|  10|   2|      10|\n",
      "|   A|  YY|2003|   5|   7|      10|\n",
      "|   A|  XX|2000|   3|   1|       3|\n",
      "|   A|  XX|2001|   4|   9|       4|\n",
      "|   A|  XX|2002|   7|   5|       7|\n",
      "|   A|  XX|2003|   6|   8|       7|\n",
      "+----+----+----+----+----+--------+\n",
      "\n"
     ]
    }
   ],
   "source": [
    "partition_col_names=[\"Id_1\",\"Id_2\"]\n",
    "order_by_col=[\"Id_3\"]\n",
    "win_name=Window.partitionBy(partition_col_name).orderBy(order_by_col)\n",
    "target_col_name=\"Me_1\"\n",
    "new_col_name=f\"max_{target_col_name}\"\n",
    "df_min=df.withColumn(new_col_name,max(target_col_name).over(win_name))\n",
    "df_min.show()"
   ]
  },
  {
   "cell_type": "markdown",
   "metadata": {
    "pycharm": {
     "name": "#%% md\n"
    }
   },
   "source": [
    "## 1.5 avg\n",
    "\n",
    "DS_r := avg ( DS_1 over ( partition by Id_1, Id_2 order by Id_3 ) )\n"
   ]
  },
  {
   "cell_type": "code",
   "execution_count": 13,
   "metadata": {
    "collapsed": false,
    "jupyter": {
     "outputs_hidden": false
    },
    "pycharm": {
     "name": "#%%\n"
    }
   },
   "outputs": [
    {
     "name": "stdout",
     "output_type": "stream",
     "text": [
      "+----+----+----+----+----+-----------------+\n",
      "|Id_1|Id_2|Id_3|Me_1|Me_2|         avg_Me_1|\n",
      "+----+----+----+----+----+-----------------+\n",
      "|   A|  YY|2000|   9|   3|              9.0|\n",
      "|   A|  YY|2001|   5|   4|              7.0|\n",
      "|   A|  YY|2002|  10|   2|              8.0|\n",
      "|   A|  YY|2003|   5|   7|             7.25|\n",
      "|   A|  XX|2000|   3|   1|              3.0|\n",
      "|   A|  XX|2001|   4|   9|              3.5|\n",
      "|   A|  XX|2002|   7|   5|4.666666666666667|\n",
      "|   A|  XX|2003|   6|   8|              5.0|\n",
      "+----+----+----+----+----+-----------------+\n",
      "\n"
     ]
    }
   ],
   "source": [
    "partition_col_names=[\"Id_1\",\"Id_2\"]\n",
    "order_by_col=[\"Id_3\"]\n",
    "win_name=Window.partitionBy(partition_col_name).orderBy(order_by_col)\n",
    "target_col_name=\"Me_1\"\n",
    "new_col_name=f\"avg_{target_col_name}\"\n",
    "df_min=df.withColumn(new_col_name,avg(target_col_name).over(win_name))\n",
    "df_min.show()"
   ]
  },
  {
   "cell_type": "markdown",
   "metadata": {
    "pycharm": {
     "name": "#%% md\n"
    }
   },
   "source": [
    "## 1.6 median\n",
    "\n",
    "\n",
    "DS_r := median ( DS_1 over ( partition by Id_1, Id_2 order by Id_3 ) )\n",
    "\n",
    "percentile_approx with partitionBy followed by orderBy will do rolling median. To have median of each partition, you must only have partitionBy in your window definition."
   ]
  },
  {
   "cell_type": "code",
   "execution_count": 14,
   "metadata": {
    "collapsed": false,
    "jupyter": {
     "outputs_hidden": false
    },
    "pycharm": {
     "name": "#%%\n"
    }
   },
   "outputs": [
    {
     "name": "stdout",
     "output_type": "stream",
     "text": [
      "+----+----+----+----+----+--------+\n",
      "|Id_1|Id_2|Id_3|Me_1|Me_2|avg_Me_1|\n",
      "+----+----+----+----+----+--------+\n",
      "|   A|  YY|2000|   9|   3|       5|\n",
      "|   A|  YY|2001|   5|   4|       5|\n",
      "|   A|  YY|2002|  10|   2|       5|\n",
      "|   A|  YY|2003|   5|   7|       5|\n",
      "|   A|  XX|2000|   3|   1|       4|\n",
      "|   A|  XX|2001|   4|   9|       4|\n",
      "|   A|  XX|2002|   7|   5|       4|\n",
      "|   A|  XX|2003|   6|   8|       4|\n",
      "+----+----+----+----+----+--------+\n",
      "\n"
     ]
    }
   ],
   "source": [
    "partition_col_names=[\"Id_1\",\"Id_2\"]\n",
    "order_by_col=[\"Id_3\"]\n",
    "win_name=Window.partitionBy(partition_col_name)\n",
    "target_col_name=\"Me_1\"\n",
    "new_col_name=f\"avg_{target_col_name}\"\n",
    "df_min=df.withColumn(new_col_name,percentile_approx(target_col_name,0.5,10000000).over(win_name))\n",
    "df_min.show()"
   ]
  },
  {
   "cell_type": "markdown",
   "metadata": {
    "pycharm": {
     "name": "#%% md\n"
    }
   },
   "source": [
    "## 1.7 stddev_pop\n",
    "\n",
    "The operator returns the “population standard deviation” of the input values.\n",
    "\n",
    "DS_r := stddev_pop ( DS_1 over ( partition by Id_1, Id_2 order by Id_3 ) )"
   ]
  },
  {
   "cell_type": "code",
   "execution_count": 15,
   "metadata": {
    "collapsed": false,
    "jupyter": {
     "outputs_hidden": false
    },
    "pycharm": {
     "name": "#%%\n"
    }
   },
   "outputs": [
    {
     "name": "stdout",
     "output_type": "stream",
     "text": [
      "+----+----+----+----+----+------------------+\n",
      "|Id_1|Id_2|Id_3|Me_1|Me_2|   stddev_pop_Me_1|\n",
      "+----+----+----+----+----+------------------+\n",
      "|   A|  YY|2000|   9|   3| 2.277608394786075|\n",
      "|   A|  YY|2001|   5|   4| 2.277608394786075|\n",
      "|   A|  YY|2002|  10|   2| 2.277608394786075|\n",
      "|   A|  YY|2003|   5|   7| 2.277608394786075|\n",
      "|   A|  XX|2000|   3|   1|1.5811388300841895|\n",
      "|   A|  XX|2001|   4|   9|1.5811388300841895|\n",
      "|   A|  XX|2002|   7|   5|1.5811388300841895|\n",
      "|   A|  XX|2003|   6|   8|1.5811388300841895|\n",
      "+----+----+----+----+----+------------------+\n",
      "\n"
     ]
    }
   ],
   "source": [
    "partition_col_names=[\"Id_1\",\"Id_2\"]\n",
    "order_by_col=[\"Id_3\"]\n",
    "win_name=Window.partitionBy(partition_col_name)\n",
    "target_col_name=\"Me_1\"\n",
    "new_col_name=f\"stddev_pop_{target_col_name}\"\n",
    "df_min=df.withColumn(new_col_name,stddev_pop(target_col_name).over(win_name))\n",
    "df_min.show()"
   ]
  },
  {
   "cell_type": "markdown",
   "metadata": {
    "pycharm": {
     "name": "#%% md\n"
    }
   },
   "source": [
    "## 1.8 stddev_samp\n",
    "\n",
    "The operator returns the “sample standard deviation” of the input values.\n",
    "\n",
    "DS_r :=  stddev_stamp ( DS_1 over ( partition by Id_1, Id_2 order by Id_3 ) )"
   ]
  },
  {
   "cell_type": "code",
   "execution_count": 16,
   "metadata": {
    "collapsed": false,
    "jupyter": {
     "outputs_hidden": false
    },
    "pycharm": {
     "name": "#%%\n"
    }
   },
   "outputs": [
    {
     "name": "stdout",
     "output_type": "stream",
     "text": [
      "+----+----+----+----+----+------------------+\n",
      "|Id_1|Id_2|Id_3|Me_1|Me_2|  stddev_samp_Me_1|\n",
      "+----+----+----+----+----+------------------+\n",
      "|   A|  YY|2000|   9|   3|2.6299556396765835|\n",
      "|   A|  YY|2001|   5|   4|2.6299556396765835|\n",
      "|   A|  YY|2002|  10|   2|2.6299556396765835|\n",
      "|   A|  YY|2003|   5|   7|2.6299556396765835|\n",
      "|   A|  XX|2000|   3|   1|1.8257418583505536|\n",
      "|   A|  XX|2001|   4|   9|1.8257418583505536|\n",
      "|   A|  XX|2002|   7|   5|1.8257418583505536|\n",
      "|   A|  XX|2003|   6|   8|1.8257418583505536|\n",
      "+----+----+----+----+----+------------------+\n",
      "\n"
     ]
    }
   ],
   "source": [
    "partition_col_names=[\"Id_1\",\"Id_2\"]\n",
    "order_by_col=[\"Id_3\"]\n",
    "win_name=Window.partitionBy(partition_col_name)\n",
    "target_col_name=\"Me_1\"\n",
    "new_col_name=f\"stddev_samp_{target_col_name}\"\n",
    "df_min=df.withColumn(new_col_name,stddev_samp(target_col_name).over(win_name))\n",
    "df_min.show()"
   ]
  },
  {
   "cell_type": "markdown",
   "metadata": {
    "pycharm": {
     "name": "#%% md\n"
    }
   },
   "source": [
    "## 1.9 var_pop\n",
    "\n",
    "\n",
    "DS_r :=  var_pop ( DS_1 over ( partition by Id_1, Id_2 order by Id_3 ) )\n",
    "The operator returns the “population variance” of the input values"
   ]
  },
  {
   "cell_type": "code",
   "execution_count": 17,
   "metadata": {
    "collapsed": false,
    "jupyter": {
     "outputs_hidden": false
    },
    "pycharm": {
     "name": "#%%\n"
    }
   },
   "outputs": [
    {
     "name": "stdout",
     "output_type": "stream",
     "text": [
      "+----+----+----+----+----+------------------+\n",
      "|Id_1|Id_2|Id_3|Me_1|Me_2|      var_pop_Me_1|\n",
      "+----+----+----+----+----+------------------+\n",
      "|   A|  YY|2000|   9|   3|            5.1875|\n",
      "|   A|  YY|2001|   5|   4|            5.1875|\n",
      "|   A|  YY|2002|  10|   2|            5.1875|\n",
      "|   A|  YY|2003|   5|   7|            5.1875|\n",
      "|   A|  XX|2000|   3|   1|2.4999999999999996|\n",
      "|   A|  XX|2001|   4|   9|2.4999999999999996|\n",
      "|   A|  XX|2002|   7|   5|2.4999999999999996|\n",
      "|   A|  XX|2003|   6|   8|2.4999999999999996|\n",
      "+----+----+----+----+----+------------------+\n",
      "\n"
     ]
    }
   ],
   "source": [
    "partition_col_names=[\"Id_1\",\"Id_2\"]\n",
    "order_by_col=[\"Id_3\"]\n",
    "win_name=Window.partitionBy(partition_col_name)\n",
    "target_col_name=\"Me_1\"\n",
    "new_col_name=f\"var_pop_{target_col_name}\"\n",
    "df_min=df.withColumn(new_col_name,var_pop(target_col_name).over(win_name))\n",
    "df_min.show()"
   ]
  },
  {
   "cell_type": "markdown",
   "metadata": {
    "pycharm": {
     "name": "#%% md\n"
    }
   },
   "source": [
    "## 1.10 var_samp\n",
    "\n",
    "\n",
    "DS_r :=  var_samp ( DS_1 over ( partition by Id_1, Id_2 order by Id_3 ) )\n",
    "\n",
    "The operator returns the “sample variance” of the input values"
   ]
  },
  {
   "cell_type": "code",
   "execution_count": 18,
   "metadata": {
    "collapsed": false,
    "jupyter": {
     "outputs_hidden": false
    },
    "pycharm": {
     "name": "#%%\n"
    }
   },
   "outputs": [
    {
     "name": "stdout",
     "output_type": "stream",
     "text": [
      "+----+----+----+----+----+------------------+\n",
      "|Id_1|Id_2|Id_3|Me_1|Me_2|     var_samp_Me_1|\n",
      "+----+----+----+----+----+------------------+\n",
      "|   A|  YY|2000|   9|   3| 6.916666666666667|\n",
      "|   A|  YY|2001|   5|   4| 6.916666666666667|\n",
      "|   A|  YY|2002|  10|   2| 6.916666666666667|\n",
      "|   A|  YY|2003|   5|   7| 6.916666666666667|\n",
      "|   A|  XX|2000|   3|   1|3.3333333333333326|\n",
      "|   A|  XX|2001|   4|   9|3.3333333333333326|\n",
      "|   A|  XX|2002|   7|   5|3.3333333333333326|\n",
      "|   A|  XX|2003|   6|   8|3.3333333333333326|\n",
      "+----+----+----+----+----+------------------+\n",
      "\n"
     ]
    }
   ],
   "source": [
    "partition_col_names=[\"Id_1\",\"Id_2\"]\n",
    "order_by_col=[\"Id_3\"]\n",
    "win_name=Window.partitionBy(partition_col_name)\n",
    "target_col_name=\"Me_1\"\n",
    "new_col_name=f\"var_samp_{target_col_name}\"\n",
    "df_min=df.withColumn(new_col_name,var_samp(target_col_name).over(win_name))\n",
    "df_min.show()"
   ]
  },
  {
   "cell_type": "code",
   "execution_count": null,
   "metadata": {
    "collapsed": false,
    "jupyter": {
     "outputs_hidden": false
    },
    "pycharm": {
     "name": "#%%\n"
    }
   },
   "outputs": [],
   "source": []
  }
 ],
 "metadata": {
  "kernelspec": {
   "display_name": "Python 3 (ipykernel)",
   "language": "python",
   "name": "python3"
  },
  "language_info": {
   "codemirror_mode": {
    "name": "ipython",
    "version": 3
   },
   "file_extension": ".py",
   "mimetype": "text/x-python",
   "name": "python",
   "nbconvert_exporter": "python",
   "pygments_lexer": "ipython3",
   "version": "3.9.12"
  }
 },
 "nbformat": 4,
 "nbformat_minor": 4
}
