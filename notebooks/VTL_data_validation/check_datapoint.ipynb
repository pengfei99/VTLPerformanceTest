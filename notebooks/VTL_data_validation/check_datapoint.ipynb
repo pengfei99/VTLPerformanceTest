{
 "cells": [
  {
   "cell_type": "markdown",
   "metadata": {},
   "source": [
    "# VTL Check data point\n",
    "\n",
    "The original doc can be found at **line 6319 of VTL-2.0-Reference-Manual**\n",
    "## Syntax\n",
    "\n",
    "```text\n",
    "check_datapoint ( op , dpr { components listComp } { output } )\n",
    "   - listComp ::= comp { , comp }*\n",
    "   - output ::= invalid | all | all_measures\n",
    "\n",
    "```\n",
    "\n",
    "- **op**: the Data Set to check\n",
    "- **dpr**: the Data Point Ruleset to be used\n",
    "- **listComp**: if `dpr` is defined on Value Domains then `listComp` is the list of Components of `op` to be associated (in positional order) to the conditioning Value Domains defined in `dpr`. If `dpr` is defined on Variables then listComp is the list of Components of op to be associated (in positional order) to the conditioning Variables defined in dpr (for documentation purposes).\n",
    "- **comp**: Component of `op`\n",
    "- **output**: specifies the Data Points and the Measures of the resulting Data Set:\n",
    "     - **invalid**: the resulting Data Set contains a Data Point for each Data Point of `op` and  each Rule in `dpr` that evaluates to `FALSE` on that Data Point. The resulting Data Set has the Measures of op.\n",
    "     - **all**: the resulting Data Set contains a data point for each Data Point of `op` and each Rule in `dpr`. The resulting Data Set has the boolean Measure bool_var.\n",
    "     - **all_measures**: the resulting Data Set contains a Data Point for each Data Point of `op` and each Rule in `dpr`. The resulting dataset has the Measures of `op` and the  boolean Measure bool_var.\n",
    "     - If not specified then output is assumed to be invalid. See the Behaviour for further details.\n",
    "\n",
    "## Example\n",
    "\n",
    "Step 1. Define `dpr`\n",
    "\n",
    "```text\n",
    "define datapoint ruleset valide_livret_A ( variable transaction_type, balance ) is\n",
    "            when transaction_type = “CREDIT” then balance >= 22950 errorcode “Limit reached” errorlevel 5;\n",
    "            when transaction_type = “DEBIT” then balance <0 errorcode “Not enough credit” errorlevel 6\n",
    "end datapoint ruleset\n",
    "\n",
    "```\n",
    "\n",
    "Step 2. Apply `dpr` on `ds`\n",
    "\n",
    "Given the Data Set DS_1:\n",
    "```text\n",
    "Id_1,account_number,transaction_type,balance\n",
    "2011,1,CREDIT,23950\n",
    "2011,1,DEBIT,-2\n",
    "2012,1,CREDIT,10\n",
    "2012,1,DEBIT,2\n",
    "```\n",
    "\n",
    "DS_r := check_datapoint ( DS_1, dpr1 ) results in:\n",
    "\n",
    "```text\n",
    "Id_1,Id_2,Id_3,ruleid,obs_value,errorcode,errorlevel\n",
    "2011,1,DEBIT,dpr1_2,-2,Bad debit,null\n",
    "```\n",
    "\n",
    "DS_r := check_datapoint ( DS_1, dpr1 all ) results in:\n",
    "\n",
    "```text\n",
    "Id_1,Id_2,Id_3,ruleid,bool_var,errorcode,errorlevel\n",
    "2011,1,CREDIT,dpr1_1,true,null,null\n",
    "2011,1,CREDIT,dpr1_2,true,null,null\n",
    "2011,1,DEBIT,dpr1_1,true,null,null\n",
    "2011,1,DEBIT,dpr1_2,false,Bad debit,null\n",
    "2012,1,CREDIT,dpr1_1,true,null,null\n",
    "2012,1,CREDIT,dpr1_2,true,null,null\n",
    "2012,1,DEBIT,dpr1_1,true,null,null\n",
    "2012,1,DEBIT,dpr1_2,true,null,null\n",
    "```"
   ]
  },
  {
   "cell_type": "code",
   "execution_count": 1,
   "metadata": {
    "collapsed": false,
    "jupyter": {
     "outputs_hidden": false
    }
   },
   "outputs": [],
   "source": [
    "from pyspark.sql import SparkSession,DataFrame\n",
    "\n",
    "import os\n",
    "from pyspark.sql.functions import col, lit, when\n"
   ]
  },
  {
   "cell_type": "code",
   "execution_count": 2,
   "metadata": {
    "collapsed": false,
    "jupyter": {
     "outputs_hidden": false
    }
   },
   "outputs": [
    {
     "name": "stderr",
     "output_type": "stream",
     "text": [
      "2022-11-07 12:59:44,169 WARN util.NativeCodeLoader: Unable to load native-hadoop library for your platform... using builtin-java classes where applicable\n"
     ]
    }
   ],
   "source": [
    "local = True\n",
    "\n",
    "if local:\n",
    "    spark = SparkSession.builder \\\n",
    "        .master(\"local[4]\") \\\n",
    "        .appName(\"VTLValidation\")\\\n",
    "        .getOrCreate()\n",
    "else:\n",
    "    spark = SparkSession.builder\\\n",
    "        .master(\"k8s://https://kubernetes.default.svc:443\") \\\n",
    "        .appName(\"VTLValidation\")\\\n",
    "        .config(\"spark.kubernetes.container.image\", \"inseefrlab/jupyter-datascience:py3.9.7-spark3.2.0\")\\\n",
    "        .config(\"spark.kubernetes.authenticate.driver.serviceAccountName\", os.environ['KUBERNETES_SERVICE_ACCOUNT'])\\\n",
    "        .config(\"spark.executor.instances\", \"4\")\\\n",
    "        .config(\"spark.executor.memory\", \"4g\")\\\n",
    "        .config(\"spark.kubernetes.namespace\", os.environ['KUBERNETES_NAMESPACE'])\\\n",
    "        .getOrCreate()\n"
   ]
  },
  {
   "cell_type": "code",
   "execution_count": 4,
   "metadata": {
    "collapsed": false,
    "jupyter": {
     "outputs_hidden": false
    }
   },
   "outputs": [
    {
     "name": "stdout",
     "output_type": "stream",
     "text": [
      "+----+----------+----------------+------------------+-------------+\n",
      "|date|acc_number|transaction_type|transaction_amount|balance_after|\n",
      "+----+----------+----------------+------------------+-------------+\n",
      "|2011|         1|          CREDIT|               250|        23950|\n",
      "|2011|         2|           DEBIT|               100|           -2|\n",
      "|2012|         3|          CREDIT|              1000|        17800|\n",
      "|2012|         4|           DEBIT|               200|        20550|\n",
      "+----+----------+----------------+------------------+-------------+\n",
      "\n"
     ]
    }
   ],
   "source": [
    "root_path=\"../../data\"\n",
    "data_path=f\"{root_path}/validation_ds.csv\"\n",
    "\n",
    "df=spark.read.csv(data_path, header=True,inferSchema=True)\n",
    "df.show()"
   ]
  },
  {
   "cell_type": "markdown",
   "metadata": {},
   "source": [
    "## Step 1: Implement data point ruleset\n",
    "\n",
    "A data point ruleset can contain one or more rules. For each rule, we need to define a corresponding validation function in spark that implements the logic and generate the resulting columns.\n",
    "\n",
    "Note it has 3 modes (e.g. invalid, all, all_measures), and each mode has a unique output column formats. So each generated function must take consideration of that.\n",
    "\n",
    "Below functions should be generated when we encounter **define datapoint ruleset**"
   ]
  },
  {
   "cell_type": "code",
   "execution_count": 5,
   "metadata": {
    "collapsed": false,
    "jupyter": {
     "outputs_hidden": false
    }
   },
   "outputs": [],
   "source": [
    "# this function is for complete the output column of check option : invalid\n",
    "def trans_for_invalid(ds,rule_id,error_code,error_level):\n",
    "    return ds.withColumn(\"rule_id\",lit(rule_id)) \\\n",
    "       .withColumn(\"error_code\",lit(error_code)) \\\n",
    "        .withColumn(\"error_level\",lit(error_level))"
   ]
  },
  {
   "cell_type": "code",
   "execution_count": 6,
   "metadata": {
    "collapsed": false,
    "jupyter": {
     "outputs_hidden": false
    }
   },
   "outputs": [],
   "source": [
    "# this function is for complete the output column of check option : all\n",
    "def trans_for_all(ds,rule_id,error_code,error_level):\n",
    "    return ds.withColumn(\"rule_id\",lit(rule_id)) \\\n",
    "       .withColumn(\"error_code\",when(col(\"bool_var\")==False,error_code)) \\\n",
    "        .withColumn(\"error_level\",when(col(\"bool_var\")==False,error_level))"
   ]
  },
  {
   "cell_type": "code",
   "execution_count": 9,
   "metadata": {
    "collapsed": false,
    "jupyter": {
     "outputs_hidden": false
    }
   },
   "outputs": [],
   "source": [
    "# implementation of rule dpr1_1 in dpr1, this should be generated based on dpr1 definition\n",
    "def dpr1_1(ds,option):\n",
    "    rule_id=\"valide_livret_A_1\"\n",
    "    cond_col=\"transaction_type\"\n",
    "    cond_val=\"CREDIT\"\n",
    "    check_col=\"balance_after\"\n",
    "    check_val=22950\n",
    "    error_code=\"Limit reached\"\n",
    "    error_level=\"5\"\n",
    "    if option==\"invalid\":\n",
    "        tmp=ds.filter((col(cond_col)==cond_val) & (col(check_col)>check_val) ).withColumnRenamed(check_col,\"obs_value\")\n",
    "        return trans_for_invalid(tmp,rule_id,error_code,error_level)\n",
    "    elif option==\"all\":\n",
    "        tmp=ds.withColumn(\"bool_var\",when((col(cond_col)==cond_val) & (col(check_col)>check_val),False).otherwise(True))\n",
    "        return trans_for_all(tmp,rule_id,error_code,error_level)\n",
    "    elif option==\"all_measures\":\n",
    "        return ds\n",
    "    else:\n",
    "        raise ValueError(\"Unknown option value, accepted values are : invalid, all, all_measures\")"
   ]
  },
  {
   "cell_type": "code",
   "execution_count": 10,
   "metadata": {
    "collapsed": false,
    "jupyter": {
     "outputs_hidden": false
    }
   },
   "outputs": [],
   "source": [
    "dpr1_1_resu=dpr1_1(df,\"all\")"
   ]
  },
  {
   "cell_type": "code",
   "execution_count": 11,
   "metadata": {
    "collapsed": false,
    "jupyter": {
     "outputs_hidden": false
    }
   },
   "outputs": [
    {
     "name": "stdout",
     "output_type": "stream",
     "text": [
      "+----+----------+----------------+------------------+-------------+--------+-----------------+-------------+-----------+\n",
      "|date|acc_number|transaction_type|transaction_amount|balance_after|bool_var|          rule_id|   error_code|error_level|\n",
      "+----+----------+----------------+------------------+-------------+--------+-----------------+-------------+-----------+\n",
      "|2011|         1|          CREDIT|               250|        23950|   false|valide_livret_A_1|Limit reached|          5|\n",
      "|2011|         2|           DEBIT|               100|           -2|    true|valide_livret_A_1|         null|       null|\n",
      "|2012|         3|          CREDIT|              1000|        17800|    true|valide_livret_A_1|         null|       null|\n",
      "|2012|         4|           DEBIT|               200|        20550|    true|valide_livret_A_1|         null|       null|\n",
      "+----+----------+----------------+------------------+-------------+--------+-----------------+-------------+-----------+\n",
      "\n"
     ]
    }
   ],
   "source": [
    "dpr1_1_resu.show()"
   ]
  },
  {
   "cell_type": "code",
   "execution_count": 12,
   "metadata": {
    "collapsed": false,
    "jupyter": {
     "outputs_hidden": false
    }
   },
   "outputs": [],
   "source": [
    "# implementation of rule dpr1_2 in dpr1, this should be generated based on dpr1 definition\n",
    "def dpr1_2(ds,option):\n",
    "    rule_id=\"valide_livret_A_2\"\n",
    "    cond_col=\"transaction_type\"\n",
    "    cond_val=\"DEBIT\"\n",
    "    check_col=\"balance_after\"\n",
    "    check_val=0\n",
    "    error_code=\"Not enough credit\"\n",
    "    error_level=\"6\"\n",
    "    if option==\"invalid\":\n",
    "        tmp=ds.filter((col(cond_col)==cond_val) & (col(check_col)<check_val) ).withColumnRenamed(check_col,\"obs_value\")\n",
    "\n",
    "        return trans_for_invalid(tmp,rule_id,error_code,error_level)\n",
    "    elif option==\"all\":\n",
    "        tmp=ds.withColumn(\"bool_var\",when((col(cond_col)==cond_val) & (col(check_col)<check_val),False).otherwise(True))\n",
    "        return trans_for_all(tmp,rule_id,error_code,error_level)\n",
    "    elif option==\"all_measures\":\n",
    "        return ds\n",
    "    else:\n",
    "        raise ValueError(\"Unknown option value, accepted values are : invalid, all, all_measures\")"
   ]
  },
  {
   "cell_type": "code",
   "execution_count": 13,
   "metadata": {
    "collapsed": false,
    "jupyter": {
     "outputs_hidden": false
    }
   },
   "outputs": [],
   "source": [
    "dpr1_2_resu=dpr1_2(df,\"all\")"
   ]
  },
  {
   "cell_type": "code",
   "execution_count": 14,
   "metadata": {
    "collapsed": false,
    "jupyter": {
     "outputs_hidden": false
    }
   },
   "outputs": [
    {
     "name": "stdout",
     "output_type": "stream",
     "text": [
      "+----+----------+----------------+------------------+-------------+--------+-----------------+-----------------+-----------+\n",
      "|date|acc_number|transaction_type|transaction_amount|balance_after|bool_var|          rule_id|       error_code|error_level|\n",
      "+----+----------+----------------+------------------+-------------+--------+-----------------+-----------------+-----------+\n",
      "|2011|         1|          CREDIT|               250|        23950|    true|valide_livret_A_2|             null|       null|\n",
      "|2011|         2|           DEBIT|               100|           -2|   false|valide_livret_A_2|Not enough credit|          6|\n",
      "|2012|         3|          CREDIT|              1000|        17800|    true|valide_livret_A_2|             null|       null|\n",
      "|2012|         4|           DEBIT|               200|        20550|    true|valide_livret_A_2|             null|       null|\n",
      "+----+----------+----------------+------------------+-------------+--------+-----------------+-----------------+-----------+\n",
      "\n"
     ]
    }
   ],
   "source": [
    "dpr1_2_resu.show()"
   ]
  },
  {
   "cell_type": "code",
   "execution_count": 15,
   "metadata": {
    "collapsed": false,
    "jupyter": {
     "outputs_hidden": false
    }
   },
   "outputs": [
    {
     "name": "stdout",
     "output_type": "stream",
     "text": [
      "+----+----------+----------------+------------------+-------------+--------+-----------------+-----------------+-----------+\n",
      "|date|acc_number|transaction_type|transaction_amount|balance_after|bool_var|          rule_id|       error_code|error_level|\n",
      "+----+----------+----------------+------------------+-------------+--------+-----------------+-----------------+-----------+\n",
      "|2011|         1|          CREDIT|               250|        23950|   false|valide_livret_A_1|    Limit reached|          5|\n",
      "|2011|         2|           DEBIT|               100|           -2|    true|valide_livret_A_1|             null|       null|\n",
      "|2012|         3|          CREDIT|              1000|        17800|    true|valide_livret_A_1|             null|       null|\n",
      "|2012|         4|           DEBIT|               200|        20550|    true|valide_livret_A_1|             null|       null|\n",
      "|2011|         1|          CREDIT|               250|        23950|    true|valide_livret_A_2|             null|       null|\n",
      "|2011|         2|           DEBIT|               100|           -2|   false|valide_livret_A_2|Not enough credit|          6|\n",
      "|2012|         3|          CREDIT|              1000|        17800|    true|valide_livret_A_2|             null|       null|\n",
      "|2012|         4|           DEBIT|               200|        20550|    true|valide_livret_A_2|             null|       null|\n",
      "+----+----------+----------------+------------------+-------------+--------+-----------------+-----------------+-----------+\n",
      "\n"
     ]
    }
   ],
   "source": [
    "dpr1_1_resu.union(dpr1_2_resu).show()"
   ]
  },
  {
   "cell_type": "markdown",
   "metadata": {},
   "source": [
    "## Step 2: Apply data point ruleset on a data frame\n",
    "\n",
    "This function should be generated when a function **check_datapoint**,\n",
    "note the rule sets and rules are generated in step 1. They must be present when we call **check_datapoint**"
   ]
  },
  {
   "cell_type": "code",
   "execution_count": 16,
   "metadata": {
    "collapsed": false,
    "jupyter": {
     "outputs_hidden": false
    }
   },
   "outputs": [],
   "source": [
    "def data_validation(ds,rules,option):\n",
    "    result=rules[0](ds,option)\n",
    "    for i in range(1,len(rules)):\n",
    "        result=result.union(rules[i](ds,option))\n",
    "    return result"
   ]
  },
  {
   "cell_type": "code",
   "execution_count": 17,
   "metadata": {
    "collapsed": false,
    "jupyter": {
     "outputs_hidden": false
    }
   },
   "outputs": [],
   "source": [
    "rule_sets=[dpr1_1,dpr1_2]"
   ]
  },
  {
   "cell_type": "code",
   "execution_count": 18,
   "metadata": {
    "collapsed": false,
    "jupyter": {
     "outputs_hidden": false
    }
   },
   "outputs": [],
   "source": [
    "invalid_resu=data_validation(df,rule_sets,\"invalid\")"
   ]
  },
  {
   "cell_type": "code",
   "execution_count": 19,
   "metadata": {
    "collapsed": false,
    "jupyter": {
     "outputs_hidden": false
    }
   },
   "outputs": [
    {
     "name": "stdout",
     "output_type": "stream",
     "text": [
      "+----+----------+----------------+------------------+---------+-----------------+-----------------+-----------+\n",
      "|date|acc_number|transaction_type|transaction_amount|obs_value|          rule_id|       error_code|error_level|\n",
      "+----+----------+----------------+------------------+---------+-----------------+-----------------+-----------+\n",
      "|2011|         1|          CREDIT|               250|    23950|valide_livret_A_1|    Limit reached|          5|\n",
      "|2011|         2|           DEBIT|               100|       -2|valide_livret_A_2|Not enough credit|          6|\n",
      "+----+----------+----------------+------------------+---------+-----------------+-----------------+-----------+\n",
      "\n"
     ]
    }
   ],
   "source": [
    "invalid_resu.show()"
   ]
  },
  {
   "cell_type": "code",
   "execution_count": 20,
   "metadata": {
    "collapsed": false,
    "jupyter": {
     "outputs_hidden": false
    }
   },
   "outputs": [],
   "source": [
    "all_resu=data_validation(df,rule_sets,\"all\")"
   ]
  },
  {
   "cell_type": "code",
   "execution_count": 21,
   "metadata": {
    "collapsed": false,
    "jupyter": {
     "outputs_hidden": false
    }
   },
   "outputs": [
    {
     "name": "stdout",
     "output_type": "stream",
     "text": [
      "+----+----------+----------------+------------------+-------------+--------+-----------------+-----------------+-----------+\n",
      "|date|acc_number|transaction_type|transaction_amount|balance_after|bool_var|          rule_id|       error_code|error_level|\n",
      "+----+----------+----------------+------------------+-------------+--------+-----------------+-----------------+-----------+\n",
      "|2011|         1|          CREDIT|               250|        23950|   false|valide_livret_A_1|    Limit reached|          5|\n",
      "|2011|         2|           DEBIT|               100|           -2|    true|valide_livret_A_1|             null|       null|\n",
      "|2012|         3|          CREDIT|              1000|        17800|    true|valide_livret_A_1|             null|       null|\n",
      "|2012|         4|           DEBIT|               200|        20550|    true|valide_livret_A_1|             null|       null|\n",
      "|2011|         1|          CREDIT|               250|        23950|    true|valide_livret_A_2|             null|       null|\n",
      "|2011|         2|           DEBIT|               100|           -2|   false|valide_livret_A_2|Not enough credit|          6|\n",
      "|2012|         3|          CREDIT|              1000|        17800|    true|valide_livret_A_2|             null|       null|\n",
      "|2012|         4|           DEBIT|               200|        20550|    true|valide_livret_A_2|             null|       null|\n",
      "+----+----------+----------------+------------------+-------------+--------+-----------------+-----------------+-----------+\n",
      "\n"
     ]
    }
   ],
   "source": [
    "all_resu.show()"
   ]
  },
  {
   "cell_type": "code",
   "execution_count": null,
   "metadata": {
    "collapsed": false,
    "jupyter": {
     "outputs_hidden": false
    }
   },
   "outputs": [],
   "source": []
  }
 ],
 "metadata": {
  "kernelspec": {
   "display_name": "Python 3 (ipykernel)",
   "language": "python",
   "name": "python3"
  },
  "language_info": {
   "codemirror_mode": {
    "name": "ipython",
    "version": 3
   },
   "file_extension": ".py",
   "mimetype": "text/x-python",
   "name": "python",
   "nbconvert_exporter": "python",
   "pygments_lexer": "ipython3",
   "version": "3.9.13"
  }
 },
 "nbformat": 4,
 "nbformat_minor": 4
}
