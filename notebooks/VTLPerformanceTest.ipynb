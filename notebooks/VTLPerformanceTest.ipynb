{
 "cells": [
  {
   "cell_type": "code",
   "execution_count": 13,
   "metadata": {
    "collapsed": true
   },
   "outputs": [],
   "source": [
    "from pyspark.sql import SparkSession\n",
    "import os\n",
    "from pyspark.sql.functions import col, min, sum, collect_list"
   ]
  },
  {
   "cell_type": "code",
   "execution_count": null,
   "outputs": [],
   "source": [],
   "metadata": {
    "collapsed": false,
    "pycharm": {
     "name": "#%%\n"
    }
   }
  },
  {
   "cell_type": "code",
   "execution_count": 2,
   "outputs": [
    {
     "name": "stderr",
     "output_type": "stream",
     "text": [
      "22/03/04 11:55:10 WARN Utils: Your hostname, ubuntu resolves to a loopback address: 127.0.1.1; using 192.168.184.146 instead (on interface ens33)\n",
      "22/03/04 11:55:10 WARN Utils: Set SPARK_LOCAL_IP if you need to bind to another address\n",
      "WARNING: An illegal reflective access operation has occurred\n",
      "WARNING: Illegal reflective access by org.apache.spark.unsafe.Platform (file:/opt/spark/spark-3.1.2/jars/spark-unsafe_2.12-3.1.2.jar) to constructor java.nio.DirectByteBuffer(long,int)\n",
      "WARNING: Please consider reporting this to the maintainers of org.apache.spark.unsafe.Platform\n",
      "WARNING: Use --illegal-access=warn to enable warnings of further illegal reflective access operations\n",
      "WARNING: All illegal access operations will be denied in a future release\n",
      "22/03/04 11:55:11 WARN NativeCodeLoader: Unable to load native-hadoop library for your platform... using builtin-java classes where applicable\n",
      "Using Spark's default log4j profile: org/apache/spark/log4j-defaults.properties\n",
      "Setting default log level to \"WARN\".\n",
      "To adjust logging level use sc.setLogLevel(newLevel). For SparkR, use setLogLevel(newLevel).\n"
     ]
    }
   ],
   "source": [
    "local = True\n",
    "\n",
    "if local:\n",
    "    spark = SparkSession.builder \\\n",
    "        .master(\"local[4]\") \\\n",
    "        .appName(\"VTLPerformanceTest\") \\\n",
    "        .getOrCreate()\n",
    "    sf_fire_path = \"/home/pliu/data_set/sf_fire\"\n",
    "else:\n",
    "    spark = SparkSession.builder \\\n",
    "        .master(\"k8s://https://kubernetes.default.svc:443\") \\\n",
    "        .appName(\"VTLPerformanceTest\") \\\n",
    "        .config(\"spark.kubernetes.container.image\", \"inseefrlab/jupyter-datascience:py3.9.7-spark3.2.0\")\\\n",
    "        .config(\"spark.kubernetes.authenticate.driver.serviceAccountName\", os.environ['KUBERNETES_SERVICE_ACCOUNT'])\\\n",
    "        .config(\"spark.executor.instances\", \"4\")\\\n",
    "        .config(\"spark.executor.memory\", \"8g\")\\\n",
    "        .config(\"spark.kubernetes.namespace\", os.environ['KUBERNETES_NAMESPACE'])\\\n",
    "        .getOrCreate()\n",
    "    sf_fire_path = \"s3a://pengfei/diffusion/data_format/sf_fire/parquet/spark_sf_fire_snappy\""
   ],
   "metadata": {
    "collapsed": false,
    "pycharm": {
     "name": "#%%\n"
    }
   }
  },
  {
   "cell_type": "code",
   "execution_count": 3,
   "outputs": [
    {
     "name": "stderr",
     "output_type": "stream",
     "text": [
      "                                                                                \r"
     ]
    }
   ],
   "source": [
    "df = spark.read.parquet(sf_fire_path)"
   ],
   "metadata": {
    "collapsed": false,
    "pycharm": {
     "name": "#%%\n"
    }
   }
  },
  {
   "cell_type": "code",
   "execution_count": 4,
   "outputs": [
    {
     "name": "stderr",
     "output_type": "stream",
     "text": [
      "22/03/04 11:55:23 WARN package: Truncated the string representation of a plan since it was too large. This behavior can be adjusted by setting 'spark.sql.debug.maxToStringFields'.\n",
      "[Stage 1:>                                                          (0 + 1) / 1]\r"
     ]
    },
    {
     "name": "stdout",
     "output_type": "stream",
     "text": [
      "+----------+------+--------------+-----------------------------+----------+----------+----------------------+----------------------+----------------------+----------------------+----------------------+-------------+------------+--------------------+----------------------+------------------------------------+-------------+-----------------+---------+-----------+----+----------------+--------+-------------+-------+-------------+--------------+--------+--------------------------+----------------------+------------------+--------------------+-------------+---------------------------------------------+\n",
      "|CallNumber|UnitID|IncidentNumber|CallType                     |CallDate  |WatchDate |ReceivedDtTm          |EntryDtTm             |DispatchDtTm          |ResponseDtTm          |OnSceneDtTm           |TransportDtTm|HospitalDtTm|CallFinalDisposition|AvailableDtTm         |Address                             |City         |ZipcodeofIncident|Battalion|StationArea|Box |OriginalPriority|Priority|FinalPriority|ALSUnit|CallTypeGroup|NumberofAlarms|UnitType|Unitsequenceincalldispatch|FirePreventionDistrict|SupervisorDistrict|NeighborhoodDistrict|Location     |RowID                                        |\n",
      "+----------+------+--------------+-----------------------------+----------+----------+----------------------+----------------------+----------------------+----------------------+----------------------+-------------+------------+--------------------+----------------------+------------------------------------+-------------+-----------------+---------+-----------+----+----------------+--------+-------------+-------+-------------+--------------+--------+--------------------------+----------------------+------------------+--------------------+-------------+---------------------------------------------+\n",
      "|210391607 |E19   |21017645      |Alarms                       |02/08/2021|02/08/2021|02/08/2021 01:00:14 PM|02/08/2021 01:01:36 PM|02/08/2021 01:01:40 PM|02/08/2021 01:03:21 PM|02/08/2021 01:05:44 PM|null         |null        |Fire                |02/08/2021 01:18:09 PM|400 Block of SERRANO DR             |San Francisco|94132            |B08      |19         |8581|3               |3       |3            |true   |Alarm        |1             |ENGINE  |1                         |8                     |7                 |Lakeshore           |210391607-E19|POINT (-122.48045074945836 37.7190118676788) |\n",
      "|210391164 |T04   |21017596      |Alarms                       |02/08/2021|02/08/2021|02/08/2021 10:54:56 AM|02/08/2021 10:56:50 AM|02/08/2021 10:56:57 AM|02/08/2021 10:57:07 AM|02/08/2021 10:59:34 AM|null         |null        |Fire                |02/08/2021 11:06:42 AM|600 Block of LONG BRIDGE ST         |San Francisco|94158            |B03      |04         |2264|3               |3       |3            |false  |Alarm        |1             |TRUCK   |1                         |3                     |6                 |Mission Bay         |210391164-T04|POINT (-122.39227179213904 37.77288298280324)|\n",
      "|210391034 |E16   |21017578      |Citizen Assist / Service Call|02/08/2021|02/08/2021|02/08/2021 10:18:53 AM|02/08/2021 10:19:52 AM|02/08/2021 10:19:58 AM|02/08/2021 10:20:42 AM|02/08/2021 10:27:42 AM|null         |null        |Fire                |02/08/2021 10:53:27 AM|FRANKLIN ST/FILBERT ST              |San Francisco|94123            |B04      |16         |3233|3               |3       |3            |true   |Alarm        |1             |ENGINE  |1                         |4                     |2                 |Marina              |210391034-E16|POINT (-122.42581353320875 37.79927566930728)|\n",
      "|210390767 |T19   |21017552      |Other                        |02/08/2021|02/08/2021|02/08/2021 08:50:27 AM|02/08/2021 08:54:27 AM|02/08/2021 08:55:28 AM|02/08/2021 08:57:51 AM|null                  |null         |null        |Fire                |02/08/2021 09:02:22 AM|CALL BOX: JOHN DALY BL/MISSION ST,DC|Daly City    |null             |B09      |33         |9922|3               |3       |3            |true   |Fire         |1             |TRUCK   |9                         |None                  |None              |None                |210390767-T19|POINT (-122.46239390119047 37.7049649190675) |\n",
      "|210382984 |B05   |21017398      |Alarms                       |02/07/2021|02/07/2021|02/07/2021 09:18:38 PM|02/07/2021 09:20:02 PM|02/07/2021 09:21:15 PM|02/07/2021 09:21:15 PM|02/07/2021 09:25:11 PM|null         |null        |Fire                |02/07/2021 09:35:06 PM|2100 Block of FELL ST               |San Francisco|94117            |B05      |12         |4554|3               |3       |3            |false  |Alarm        |1             |CHIEF   |2                         |5                     |5                 |Lone Mountain/USF   |210382984-B05|POINT (-122.45328305705388 37.77213783914884)|\n",
      "+----------+------+--------------+-----------------------------+----------+----------+----------------------+----------------------+----------------------+----------------------+----------------------+-------------+------------+--------------------+----------------------+------------------------------------+-------------+-----------------+---------+-----------+----+----------------+--------+-------------+-------+-------------+--------------+--------+--------------------------+----------------------+------------------+--------------------+-------------+---------------------------------------------+\n",
      "only showing top 5 rows\n",
      "\n"
     ]
    },
    {
     "name": "stderr",
     "output_type": "stream",
     "text": [
      "                                                                                \r"
     ]
    }
   ],
   "source": [
    "df.show(5, truncate=False)"
   ],
   "metadata": {
    "collapsed": false,
    "pycharm": {
     "name": "#%%\n"
    }
   }
  },
  {
   "cell_type": "code",
   "execution_count": 5,
   "outputs": [],
   "source": [
    "def get_actions():\n",
    "    components=[]\n",
    "    # agg function 1\n",
    "    component1 = {\n",
    "        \"action\": \"sum\",\n",
    "        \"colName\": \"NumberofAlarms\",\n",
    "        \"targetColName\": \"sumNumberofAlarms\"}\n",
    "\n",
    "    component2 = {\n",
    "        \"action\": \"min\",\n",
    "        \"colName\": \"NumberofAlarms\",\n",
    "        \"targetColName\": \"minNumberofAlarms\"}\n",
    "    component3 = {\n",
    "        \"action\":  \"avg\",\n",
    "        \"colName\": \"NumberofAlarms\",\n",
    "        \"targetColName\": \"avgNumberofAlarms\"}\n",
    "\n",
    "    component4 = {\n",
    "        \"action\": \"max\",\n",
    "        \"colName\": \"NumberofAlarms\",\n",
    "        \"targetColName\": \"maxNumberofAlarms\"}\n",
    "\n",
    "    component5 = {\n",
    "        \"action\":  \"count\",\n",
    "        \"colName\": \"*\",\n",
    "        \"targetColName\": \"countVal\"}\n",
    "\n",
    "    component6 = {\n",
    "        \"action\": \"collect_list\",\n",
    "        \"colName\": \"City\",\n",
    "        \"targetColName\": \"allCities\"}\n",
    "    components.append(component1)\n",
    "    components.append(component2)\n",
    "    components.append(component3)\n",
    "    components.append(component4)\n",
    "    components.append(component5)\n",
    "    components.append(component6)\n",
    "    return components"
   ],
   "metadata": {
    "collapsed": false,
    "pycharm": {
     "name": "#%%\n"
    }
   }
  },
  {
   "cell_type": "code",
   "execution_count": 5,
   "outputs": [],
   "source": [],
   "metadata": {
    "collapsed": false,
    "pycharm": {
     "name": "#%%\n"
    }
   }
  },
  {
   "cell_type": "code",
   "execution_count": 6,
   "outputs": [],
   "source": [
    "def joinIndividualAggExample(df, groupByColName, components, joinColName):\n",
    "    dfs = []\n",
    "\n",
    "    # here I simulate the logic of each componentExpressionVisitor.visit(groupFunctionCtx.expr()) in aggrClause.visitAggrClause()\n",
    "    for component in components:\n",
    "        action=component[\"action\"]\n",
    "        colName=component[\"colName\"]\n",
    "        targetColName=component[\"targetColName\"]\n",
    "        df_group = df.groupBy(groupByColName)\n",
    "        if action==\"min\":\n",
    "            df_min = df_group.min(colName).alias(targetColName)\n",
    "            dfs.append(df_min)\n",
    "        elif action==\"max\":\n",
    "            df_max = df_group.max(colName).alias(targetColName)\n",
    "            dfs.append(df_max)\n",
    "        elif action==\"avg\":\n",
    "            df_avg = df_group.avg(colName).alias(targetColName)\n",
    "            dfs.append(df_avg)\n",
    "        elif action==\"sum\":\n",
    "            df_sum = df_group.sum(colName).alias(targetColName)\n",
    "            dfs.append(df_sum)\n",
    "        elif action==\"count\":\n",
    "            df_count = df_group.count().alias(targetColName)\n",
    "            dfs.append(df_count)\n",
    "        elif action==\"collect_list\":\n",
    "            df_collect = df_group.agg(collect_list(colName).alias(targetColName))\n",
    "            dfs.append(df_collect)\n",
    "        else:\n",
    "            print(\"Unknown aggregation action\")\n",
    "\n",
    "    # join the result\n",
    "    dfl = dfs[0]\n",
    "    for i in range(1,len(dfs)):\n",
    "        dfr = dfs[i]\n",
    "        dfl = dfl.join(dfr, joinColName)\n",
    "    dfl.show(5)"
   ],
   "metadata": {
    "collapsed": false,
    "pycharm": {
     "name": "#%%\n"
    }
   }
  },
  {
   "cell_type": "code",
   "execution_count": 10,
   "outputs": [
    {
     "name": "stderr",
     "output_type": "stream",
     "text": [
      "                                                                                \r"
     ]
    },
    {
     "name": "stdout",
     "output_type": "stream",
     "text": [
      "+--------------------+-------------------+-------------------+-------------------+-------------------+-----+--------------------+\n",
      "|            CallType|sum(NumberofAlarms)|min(NumberofAlarms)|avg(NumberofAlarms)|max(NumberofAlarms)|count|           allCities|\n",
      "+--------------------+-------------------+-------------------+-------------------+-------------------+-----+--------------------+\n",
      "|Elevator / Escala...|              14840|                  1|                1.0|                  1|14840|[San Francisco, S...|\n",
      "|         Marine Fire|                425|                  1|                1.0|                  1|  425|[Presidio, Presid...|\n",
      "|  Aircraft Emergency|               1511|                  1|                1.0|                  1| 1511|[SFO, SFO, SFO, S...|\n",
      "|Confined Space / ...|                631|                  1|                1.0|                  1|  631|[San Francisco, S...|\n",
      "|      Administrative|                286|                  1|                1.0|                  1|  286|[San Francisco, S...|\n",
      "+--------------------+-------------------+-------------------+-------------------+-------------------+-----+--------------------+\n",
      "only showing top 5 rows\n",
      "\n"
     ]
    }
   ],
   "source": [
    "# run join\n",
    "groupByColName=\"CallType\"\n",
    "components=get_actions()\n",
    "joinIndividualAggExample(df, groupByColName, components, groupByColName)"
   ],
   "metadata": {
    "collapsed": false,
    "pycharm": {
     "name": "#%%\n"
    }
   }
  },
  {
   "cell_type": "code",
   "execution_count": 8,
   "outputs": [],
   "source": [
    "def aggregateDynamicExample(df, groupByColName,components):\n",
    "    temptableName = \"users\"\n",
    "    full_agg_expr = \"\"\n",
    "    # simulate dynamic full spark sql query building in processingEngine.executeAggr()\n",
    "    for i in range(0, len(components)):\n",
    "        com = components[i]\n",
    "        action:str = com[\"action\"]\n",
    "        colName= com[\"colName\"]\n",
    "        targetColName= com[\"targetColName\"]\n",
    "        if action == \"count\":\n",
    "            msg = f\"{action}(*) as {targetColName}\"\n",
    "        else:\n",
    "            msg = f\"{action}({colName}) as {targetColName}\"\n",
    "\n",
    "        if i == len(components) - 1:\n",
    "            full_agg_expr = full_agg_expr + msg + \" \"\n",
    "        else:\n",
    "            full_agg_expr = full_agg_expr + msg + \", \"\n",
    "    full_message = f\"Select {groupByColName}, {full_agg_expr} from {temptableName} group by {groupByColName}\"\n",
    "    print(full_message)\n",
    "    df.createOrReplaceTempView(temptableName)\n",
    "    result = spark.sql(full_message)\n",
    "    result.show(5)"
   ],
   "metadata": {
    "collapsed": false,
    "pycharm": {
     "name": "#%%\n"
    }
   }
  },
  {
   "cell_type": "code",
   "execution_count": 9,
   "outputs": [
    {
     "name": "stdout",
     "output_type": "stream",
     "text": [
      "Select CallType, sum(NumberofAlarms) as sumNumberofAlarms, min(NumberofAlarms) as minNumberofAlarms, avg(NumberofAlarms) as avgNumberofAlarms, max(NumberofAlarms) as maxNumberofAlarms, count(*) as countVal, collect_list(City) as allCities  from users group by CallType\n"
     ]
    },
    {
     "name": "stderr",
     "output_type": "stream",
     "text": [
      "                                                                                \r"
     ]
    },
    {
     "name": "stdout",
     "output_type": "stream",
     "text": [
      "+--------------------+-----------------+-----------------+-----------------+-----------------+--------+--------------------+\n",
      "|            CallType|sumNumberofAlarms|minNumberofAlarms|avgNumberofAlarms|maxNumberofAlarms|countVal|           allCities|\n",
      "+--------------------+-----------------+-----------------+-----------------+-----------------+--------+--------------------+\n",
      "|Elevator / Escala...|            14840|                1|              1.0|                1|   14840|[San Francisco, S...|\n",
      "|         Marine Fire|              425|                1|              1.0|                1|     425|[Presidio, Presid...|\n",
      "|  Aircraft Emergency|             1511|                1|              1.0|                1|    1511|[SFO, SFO, SFO, S...|\n",
      "|Confined Space / ...|              631|                1|              1.0|                1|     631|[San Francisco, S...|\n",
      "|      Administrative|              286|                1|              1.0|                1|     286|[San Francisco, S...|\n",
      "+--------------------+-----------------+-----------------+-----------------+-----------------+--------+--------------------+\n",
      "only showing top 5 rows\n",
      "\n"
     ]
    }
   ],
   "source": [
    "aggregateDynamicExample(df,groupByColName,components)"
   ],
   "metadata": {
    "collapsed": false,
    "pycharm": {
     "name": "#%%\n"
    }
   }
  },
  {
   "cell_type": "code",
   "execution_count": 14,
   "outputs": [
    {
     "name": "stderr",
     "output_type": "stream",
     "text": [
      "                                                                                \r"
     ]
    },
    {
     "name": "stdout",
     "output_type": "stream",
     "text": [
      "+--------------------+-------------------+-------------------+--------------------+\n",
      "|            CallType|min(NumberofAlarms)|sum(NumberofAlarms)|  collect_list(City)|\n",
      "+--------------------+-------------------+-------------------+--------------------+\n",
      "|Elevator / Escala...|                  1|              14840|[San Francisco, S...|\n",
      "|         Marine Fire|                  1|                425|[Presidio, Presid...|\n",
      "|  Aircraft Emergency|                  1|               1511|[SFO, SFO, SFO, S...|\n",
      "|Confined Space / ...|                  1|                631|[San Francisco, S...|\n",
      "|      Administrative|                  1|                286|[San Francisco, S...|\n",
      "+--------------------+-------------------+-------------------+--------------------+\n",
      "only showing top 5 rows\n",
      "\n"
     ]
    },
    {
     "name": "stderr",
     "output_type": "stream",
     "text": [
      "                                                                                \r"
     ]
    }
   ],
   "source": [
    "df.groupBy(\"CallType\").agg(min(col()),\n",
    "                           sum(\"NumberofAlarms\"),\n",
    "                           collect_list(\"City\"),\n",
    "                           max()).show(5)"
   ],
   "metadata": {
    "collapsed": false,
    "pycharm": {
     "name": "#%%\n"
    }
   }
  },
  {
   "cell_type": "code",
   "execution_count": null,
   "outputs": [],
   "source": [],
   "metadata": {
    "collapsed": false,
    "pycharm": {
     "name": "#%%\n"
    }
   }
  }
 ],
 "metadata": {
  "kernelspec": {
   "display_name": "Python 3",
   "language": "python",
   "name": "python3"
  },
  "language_info": {
   "codemirror_mode": {
    "name": "ipython",
    "version": 2
   },
   "file_extension": ".py",
   "mimetype": "text/x-python",
   "name": "python",
   "nbconvert_exporter": "python",
   "pygments_lexer": "ipython2",
   "version": "2.7.6"
  }
 },
 "nbformat": 4,
 "nbformat_minor": 0
}