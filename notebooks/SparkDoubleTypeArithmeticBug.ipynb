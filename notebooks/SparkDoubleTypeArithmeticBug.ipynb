{
 "cells": [
  {
   "cell_type": "code",
   "execution_count": 36,
   "metadata": {
    "collapsed": true
   },
   "outputs": [],
   "source": [
    "from pyspark.sql import SparkSession,DataFrame\n",
    "from pyspark.sql.types import StructField, StructType, StringType, DoubleType, IntegerType, LongType, DecimalType\n",
    "import os\n",
    "from pyspark.sql.functions import lit, rand"
   ]
  },
  {
   "cell_type": "code",
   "execution_count": 2,
   "outputs": [
    {
     "name": "stderr",
     "output_type": "stream",
     "text": [
      "22/03/20 11:24:27 WARN Utils: Your hostname, ubuntu resolves to a loopback address: 127.0.1.1; using 192.168.184.146 instead (on interface ens33)\n",
      "22/03/20 11:24:27 WARN Utils: Set SPARK_LOCAL_IP if you need to bind to another address\n",
      "WARNING: An illegal reflective access operation has occurred\n",
      "WARNING: Illegal reflective access by org.apache.spark.unsafe.Platform (file:/opt/spark/spark-3.1.2/jars/spark-unsafe_2.12-3.1.2.jar) to constructor java.nio.DirectByteBuffer(long,int)\n",
      "WARNING: Please consider reporting this to the maintainers of org.apache.spark.unsafe.Platform\n",
      "WARNING: Use --illegal-access=warn to enable warnings of further illegal reflective access operations\n",
      "WARNING: All illegal access operations will be denied in a future release\n",
      "22/03/20 11:24:28 WARN NativeCodeLoader: Unable to load native-hadoop library for your platform... using builtin-java classes where applicable\n",
      "Using Spark's default log4j profile: org/apache/spark/log4j-defaults.properties\n",
      "Setting default log level to \"WARN\".\n",
      "To adjust logging level use sc.setLogLevel(newLevel). For SparkR, use setLogLevel(newLevel).\n"
     ]
    }
   ],
   "source": [
    "local = True\n",
    "\n",
    "if local:\n",
    "    spark = SparkSession.builder \\\n",
    "        .master(\"local[4]\") \\\n",
    "        .appName(\"SparkDoubleTypeTest\")\\\n",
    "        .getOrCreate()\n",
    "else:\n",
    "    spark = SparkSession.builder\\\n",
    "        .master(\"k8s://https://kubernetes.default.svc:443\") \\\n",
    "        .appName(\"SparkDoubleTypeTest\")\\\n",
    "        .config(\"spark.kubernetes.container.image\", \"inseefrlab/jupyter-datascience:py3.9.7-spark3.2.0\")\\\n",
    "        .config(\"spark.kubernetes.authenticate.driver.serviceAccountName\", os.environ['KUBERNETES_SERVICE_ACCOUNT'])\\\n",
    "        .config(\"spark.executor.instances\", \"4\")\\\n",
    "        .config(\"spark.executor.memory\", \"8g\")\\\n",
    "        .config(\"spark.kubernetes.namespace\", os.environ['KUBERNETES_NAMESPACE'])\\\n",
    "        .getOrCreate()"
   ],
   "metadata": {
    "collapsed": false,
    "pycharm": {
     "name": "#%%\n"
    }
   }
  },
  {
   "cell_type": "code",
   "execution_count": 3,
   "outputs": [],
   "source": [
    "data = [(\"James\", \"Sales\", \"NY\", 900.01, 34, 10000),\n",
    "        (\"Michael\", \"Sales\", \"NY\", 860.02, 56, 20000),\n",
    "        (\"Robert\", \"Sales\", \"CA\", 810.03, 30, 23000),\n",
    "        (\"Maria\", \"Finance\", \"CA\", 900.04, 24, 23000),\n",
    "        (\"Raman\", \"Finance\", \"CA\", 990.05, 40, 24000),\n",
    "        (\"Scott\", \"Finance\", \"NY\", 830.06, 36, 19000),\n",
    "        (\"Jen\", \"Finance\", \"NY\", 790.07, 53, 15000),\n",
    "        (\"Jeff\", \"Marketing\", \"CA\", 800.08, 25, 18000),\n",
    "        (\"Kumar\", \"Marketing\", \"NY\", 910.09, 50, 21000)\n",
    "        ]\n",
    "\n",
    "\n",
    "\n",
    "schema = StructType([\n",
    "    StructField(\"employee_name\", StringType(), True),\n",
    "    StructField(\"department\", StringType(), True),\n",
    "    StructField(\"state\", StringType(), True),\n",
    "    StructField(\"salary\", DoubleType(), True),\n",
    "    StructField(\"age\", IntegerType(), True),\n",
    "    StructField(\"bonus\", LongType(), True)\n",
    "])\n",
    "df = spark.createDataFrame(data=data, schema=schema)"
   ],
   "metadata": {
    "collapsed": false,
    "pycharm": {
     "name": "#%%\n"
    }
   }
  },
  {
   "cell_type": "code",
   "execution_count": 4,
   "outputs": [
    {
     "name": "stdout",
     "output_type": "stream",
     "text": [
      "+-------------+----------+-----+------+---+-----+\n",
      "|employee_name|department|state|salary|age|bonus|\n",
      "+-------------+----------+-----+------+---+-----+\n",
      "|        James|     Sales|   NY|900.01| 34|10000|\n",
      "|      Michael|     Sales|   NY|860.02| 56|20000|\n",
      "|       Robert|     Sales|   CA|810.03| 30|23000|\n",
      "|        Maria|   Finance|   CA|900.04| 24|23000|\n",
      "|        Raman|   Finance|   CA|990.05| 40|24000|\n",
      "+-------------+----------+-----+------+---+-----+\n",
      "only showing top 5 rows\n",
      "\n"
     ]
    }
   ],
   "source": [
    "df.show(5)"
   ],
   "metadata": {
    "collapsed": false,
    "pycharm": {
     "name": "#%%\n"
    }
   }
  },
  {
   "cell_type": "code",
   "execution_count": 5,
   "outputs": [
    {
     "name": "stdout",
     "output_type": "stream",
     "text": [
      "root\n",
      " |-- employee_name: string (nullable = true)\n",
      " |-- department: string (nullable = true)\n",
      " |-- state: string (nullable = true)\n",
      " |-- salary: double (nullable = true)\n",
      " |-- age: integer (nullable = true)\n",
      " |-- bonus: long (nullable = true)\n",
      "\n"
     ]
    }
   ],
   "source": [
    "df.printSchema()"
   ],
   "metadata": {
    "collapsed": false,
    "pycharm": {
     "name": "#%%\n"
    }
   }
  },
  {
   "cell_type": "code",
   "execution_count": 6,
   "outputs": [
    {
     "name": "stdout",
     "output_type": "stream",
     "text": [
      "+-------------+----------+-----+------+---+-----+-----------------+-----------------+\n",
      "|employee_name|department|state|salary|age|bonus|    raised_salary|   reduced_salary|\n",
      "+-------------+----------+-----+------+---+-----+-----------------+-----------------+\n",
      "|        James|     Sales|   NY|900.01| 34|10000|           900.11|           899.91|\n",
      "|      Michael|     Sales|   NY|860.02| 56|20000|           860.12|           859.92|\n",
      "|       Robert|     Sales|   CA|810.03| 30|23000|           810.13|           809.93|\n",
      "|        Maria|   Finance|   CA|900.04| 24|23000|           900.14|899.9399999999999|\n",
      "|        Raman|   Finance|   CA|990.05| 40|24000|           990.15|989.9499999999999|\n",
      "|        Scott|   Finance|   NY|830.06| 36|19000|           830.16|829.9599999999999|\n",
      "|          Jen|   Finance|   NY|790.07| 53|15000|790.1700000000001|           789.97|\n",
      "|         Jeff| Marketing|   CA|800.08| 25|18000|800.1800000000001|           799.98|\n",
      "|        Kumar| Marketing|   NY|910.09| 50|21000|           910.19|           909.99|\n",
      "+-------------+----------+-----+------+---+-----+-----------------+-----------------+\n",
      "\n"
     ]
    }
   ],
   "source": [
    "from pyspark.sql.functions import col\n",
    "\n",
    "df.withColumn(\"raised_salary\", col(\"salary\") + 0.1) \\\n",
    "    .withColumn(\"reduced_salary\", col(\"salary\") - 0.1).show()"
   ],
   "metadata": {
    "collapsed": false,
    "pycharm": {
     "name": "#%%\n"
    }
   }
  },
  {
   "cell_type": "markdown",
   "source": [
    "You can notice after the addition or soustraction with 0.1, many results are wrong. Because the underlying spark engine is implemented by using Scala.\n",
    "\n",
    "**In scala, double is internally stored as a fraction in binary -- like 1/4=0.25 + 1/8=0.125 + 1/16=0.0625 + ...**\n",
    "\n",
    "As a result, the value 829.94 -- or the value 789.96 -- cannot be stored as an exact fraction in binary, so double cannot store the exact value 0.94 or 0.96, and the subtracted value isn't quite exact.\n",
    "\n",
    "If you want to get exact precise decimal arithmetic, convert column type from double/float to DecimalType. For all supported column type in spark: https://spark.apache.org/docs/latest/sql-ref-datatypes.html\n",
    "\n",
    "In fact, this is a general problem for many programing language. For more detail about float calculation, you can visit this https://docs.oracle.com/cd/E19957-01/806-3568/ncg_goldberg.html"
   ],
   "metadata": {
    "collapsed": false,
    "pycharm": {
     "name": "#%% md\n"
    }
   }
  },
  {
   "cell_type": "code",
   "execution_count": 7,
   "outputs": [],
   "source": [
    "df_decimal=df.withColumn(\"salary_decimal\",col(\"salary\").cast(DecimalType(10,2))).drop(\"salary\").withColumnRenamed(\"salary_decimal\",\"salary\")"
   ],
   "metadata": {
    "collapsed": false,
    "pycharm": {
     "name": "#%%\n"
    }
   }
  },
  {
   "cell_type": "code",
   "execution_count": 8,
   "outputs": [
    {
     "name": "stdout",
     "output_type": "stream",
     "text": [
      "+-------------+----------+-----+---+-----+------+\n",
      "|employee_name|department|state|age|bonus|salary|\n",
      "+-------------+----------+-----+---+-----+------+\n",
      "|        James|     Sales|   NY| 34|10000|900.01|\n",
      "|      Michael|     Sales|   NY| 56|20000|860.02|\n",
      "|       Robert|     Sales|   CA| 30|23000|810.03|\n",
      "|        Maria|   Finance|   CA| 24|23000|900.04|\n",
      "|        Raman|   Finance|   CA| 40|24000|990.05|\n",
      "|        Scott|   Finance|   NY| 36|19000|830.06|\n",
      "|          Jen|   Finance|   NY| 53|15000|790.07|\n",
      "|         Jeff| Marketing|   CA| 25|18000|800.08|\n",
      "|        Kumar| Marketing|   NY| 50|21000|910.09|\n",
      "+-------------+----------+-----+---+-----+------+\n",
      "\n"
     ]
    }
   ],
   "source": [
    "df_decimal.show()"
   ],
   "metadata": {
    "collapsed": false,
    "pycharm": {
     "name": "#%%\n"
    }
   }
  },
  {
   "cell_type": "code",
   "execution_count": 9,
   "outputs": [
    {
     "name": "stdout",
     "output_type": "stream",
     "text": [
      "root\n",
      " |-- employee_name: string (nullable = true)\n",
      " |-- department: string (nullable = true)\n",
      " |-- state: string (nullable = true)\n",
      " |-- age: integer (nullable = true)\n",
      " |-- bonus: long (nullable = true)\n",
      " |-- salary: decimal(10,2) (nullable = true)\n",
      "\n"
     ]
    }
   ],
   "source": [
    "df_decimal.printSchema()"
   ],
   "metadata": {
    "collapsed": false,
    "pycharm": {
     "name": "#%%\n"
    }
   }
  },
  {
   "cell_type": "code",
   "execution_count": 10,
   "outputs": [],
   "source": [
    "df_wrong=df_decimal.withColumn(\"raised_salary\", col(\"salary\") + 0.1) \\\n",
    "    .withColumn(\"reduced_salary\", col(\"salary\") - 0.1)"
   ],
   "metadata": {
    "collapsed": false,
    "pycharm": {
     "name": "#%%\n"
    }
   }
  },
  {
   "cell_type": "code",
   "execution_count": 11,
   "outputs": [
    {
     "name": "stdout",
     "output_type": "stream",
     "text": [
      "+-------------+----------+-----+---+-----+------+-----------------+-----------------+\n",
      "|employee_name|department|state|age|bonus|salary|    raised_salary|   reduced_salary|\n",
      "+-------------+----------+-----+---+-----+------+-----------------+-----------------+\n",
      "|        James|     Sales|   NY| 34|10000|900.01|           900.11|           899.91|\n",
      "|      Michael|     Sales|   NY| 56|20000|860.02|           860.12|           859.92|\n",
      "|       Robert|     Sales|   CA| 30|23000|810.03|           810.13|           809.93|\n",
      "|        Maria|   Finance|   CA| 24|23000|900.04|           900.14|899.9399999999999|\n",
      "|        Raman|   Finance|   CA| 40|24000|990.05|           990.15|989.9499999999999|\n",
      "|        Scott|   Finance|   NY| 36|19000|830.06|           830.16|829.9599999999999|\n",
      "|          Jen|   Finance|   NY| 53|15000|790.07|790.1700000000001|           789.97|\n",
      "|         Jeff| Marketing|   CA| 25|18000|800.08|800.1800000000001|           799.98|\n",
      "|        Kumar| Marketing|   NY| 50|21000|910.09|           910.19|           909.99|\n",
      "+-------------+----------+-----+---+-----+------+-----------------+-----------------+\n",
      "\n"
     ]
    }
   ],
   "source": [
    "df_wrong.show()"
   ],
   "metadata": {
    "collapsed": false,
    "pycharm": {
     "name": "#%%\n"
    }
   }
  },
  {
   "cell_type": "code",
   "execution_count": 12,
   "outputs": [
    {
     "name": "stdout",
     "output_type": "stream",
     "text": [
      "root\n",
      " |-- employee_name: string (nullable = true)\n",
      " |-- department: string (nullable = true)\n",
      " |-- state: string (nullable = true)\n",
      " |-- age: integer (nullable = true)\n",
      " |-- bonus: long (nullable = true)\n",
      " |-- salary: decimal(10,2) (nullable = true)\n",
      " |-- raised_salary: double (nullable = true)\n",
      " |-- reduced_salary: double (nullable = true)\n",
      "\n"
     ]
    }
   ],
   "source": [
    "df_wrong.printSchema()"
   ],
   "metadata": {
    "collapsed": false,
    "pycharm": {
     "name": "#%%\n"
    }
   }
  },
  {
   "cell_type": "markdown",
   "source": [
    "You can notice that if one parameter in the operation is double, the result will be double, you will not get the decimal precision."
   ],
   "metadata": {
    "collapsed": false,
    "pycharm": {
     "name": "#%% md\n"
    }
   }
  },
  {
   "cell_type": "code",
   "execution_count": 13,
   "outputs": [],
   "source": [
    "\n",
    "df_right=df_decimal.withColumn(\"variant\",lit(0.1).cast(DecimalType(10,2)))\\\n",
    "    .withColumn(\"raised_salary\", col(\"salary\") + col(\"variant\")) \\\n",
    "    .withColumn(\"reduced_salary\", col(\"salary\") - col(\"variant\"))"
   ],
   "metadata": {
    "collapsed": false,
    "pycharm": {
     "name": "#%%\n"
    }
   }
  },
  {
   "cell_type": "code",
   "execution_count": 14,
   "outputs": [
    {
     "name": "stdout",
     "output_type": "stream",
     "text": [
      "+-------------+----------+-----+---+-----+------+-------+-------------+--------------+\n",
      "|employee_name|department|state|age|bonus|salary|variant|raised_salary|reduced_salary|\n",
      "+-------------+----------+-----+---+-----+------+-------+-------------+--------------+\n",
      "|        James|     Sales|   NY| 34|10000|900.01|   0.10|       900.11|        899.91|\n",
      "|      Michael|     Sales|   NY| 56|20000|860.02|   0.10|       860.12|        859.92|\n",
      "|       Robert|     Sales|   CA| 30|23000|810.03|   0.10|       810.13|        809.93|\n",
      "|        Maria|   Finance|   CA| 24|23000|900.04|   0.10|       900.14|        899.94|\n",
      "|        Raman|   Finance|   CA| 40|24000|990.05|   0.10|       990.15|        989.95|\n",
      "|        Scott|   Finance|   NY| 36|19000|830.06|   0.10|       830.16|        829.96|\n",
      "|          Jen|   Finance|   NY| 53|15000|790.07|   0.10|       790.17|        789.97|\n",
      "|         Jeff| Marketing|   CA| 25|18000|800.08|   0.10|       800.18|        799.98|\n",
      "|        Kumar| Marketing|   NY| 50|21000|910.09|   0.10|       910.19|        909.99|\n",
      "+-------------+----------+-----+---+-----+------+-------+-------------+--------------+\n",
      "\n"
     ]
    }
   ],
   "source": [
    "df_right.show()"
   ],
   "metadata": {
    "collapsed": false,
    "pycharm": {
     "name": "#%%\n"
    }
   }
  },
  {
   "cell_type": "code",
   "execution_count": 15,
   "outputs": [
    {
     "name": "stdout",
     "output_type": "stream",
     "text": [
      "root\n",
      " |-- employee_name: string (nullable = true)\n",
      " |-- department: string (nullable = true)\n",
      " |-- state: string (nullable = true)\n",
      " |-- age: integer (nullable = true)\n",
      " |-- bonus: long (nullable = true)\n",
      " |-- salary: decimal(10,2) (nullable = true)\n",
      " |-- variant: decimal(10,2) (nullable = true)\n",
      " |-- raised_salary: decimal(11,2) (nullable = true)\n",
      " |-- reduced_salary: decimal(11,2) (nullable = true)\n",
      "\n"
     ]
    }
   ],
   "source": [
    "df_right.printSchema()"
   ],
   "metadata": {
    "collapsed": false,
    "pycharm": {
     "name": "#%%\n"
    }
   }
  },
  {
   "cell_type": "markdown",
   "source": [
    "As the two operands are both decimal, so this time the precision of the result is correct. But you can still notice that the Data Type of the result is Decimal(11,2), not Decimal(10,2). This is spark do the auto cast to prevent arithmetic overflow."
   ],
   "metadata": {
    "collapsed": false,
    "pycharm": {
     "name": "#%% md\n"
    }
   }
  },
  {
   "cell_type": "markdown",
   "source": [
    "## Performance test between decimal and double\n",
    "\n",
    "As we explained before, double and float data type has precision problem for arithmetic operations. To avoid this problem, we need to use decimal data type. But decimal data type will suffer some performance lost. In below test, we will try to quantify the performance lost."
   ],
   "metadata": {
    "collapsed": false,
    "pycharm": {
     "name": "#%% md\n"
    }
   }
  },
  {
   "cell_type": "code",
   "execution_count": 89,
   "outputs": [],
   "source": [
    "df_size=1000000000\n",
    "def generate_decimal_sample(total:int,fraction:int)->DataFrame:\n",
    "    return spark.range(0,df_size).withColumn(\"x\",(rand(seed=48) * 10).cast(DecimalType(total,fraction))).withColumn(\"y\",(rand(seed=46) * 10).cast(DecimalType(total,fraction)))"
   ],
   "metadata": {
    "collapsed": false,
    "pycharm": {
     "name": "#%%\n"
    }
   }
  },
  {
   "cell_type": "code",
   "execution_count": 126,
   "outputs": [
    {
     "name": "stdout",
     "output_type": "stream",
     "text": [
      "+---+-----------------+-----------------+\n",
      "| id|                x|                y|\n",
      "+---+-----------------+-----------------+\n",
      "|  0|3.710369234532471|0.401060051090526|\n",
      "|  1|7.975769828959885|0.620780005870033|\n",
      "|  2|7.171375356646551|1.788344735940591|\n",
      "|  3|3.636958873390777|3.283184244659680|\n",
      "|  4|9.905156945373632|1.353439163856851|\n",
      "+---+-----------------+-----------------+\n",
      "only showing top 5 rows\n",
      "\n"
     ]
    }
   ],
   "source": [
    "decimal_sample=generate_decimal_sample(25,15)\n",
    "decimal_sample.show(5)"
   ],
   "metadata": {
    "collapsed": false,
    "pycharm": {
     "name": "#%%\n"
    }
   }
  },
  {
   "cell_type": "code",
   "execution_count": 99,
   "outputs": [
    {
     "data": {
      "text/plain": "1000000000"
     },
     "execution_count": 99,
     "metadata": {},
     "output_type": "execute_result"
    }
   ],
   "source": [
    "decimal_sample.count()"
   ],
   "metadata": {
    "collapsed": false,
    "pycharm": {
     "name": "#%%\n"
    }
   }
  },
  {
   "cell_type": "code",
   "execution_count": 100,
   "outputs": [],
   "source": [
    "import time\n",
    "\n",
    "def df_performance_test(input_df:DataFrame):\n",
    "    start = time.time()\n",
    "    res=input_df.withColumn(\"addition\",col(\"x\")+col(\"y\"))\\\n",
    "        .withColumn(\"soustraction\",col(\"x\")-col(\"y\")).\\\n",
    "        withColumn(\"multiple\",col(\"x\")*col(\"y\")).\\\n",
    "        withColumn(\"division\",col(\"x\")/col(\"y\"))\n",
    "    res.show(5)\n",
    "    end= time.time()\n",
    "    print(f\"operation duration is {end-start}\")\n",
    "    return res"
   ],
   "metadata": {
    "collapsed": false,
    "pycharm": {
     "name": "#%%\n"
    }
   }
  },
  {
   "cell_type": "code",
   "execution_count": 135,
   "outputs": [
    {
     "name": "stdout",
     "output_type": "stream",
     "text": [
      "+---+-----------------+-----------------+------------------+-----------------+--------------------+----------------+\n",
      "| id|                x|                y|          addition|     soustraction|            multiple|        division|\n",
      "+---+-----------------+-----------------+------------------+-----------------+--------------------+----------------+\n",
      "|  0|3.710369234532471|0.401060051090526| 4.111429285622997|3.309309183441945| 1.48808087476630867| 9.2514056796322|\n",
      "|  1|7.975769828959885|0.620780005870033| 8.596549834829918|7.354989823089852| 4.95119844123974951|12.8479811745575|\n",
      "|  2|7.171375356646551|1.788344735940591| 8.959720092587142|5.383030620705960|12.82489136851293785| 4.0100631676446|\n",
      "|  3|3.636958873390777|3.283184244659680| 6.920143118050457|0.353774628731097|11.94080607159181893| 1.1077535107287|\n",
      "|  4|9.905156945373632|1.353439163856851|11.258596109230483|8.551717781516781|13.40602733401736885| 7.3185091800855|\n",
      "+---+-----------------+-----------------+------------------+-----------------+--------------------+----------------+\n",
      "only showing top 5 rows\n",
      "\n",
      "operation duration is 0.05529522895812988\n"
     ]
    }
   ],
   "source": [
    "decimal_res=df_performance_test(decimal_sample)\n"
   ],
   "metadata": {
    "collapsed": false,
    "pycharm": {
     "name": "#%%\n"
    }
   }
  },
  {
   "cell_type": "code",
   "execution_count": 118,
   "outputs": [
    {
     "name": "stdout",
     "output_type": "stream",
     "text": [
      "root\n",
      " |-- id: long (nullable = false)\n",
      " |-- x: decimal(20,10) (nullable = true)\n",
      " |-- y: decimal(20,10) (nullable = true)\n",
      " |-- addition: decimal(21,10) (nullable = true)\n",
      " |-- soustraction: decimal(21,10) (nullable = true)\n",
      " |-- multiple: decimal(38,17) (nullable = true)\n",
      " |-- division: decimal(38,18) (nullable = true)\n",
      "\n"
     ]
    }
   ],
   "source": [
    "decimal_res.printSchema()"
   ],
   "metadata": {
    "collapsed": false,
    "pycharm": {
     "name": "#%%\n"
    }
   }
  },
  {
   "cell_type": "code",
   "execution_count": 103,
   "outputs": [
    {
     "name": "stdout",
     "output_type": "stream",
     "text": [
      "+---+------------------+------------------+\n",
      "| id|                 x|                 y|\n",
      "+---+------------------+------------------+\n",
      "|  0|3.7103692345324712| 0.401060051090526|\n",
      "|  1| 7.975769828959885| 0.620780005870033|\n",
      "|  2| 7.171375356646551|1.7883447359405913|\n",
      "|  3|3.6369588733907765|3.2831842446596804|\n",
      "|  4| 9.905156945373632| 1.353439163856851|\n",
      "+---+------------------+------------------+\n",
      "only showing top 5 rows\n",
      "\n"
     ]
    }
   ],
   "source": [
    "double_sample=spark.range(0,df_size).withColumn(\"x\",(rand(seed=48) * 10).cast(DoubleType())).withColumn(\"y\",(rand(seed=46) * 10).cast(DoubleType()))\n",
    "double_sample.show(5)"
   ],
   "metadata": {
    "collapsed": false,
    "pycharm": {
     "name": "#%%\n"
    }
   }
  },
  {
   "cell_type": "code",
   "execution_count": 104,
   "outputs": [
    {
     "name": "stdout",
     "output_type": "stream",
     "text": [
      "+---+------------------+------------------+------------------+------------------+------------------+------------------+\n",
      "| id|                 x|                 y|          addition|      soustraction|          multiple|          division|\n",
      "+---+------------------+------------------+------------------+------------------+------------------+------------------+\n",
      "|  0|3.7103692345324712| 0.401060051090526|4.1114292856229975| 3.309309183441945|1.4880808747663088| 9.251405679632196|\n",
      "|  1| 7.975769828959885| 0.620780005870033| 8.596549834829919| 7.354989823089852| 4.951198441239749| 12.84798117455751|\n",
      "|  2| 7.171375356646551|1.7883447359405913| 8.959720092587142| 5.383030620705959| 12.82489136851294| 4.010063167644644|\n",
      "|  3|3.6369588733907765|3.2831842446596804| 6.920143118050457|0.3537746287310961|11.940806071591819|1.1077535107286576|\n",
      "|  4| 9.905156945373632| 1.353439163856851|11.258596109230483|  8.55171778151678|13.406027334017368| 7.318509180085518|\n",
      "+---+------------------+------------------+------------------+------------------+------------------+------------------+\n",
      "only showing top 5 rows\n",
      "\n",
      "operation duration is 0.045064687728881836\n"
     ]
    }
   ],
   "source": [
    "double_res=df_performance_test(double_sample)"
   ],
   "metadata": {
    "collapsed": false,
    "pycharm": {
     "name": "#%%\n"
    }
   }
  },
  {
   "cell_type": "code",
   "execution_count": 105,
   "outputs": [
    {
     "name": "stdout",
     "output_type": "stream",
     "text": [
      "root\n",
      " |-- id: long (nullable = false)\n",
      " |-- x: double (nullable = false)\n",
      " |-- y: double (nullable = false)\n",
      " |-- addition: double (nullable = false)\n",
      " |-- soustraction: double (nullable = false)\n",
      " |-- multiple: double (nullable = false)\n",
      " |-- division: double (nullable = true)\n",
      "\n"
     ]
    }
   ],
   "source": [
    "double_res.printSchema()"
   ],
   "metadata": {
    "collapsed": false,
    "pycharm": {
     "name": "#%%\n"
    }
   }
  },
  {
   "cell_type": "markdown",
   "source": [
    "With the above test, we can conclude that the performance of decimal is highly depends on the precision.\n",
    "For example, with a dataframe of 1,000,000,000 rows, two columns x, y as parameter, to do the four operation (e.g. addition, ...)\n",
    "\n",
    "- For type double, it takes 0.045064687728881836 s\n",
    "- For type decimal,\n",
    "      - with decimal(10,4), it takes 0.04919123649597168 (lose 9.16 percent in time compare to double)\n",
    "      - with decimal(20,10), it takes 0.05225372314453125 (lose 15.95 percent in time compare to double)\n",
    "      - with decimal(25,15), it takes 0.05529522895812988 (lose 22.70 percent in time compare to double)\n",
    "\n"
   ],
   "metadata": {
    "collapsed": false,
    "pycharm": {
     "name": "#%% md\n"
    }
   }
  },
  {
   "cell_type": "code",
   "execution_count": 138,
   "outputs": [],
   "source": [
    "def performance_percent(x,y):\n",
    "    return ((x-y)/y)*100\n"
   ],
   "metadata": {
    "collapsed": false,
    "pycharm": {
     "name": "#%%\n"
    }
   }
  },
  {
   "cell_type": "code",
   "execution_count": 139,
   "outputs": [
    {
     "name": "stdout",
     "output_type": "stream",
     "text": [
      "9.156945215988149\n"
     ]
    }
   ],
   "source": [
    "case1=performance_percent(0.04919123649597168,0.045064687728881836)\n",
    "print(case1)"
   ],
   "metadata": {
    "collapsed": false,
    "pycharm": {
     "name": "#%%\n"
    }
   }
  },
  {
   "cell_type": "code",
   "execution_count": 137,
   "outputs": [
    {
     "name": "stdout",
     "output_type": "stream",
     "text": [
      "15.952702166494722\n"
     ]
    }
   ],
   "source": [
    "case2=performance_percent(0.05225372314453125,0.045064687728881836)\n",
    "print(case2)"
   ],
   "metadata": {
    "collapsed": false,
    "pycharm": {
     "name": "#%%\n"
    }
   }
  },
  {
   "cell_type": "code",
   "execution_count": 141,
   "outputs": [
    {
     "name": "stdout",
     "output_type": "stream",
     "text": [
      "22.70190196545248\n"
     ]
    }
   ],
   "source": [
    "case3=performance_percent(0.05529522895812988,0.045064687728881836)\n",
    "print(case3)"
   ],
   "metadata": {
    "collapsed": false,
    "pycharm": {
     "name": "#%%\n"
    }
   }
  },
  {
   "cell_type": "code",
   "execution_count": null,
   "outputs": [],
   "source": [],
   "metadata": {
    "collapsed": false,
    "pycharm": {
     "name": "#%%\n"
    }
   }
  }
 ],
 "metadata": {
  "kernelspec": {
   "display_name": "Python 3",
   "language": "python",
   "name": "python3"
  },
  "language_info": {
   "codemirror_mode": {
    "name": "ipython",
    "version": 2
   },
   "file_extension": ".py",
   "mimetype": "text/x-python",
   "name": "python",
   "nbconvert_exporter": "python",
   "pygments_lexer": "ipython2",
   "version": "2.7.6"
  }
 },
 "nbformat": 4,
 "nbformat_minor": 0
}