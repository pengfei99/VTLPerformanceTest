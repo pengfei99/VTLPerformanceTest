{
 "cells": [
  {
   "cell_type": "code",
   "execution_count": 2,
   "metadata": {
    "collapsed": true
   },
   "outputs": [],
   "source": [
    "from pyspark.sql import SparkSession\n",
    "import os"
   ]
  },
  {
   "cell_type": "code",
   "execution_count": 3,
   "outputs": [
    {
     "name": "stderr",
     "output_type": "stream",
     "text": [
      "22/03/09 10:58:10 WARN Utils: Your hostname, pliu-SATELLITE-P850 resolves to a loopback address: 127.0.1.1; using 172.22.0.33 instead (on interface wlp3s0)\n",
      "22/03/09 10:58:10 WARN Utils: Set SPARK_LOCAL_IP if you need to bind to another address\n",
      "WARNING: An illegal reflective access operation has occurred\n",
      "WARNING: Illegal reflective access by org.apache.spark.unsafe.Platform (file:/opt/spark/spark-3.1.2/jars/spark-unsafe_2.12-3.1.2.jar) to constructor java.nio.DirectByteBuffer(long,int)\n",
      "WARNING: Please consider reporting this to the maintainers of org.apache.spark.unsafe.Platform\n",
      "WARNING: Use --illegal-access=warn to enable warnings of further illegal reflective access operations\n",
      "WARNING: All illegal access operations will be denied in a future release\n",
      "22/03/09 10:58:11 WARN NativeCodeLoader: Unable to load native-hadoop library for your platform... using builtin-java classes where applicable\n",
      "Using Spark's default log4j profile: org/apache/spark/log4j-defaults.properties\n",
      "Setting default log level to \"WARN\".\n",
      "To adjust logging level use sc.setLogLevel(newLevel). For SparkR, use setLogLevel(newLevel).\n"
     ]
    }
   ],
   "source": [
    "local = True\n",
    "\n",
    "if local:\n",
    "    spark = SparkSession.builder \\\n",
    "        .master(\"local[4]\") \\\n",
    "        .appName(\"SparkDoubleTypeTest\") \\\n",
    "        .getOrCreate()\n",
    "else:\n",
    "    spark = SparkSession.builder \\\n",
    "        .master(\"k8s://https://kubernetes.default.svc:443\") \\\n",
    "        .appName(\"SparkDoubleTypeTest\") \\\n",
    "        .config(\"spark.kubernetes.container.image\", \"inseefrlab/jupyter-datascience:py3.9.7-spark3.2.0\")\\\n",
    "        .config(\"spark.kubernetes.authenticate.driver.serviceAccountName\", os.environ['KUBERNETES_SERVICE_ACCOUNT'])\\\n",
    "        .config(\"spark.executor.instances\", \"4\")\\\n",
    "        .config(\"spark.executor.memory\", \"8g\")\\\n",
    "        .config(\"spark.kubernetes.namespace\", os.environ['KUBERNETES_NAMESPACE'])\\\n",
    "        .getOrCreate()"
   ],
   "metadata": {
    "collapsed": false,
    "pycharm": {
     "name": "#%%\n"
    }
   }
  },
  {
   "cell_type": "code",
   "execution_count": 12,
   "outputs": [],
   "source": [
    "data = [(\"James\", \"Sales\", \"NY\", 900.01, 34, 10000),\n",
    "            (\"Michael\", \"Sales\", \"NY\", 860.02, 56, 20000),\n",
    "            (\"Robert\", \"Sales\", \"CA\", 810.03, 30, 23000),\n",
    "            (\"Maria\", \"Finance\", \"CA\", 900.04, 24, 23000),\n",
    "            (\"Raman\", \"Finance\", \"CA\", 990.05, 40, 24000),\n",
    "            (\"Scott\", \"Finance\", \"NY\", 830.06, 36, 19000),\n",
    "            (\"Jen\", \"Finance\", \"NY\", 790.07, 53, 15000),\n",
    "            (\"Jeff\", \"Marketing\", \"CA\", 800.08, 25, 18000),\n",
    "            (\"Kumar\", \"Marketing\", \"NY\", 910.09, 50, 21000)\n",
    "            ]\n",
    "\n",
    "schema = [\"employee_name\", \"department\", \"state\", \"salary\", \"age\", \"bonus\"]\n",
    "df = spark.createDataFrame(data=data, schema=schema)"
   ],
   "metadata": {
    "collapsed": false,
    "pycharm": {
     "name": "#%%\n"
    }
   }
  },
  {
   "cell_type": "code",
   "execution_count": 13,
   "outputs": [
    {
     "name": "stdout",
     "output_type": "stream",
     "text": [
      "+-------------+----------+-----+------+---+-----+\n",
      "|employee_name|department|state|salary|age|bonus|\n",
      "+-------------+----------+-----+------+---+-----+\n",
      "|        James|     Sales|   NY|900.01| 34|10000|\n",
      "|      Michael|     Sales|   NY|860.02| 56|20000|\n",
      "|       Robert|     Sales|   CA|810.03| 30|23000|\n",
      "|        Maria|   Finance|   CA|900.04| 24|23000|\n",
      "|        Raman|   Finance|   CA|990.05| 40|24000|\n",
      "+-------------+----------+-----+------+---+-----+\n",
      "only showing top 5 rows\n",
      "\n"
     ]
    }
   ],
   "source": [
    "df.show(5)"
   ],
   "metadata": {
    "collapsed": false,
    "pycharm": {
     "name": "#%%\n"
    }
   }
  },
  {
   "cell_type": "code",
   "execution_count": 14,
   "outputs": [
    {
     "name": "stdout",
     "output_type": "stream",
     "text": [
      "root\n",
      " |-- employee_name: string (nullable = true)\n",
      " |-- department: string (nullable = true)\n",
      " |-- state: string (nullable = true)\n",
      " |-- salary: double (nullable = true)\n",
      " |-- age: long (nullable = true)\n",
      " |-- bonus: long (nullable = true)\n",
      "\n"
     ]
    }
   ],
   "source": [
    "df.printSchema()"
   ],
   "metadata": {
    "collapsed": false,
    "pycharm": {
     "name": "#%%\n"
    }
   }
  },
  {
   "cell_type": "code",
   "execution_count": 15,
   "outputs": [
    {
     "name": "stdout",
     "output_type": "stream",
     "text": [
      "+-------------+----------+-----+------+---+-----+-----------------+-----------------+\n",
      "|employee_name|department|state|salary|age|bonus|    raised_salary|   reduced_salary|\n",
      "+-------------+----------+-----+------+---+-----+-----------------+-----------------+\n",
      "|        James|     Sales|   NY|900.01| 34|10000|           900.11|           899.91|\n",
      "|      Michael|     Sales|   NY|860.02| 56|20000|           860.12|           859.92|\n",
      "|       Robert|     Sales|   CA|810.03| 30|23000|           810.13|           809.93|\n",
      "|        Maria|   Finance|   CA|900.04| 24|23000|           900.14|899.9399999999999|\n",
      "|        Raman|   Finance|   CA|990.05| 40|24000|           990.15|989.9499999999999|\n",
      "|        Scott|   Finance|   NY|830.06| 36|19000|           830.16|829.9599999999999|\n",
      "|          Jen|   Finance|   NY|790.07| 53|15000|790.1700000000001|           789.97|\n",
      "|         Jeff| Marketing|   CA|800.08| 25|18000|800.1800000000001|           799.98|\n",
      "|        Kumar| Marketing|   NY|910.09| 50|21000|           910.19|           909.99|\n",
      "+-------------+----------+-----+------+---+-----+-----------------+-----------------+\n",
      "\n"
     ]
    }
   ],
   "source": [
    "from pyspark.sql.functions import col\n",
    "df.withColumn(\"raised_salary\",col(\"salary\")+0.1)\\\n",
    "    .withColumn(\"reduced_salary\",col(\"salary\")-0.1).show()"
   ],
   "metadata": {
    "collapsed": false,
    "pycharm": {
     "name": "#%%\n"
    }
   }
  },
  {
   "cell_type": "markdown",
   "source": [
    "You can notice after the addition or soustraction with 0.1, many results are wrong. Because the underlying spark engine is implemented by using Scala.\n",
    "\n",
    "**In scala, double is internally stored as a fraction in binary -- like 1/4=0.25 + 1/8=0.125 + 1/16=0.0625 + ...**\n",
    "\n",
    "As a result, the value 829.94 -- or the value 789.96 -- cannot be stored as an exact fraction in binary, so double cannot store the exact value 0.94 or 0.96, and the subtracted value isn't quite exact.\n",
    "\n",
    "If you want to get exact precise decimal arithmetic, convert column type from double/float to DecimalType. For all supported column type in spark: https://spark.apache.org/docs/latest/sql-ref-datatypes.html\n",
    "\n",
    "In fact, this is a general problem for many programing language. For more detail about float calculation, you can visit this https://docs.oracle.com/cd/E19957-01/806-3568/ncg_goldberg.html"
   ],
   "metadata": {
    "collapsed": false,
    "pycharm": {
     "name": "#%% md\n"
    }
   }
  },
  {
   "cell_type": "code",
   "execution_count": null,
   "outputs": [],
   "source": [],
   "metadata": {
    "collapsed": false,
    "pycharm": {
     "name": "#%%\n"
    }
   }
  }
 ],
 "metadata": {
  "kernelspec": {
   "display_name": "Python 3",
   "language": "python",
   "name": "python3"
  },
  "language_info": {
   "codemirror_mode": {
    "name": "ipython",
    "version": 2
   },
   "file_extension": ".py",
   "mimetype": "text/x-python",
   "name": "python",
   "nbconvert_exporter": "python",
   "pygments_lexer": "ipython2",
   "version": "2.7.6"
  }
 },
 "nbformat": 4,
 "nbformat_minor": 0
}